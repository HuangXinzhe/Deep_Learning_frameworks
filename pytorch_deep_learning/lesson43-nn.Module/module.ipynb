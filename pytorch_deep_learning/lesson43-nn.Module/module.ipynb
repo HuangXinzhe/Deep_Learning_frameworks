{
 "cells": [
  {
   "cell_type": "markdown",
   "id": "6bd253f5",
   "metadata": {},
   "source": [
    "# nn.module"
   ]
  },
  {
   "cell_type": "code",
   "execution_count": 2,
   "id": "8eed8378",
   "metadata": {},
   "outputs": [],
   "source": [
    "from torch import nn"
   ]
  },
  {
   "cell_type": "markdown",
   "id": "1c589380",
   "metadata": {},
   "source": [
    "## nn.Module是所有网络层次的父类\n",
    "\n",
    "- Linear\n",
    "- ReLU\n",
    "- Sigmoid\n",
    "- Conv2d\n",
    "- ConvTransposed2d\n",
    "- Dropout\n",
    "- etc"
   ]
  },
  {
   "cell_type": "markdown",
   "id": "f6e6ef0a",
   "metadata": {},
   "source": [
    "## container"
   ]
  },
  {
   "cell_type": "code",
   "execution_count": null,
   "id": "8f6aa56a",
   "metadata": {},
   "outputs": [],
   "source": [
    "self.net = nn.Sequential(\n",
    "    nn.Conv2d(1, 32, 5, 1, 1),\n",
    "    nn.MaxPool2d(2, 2),\n",
    "    nn.ReLU(True),\n",
    "    nn.BatchNorm2d(32),\n",
    "\n",
    ")"
   ]
  },
  {
   "cell_type": "markdown",
   "id": "e679d392",
   "metadata": {},
   "source": [
    "## parameters参数的有效管理"
   ]
  },
  {
   "cell_type": "code",
   "execution_count": 4,
   "id": "faa588ef",
   "metadata": {},
   "outputs": [],
   "source": [
    "net = nn.Sequential(nn.Linear(4, 2), nn.Linear(2, 2))"
   ]
  },
  {
   "cell_type": "code",
   "execution_count": 5,
   "id": "84fc960d",
   "metadata": {},
   "outputs": [
    {
     "data": {
      "text/plain": [
       "torch.Size([2, 4])"
      ]
     },
     "execution_count": 5,
     "metadata": {},
     "output_type": "execute_result"
    }
   ],
   "source": [
    "list(net.parameters())[0].shape"
   ]
  },
  {
   "cell_type": "code",
   "execution_count": 6,
   "id": "c7d04fe0",
   "metadata": {},
   "outputs": [
    {
     "data": {
      "text/plain": [
       "torch.Size([2])"
      ]
     },
     "execution_count": 6,
     "metadata": {},
     "output_type": "execute_result"
    }
   ],
   "source": [
    "list(net.parameters())[3].shape"
   ]
  },
  {
   "cell_type": "code",
   "execution_count": 9,
   "id": "5ae8c8bb",
   "metadata": {},
   "outputs": [
    {
     "data": {
      "text/plain": [
       "[Parameter containing:\n",
       " tensor([[ 0.0395,  0.3533, -0.3600,  0.4204],\n",
       "         [ 0.0567,  0.1942,  0.1561,  0.2454]], requires_grad=True),\n",
       " Parameter containing:\n",
       " tensor([-0.0101,  0.1221], requires_grad=True),\n",
       " Parameter containing:\n",
       " tensor([[0.2022, 0.6574],\n",
       "         [0.1582, 0.3844]], requires_grad=True),\n",
       " Parameter containing:\n",
       " tensor([0.3975, 0.1698], requires_grad=True)]"
      ]
     },
     "execution_count": 9,
     "metadata": {},
     "output_type": "execute_result"
    }
   ],
   "source": [
    "list(net.parameters())"
   ]
  },
  {
   "cell_type": "code",
   "execution_count": 10,
   "id": "a805715f",
   "metadata": {},
   "outputs": [
    {
     "data": {
      "text/plain": [
       "('0.weight',\n",
       " Parameter containing:\n",
       " tensor([[ 0.0395,  0.3533, -0.3600,  0.4204],\n",
       "         [ 0.0567,  0.1942,  0.1561,  0.2454]], requires_grad=True))"
      ]
     },
     "execution_count": 10,
     "metadata": {},
     "output_type": "execute_result"
    }
   ],
   "source": [
    "# net.parameters()返回所有参数\n",
    "# 没有名字的参数\n",
    "# 有名字的参数\n",
    "list(net.named_parameters())[0]"
   ]
  },
  {
   "cell_type": "code",
   "execution_count": 11,
   "id": "7e98c762",
   "metadata": {},
   "outputs": [
    {
     "data": {
      "text/plain": [
       "('0.bias',\n",
       " Parameter containing:\n",
       " tensor([-0.0101,  0.1221], requires_grad=True))"
      ]
     },
     "execution_count": 11,
     "metadata": {},
     "output_type": "execute_result"
    }
   ],
   "source": [
    "list(net.named_parameters())[1]"
   ]
  },
  {
   "cell_type": "code",
   "execution_count": 12,
   "id": "5bde264d",
   "metadata": {},
   "outputs": [
    {
     "data": {
      "text/plain": [
       "dict_items([('0.weight', Parameter containing:\n",
       "tensor([[ 0.0395,  0.3533, -0.3600,  0.4204],\n",
       "        [ 0.0567,  0.1942,  0.1561,  0.2454]], requires_grad=True)), ('0.bias', Parameter containing:\n",
       "tensor([-0.0101,  0.1221], requires_grad=True)), ('1.weight', Parameter containing:\n",
       "tensor([[0.2022, 0.6574],\n",
       "        [0.1582, 0.3844]], requires_grad=True)), ('1.bias', Parameter containing:\n",
       "tensor([0.3975, 0.1698], requires_grad=True))])"
      ]
     },
     "execution_count": 12,
     "metadata": {},
     "output_type": "execute_result"
    }
   ],
   "source": [
    "dict(net.named_parameters()).items()"
   ]
  },
  {
   "cell_type": "markdown",
   "id": "b2218efb",
   "metadata": {},
   "source": [
    "## to(device)"
   ]
  },
  {
   "cell_type": "code",
   "execution_count": null,
   "id": "ca5fb039",
   "metadata": {},
   "outputs": [],
   "source": [
    "device = torch.device('cuda')\n",
    "net = Net()\n",
    "net.to(device)"
   ]
  },
  {
   "cell_type": "markdown",
   "id": "11a62381",
   "metadata": {},
   "source": [
    "## save and load"
   ]
  },
  {
   "cell_type": "code",
   "execution_count": null,
   "id": "f38f805d",
   "metadata": {},
   "outputs": [],
   "source": [
    "device = torch.device('cuda')\n",
    "net = Net()\n",
    "net.to(device)\n",
    "\n",
    "# 判断是否有现有模型，如果有的话加载当前已有模型\n",
    "net.load_state_dict(torch.load('ckpt.mdl'))\n",
    "\n",
    "# train\n",
    "# 保存当前已训练的模型\n",
    "torch.save(net.state_dict(), 'ckpt.mdl')"
   ]
  },
  {
   "cell_type": "markdown",
   "id": "e12e4938",
   "metadata": {},
   "source": [
    "## train/test\n",
    "训练与测试切换"
   ]
  },
  {
   "cell_type": "code",
   "execution_count": null,
   "id": "8a35da35",
   "metadata": {},
   "outputs": [],
   "source": [
    "device = torch.device('cuda')\n",
    "net = Net()\n",
    "net.to(device)\n",
    "\n",
    "# train\n",
    "net.train()\n",
    "\n",
    "\n",
    "# test\n",
    "net.eval()\n"
   ]
  },
  {
   "cell_type": "markdown",
   "id": "a55abcfe",
   "metadata": {},
   "source": [
    "## implement own layer\n",
    "实现自己的类"
   ]
  },
  {
   "cell_type": "code",
   "execution_count": null,
   "id": "0b9ec920",
   "metadata": {},
   "outputs": [],
   "source": [
    "class Flatten(nn.Module):\n",
    "    def __init__(self):\n",
    "        super(Flatten, self).__init__()\n",
    "        \n",
    "    def forward(self, input):\n",
    "        return input.view(input.size(0), -1)\n",
    "    \n",
    "class TestNet(nn.Module):\n",
    "    def __init__(self):\n",
    "        super(TestNet, self).__init__()\n",
    "        self.net = nn.Sequential(nn.Conv2d(1, 16, stride=1, padding=1),\n",
    "                                 nn.MaxPool2d(2, 2),\n",
    "                                 Flatten(),\n",
    "                                 nn.Linear(1*14*14, 10))\n",
    "    \n",
    "    def forward(self, x):\n",
    "        return self.net(x)"
   ]
  },
  {
   "cell_type": "markdown",
   "id": "26d52247",
   "metadata": {},
   "source": [
    "## own linear layer\n",
    "自己的线性层"
   ]
  },
  {
   "cell_type": "code",
   "execution_count": null,
   "id": "cd6faaae",
   "metadata": {},
   "outputs": [],
   "source": [
    "class MyLinear(nn.Module):\n",
    "    def __init__(self, inp, outp):\n",
    "        super(MyLinear, self).__init__()\n",
    "        \n",
    "        # requires_grad = True\n",
    "        self.w = nn.Parameter(torch.randn(outp, inp))\n",
    "        self.b = nn.Parameter(torch.randn(outp))\n",
    "        \n",
    "    def forward(self, x):\n",
    "        x = x @ self.w.t() + self.b\n",
    "        return x"
   ]
  }
 ],
 "metadata": {
  "kernelspec": {
   "display_name": "Python 3",
   "language": "python",
   "name": "python3"
  },
  "language_info": {
   "codemirror_mode": {
    "name": "ipython",
    "version": 3
   },
   "file_extension": ".py",
   "mimetype": "text/x-python",
   "name": "python",
   "nbconvert_exporter": "python",
   "pygments_lexer": "ipython3",
   "version": "3.8.13"
  }
 },
 "nbformat": 4,
 "nbformat_minor": 5
}
