{
 "cells": [
  {
   "cell_type": "markdown",
   "id": "336b15ed",
   "metadata": {},
   "source": [
    "## 数据增强手段"
   ]
  },
  {
   "cell_type": "markdown",
   "id": "54986ff6",
   "metadata": {},
   "source": [
    "### Flip，翻转"
   ]
  },
  {
   "cell_type": "code",
   "execution_count": null,
   "id": "a8e32b7c",
   "metadata": {},
   "outputs": [],
   "source": [
    "train_loader = torch.utils.data.DataLoader(\n",
    "    datasets.MNIST('../data', train=True, download=True,\n",
    "                   transform=transforms.Compose([\n",
    "                       transforms.RandomHorizontalFlip(),  # 水平翻转，Random，随机，可能做，也可能不做\n",
    "                       transforms.RandomVerticalFlip(),  # 垂直翻转\n",
    "                       transforms.ToTensor(),\n",
    "                       # transforms.Normalize((0.1307,), (0.3081))\n",
    "                   ])),\n",
    "    batch_size=batch_size, shuffle=True)"
   ]
  },
  {
   "cell_type": "markdown",
   "id": "41a32956",
   "metadata": {},
   "source": [
    "### Rotate，旋转"
   ]
  },
  {
   "cell_type": "code",
   "execution_count": null,
   "id": "2bcda86d",
   "metadata": {},
   "outputs": [],
   "source": [
    "train_loader = torch.uitls.data.DataLoader(\n",
    "    datasets.MNIST('../data', train=True, download=True,\n",
    "                   transform=transforms.Compose([\n",
    "                       transforms.RandomHorizontalFilp(),\n",
    "                       transforms.RandomVerticalFilp(),\n",
    "                       transforms.RandomRotation(15),  # 随机旋转-15到15度\n",
    "                       transforms.RandomRotation([90, 180, 270]),  # 随机在90,180和270中选一个旋转\n",
    "                       transforms.ToTensor(),\n",
    "                       # transforms.Normalize((0.1307,), (0.3081))\n",
    "                   ])),\n",
    "    batch_size=batch_size, shuffle=True)"
   ]
  },
  {
   "cell_type": "markdown",
   "id": "84253ed5",
   "metadata": {},
   "source": [
    "### Scale，缩放"
   ]
  },
  {
   "cell_type": "code",
   "execution_count": null,
   "id": "c182ed68",
   "metadata": {},
   "outputs": [],
   "source": [
    "train_loader = torch.uitls.data.DataLoader(\n",
    "    datasets.MNIST('../data', train=True, download=True,\n",
    "                   transform=transforms.Compose([\n",
    "                       transforms.RandomHorizontalFilp(),\n",
    "                       transforms.RandomVerticalFilp(),\n",
    "                       transforms.RandomRotation(15),  # 随机旋转-15到15度\n",
    "                       transforms.RandomRotation([90, 180, 270]),  # 随机在90,180和270中选一个旋转\n",
    "                       transforms.Resize([32, 32]),  # 缩放\n",
    "                       transforms.ToTensor(),\n",
    "                       # transforms.Normalize((0.1307,), (0.3081))\n",
    "                   ])),\n",
    "    batch_size=batch_size, shuffle=True)"
   ]
  },
  {
   "cell_type": "markdown",
   "id": "f410fa9d",
   "metadata": {},
   "source": [
    "### Crop Part，随机的裁剪旋转"
   ]
  },
  {
   "cell_type": "code",
   "execution_count": null,
   "id": "1a9f59a0",
   "metadata": {},
   "outputs": [],
   "source": [
    "train_loader = torch.uitls.data.DataLoader(\n",
    "    datasets.MNIST('../data', train=True, download=True,\n",
    "                   transform=transforms.Compose([\n",
    "                       transforms.RandomHorizontalFilp(),\n",
    "                       transforms.RandomVerticalFilp(),\n",
    "                       transforms.RandomRotation(15),  # 随机旋转-15到15度\n",
    "                       transforms.RandomRotation([90, 180, 270]),  # 随机在90,180和270中选一个旋转\n",
    "                       transforms.Resize([32, 32]),  # 缩放\n",
    "                       transforms.RandomCrop([28, 28]), \n",
    "                       transforms.ToTensor(),\n",
    "                       # transforms.Normalize((0.1307,), (0.3081))\n",
    "                   ])),\n",
    "    batch_size=batch_size, shuffle=True)"
   ]
  },
  {
   "cell_type": "markdown",
   "id": "c0285960",
   "metadata": {},
   "source": [
    "### Noise，增加白噪声，高斯噪声"
   ]
  },
  {
   "cell_type": "markdown",
   "id": "8c551579",
   "metadata": {},
   "source": [
    "## 数据增强有帮助，但是帮助有限"
   ]
  },
  {
   "cell_type": "code",
   "execution_count": null,
   "id": "60df48c2",
   "metadata": {},
   "outputs": [],
   "source": []
  },
  {
   "cell_type": "code",
   "execution_count": null,
   "id": "42670333",
   "metadata": {},
   "outputs": [],
   "source": []
  },
  {
   "cell_type": "code",
   "execution_count": null,
   "id": "8931d7e9",
   "metadata": {},
   "outputs": [],
   "source": []
  },
  {
   "cell_type": "code",
   "execution_count": null,
   "id": "8ebc96b9",
   "metadata": {},
   "outputs": [],
   "source": []
  }
 ],
 "metadata": {
  "kernelspec": {
   "display_name": "Python 3",
   "language": "python",
   "name": "python3"
  },
  "language_info": {
   "codemirror_mode": {
    "name": "ipython",
    "version": 3
   },
   "file_extension": ".py",
   "mimetype": "text/x-python",
   "name": "python",
   "nbconvert_exporter": "python",
   "pygments_lexer": "ipython3",
   "version": "3.8.13"
  }
 },
 "nbformat": 4,
 "nbformat_minor": 5
}
