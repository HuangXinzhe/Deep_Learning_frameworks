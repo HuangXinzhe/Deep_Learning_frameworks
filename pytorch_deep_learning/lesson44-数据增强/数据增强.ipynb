{
 "cells": [
  {
   "cell_type": "markdown",
   "id": "336b15ed",
   "metadata": {},
   "source": [
    "## 数据增强手段\n",
    "- 翻转\n",
    "- "
   ]
  },
  {
   "cell_type": "code",
   "execution_count": null,
   "id": "a8e32b7c",
   "metadata": {},
   "outputs": [],
   "source": [
    "# 翻转\n",
    "train_loader = torch.utils.data.DataLoader(\n",
    "    datasets.MNIST('../data', train=True, download=True,\n",
    "                   transform=transforms.Compose([\n",
    "                       transforms.RandomHorizontalFlip(),\n",
    "                       transforms.RandomVerticalFlip(),\n",
    "                       transforms.ToTensor(),\n",
    "                       # transforms.Normalize((0.1307,), (0.3081))\n",
    "                   ])),\n",
    "    batch_size=batch_size, shuffle=True)"
   ]
  }
 ],
 "metadata": {
  "kernelspec": {
   "display_name": "Python 3",
   "language": "python",
   "name": "python3"
  },
  "language_info": {
   "codemirror_mode": {
    "name": "ipython",
    "version": 3
   },
   "file_extension": ".py",
   "mimetype": "text/x-python",
   "name": "python",
   "nbconvert_exporter": "python",
   "pygments_lexer": "ipython3",
   "version": "3.8.13"
  }
 },
 "nbformat": 4,
 "nbformat_minor": 5
}
