{
 "cells": [
  {
   "cell_type": "markdown",
   "id": "f8376add",
   "metadata": {},
   "source": [
    "# TensorboardX"
   ]
  },
  {
   "cell_type": "code",
   "execution_count": null,
   "id": "71e66328",
   "metadata": {},
   "outputs": [],
   "source": [
    "from tensorboardX import SummaryWriter\n",
    "\n",
    "writer = SummaryWriter()\n",
    "writer.add_scalar('data/scalar1', dummy_s1[0], n_iter)\n",
    "\n",
    "writer.add_scalars('data/scalar_group', {'xsinx': n_iter * np.sin(n_iter),\n",
    "                                         'xcosx': n_iter * np.cos(n_iter),\n",
    "                                         'arctanx': np.arctan(n_iter)\n",
    "                                        }, n_iter)\n",
    "\n",
    "writer.add_image('Image', x, n_iter)\n",
    "writer.add_text('Text', 'text logged at step:' + str(n_iter), n_iter)\n",
    "\n",
    "for name, param in resnet18.named_parameters():\n",
    "    writer.add_histogram(name, param.clone().cpu().data.numpy(), n_iter)\n",
    "\n",
    "writer.close()"
   ]
  },
  {
   "cell_type": "markdown",
   "id": "23c0724d",
   "metadata": {},
   "source": [
    "# 开启visdom服务"
   ]
  },
  {
   "cell_type": "code",
   "execution_count": null,
   "id": "357fde27",
   "metadata": {},
   "outputs": [],
   "source": [
    "python -m visdom.server"
   ]
  },
  {
   "cell_type": "markdown",
   "id": "5639ff4b",
   "metadata": {},
   "source": [
    "# lines:single trace"
   ]
  },
  {
   "cell_type": "code",
   "execution_count": 1,
   "id": "4107d9df",
   "metadata": {},
   "outputs": [],
   "source": [
    "from visdom import Visdom"
   ]
  },
  {
   "cell_type": "code",
   "execution_count": 2,
   "id": "088cbf5f",
   "metadata": {},
   "outputs": [
    {
     "name": "stderr",
     "output_type": "stream",
     "text": [
      "Setting up a new session...\n"
     ]
    }
   ],
   "source": [
    "viz = Visdom()"
   ]
  },
  {
   "cell_type": "code",
   "execution_count": 3,
   "id": "b4ebba5c",
   "metadata": {},
   "outputs": [
    {
     "data": {
      "text/plain": [
       "'train_loss'"
      ]
     },
     "execution_count": 3,
     "metadata": {},
     "output_type": "execute_result"
    }
   ],
   "source": [
    "# 创建一条直线，第一个参数时Y，第二个参数时X，win是ID\n",
    "viz.line([0.], [0.], win='train_loss', opts=dict(title='train loss'))"
   ]
  },
  {
   "cell_type": "code",
   "execution_count": 4,
   "id": "9acaa394",
   "metadata": {},
   "outputs": [
    {
     "ename": "NameError",
     "evalue": "name 'loss' is not defined",
     "output_type": "error",
     "traceback": [
      "\u001b[1;31m---------------------------------------------------------------------------\u001b[0m",
      "\u001b[1;31mNameError\u001b[0m                                 Traceback (most recent call last)",
      "Input \u001b[1;32mIn [4]\u001b[0m, in \u001b[0;36m<cell line: 2>\u001b[1;34m()\u001b[0m\n\u001b[0;32m      1\u001b[0m \u001b[38;5;66;03m#\u001b[39;00m\n\u001b[1;32m----> 2\u001b[0m viz\u001b[38;5;241m.\u001b[39mline([\u001b[43mloss\u001b[49m\u001b[38;5;241m.\u001b[39mitem()], [global_step], win\u001b[38;5;241m=\u001b[39m\u001b[38;5;124m'\u001b[39m\u001b[38;5;124mtrain_loss\u001b[39m\u001b[38;5;124m'\u001b[39m, update\u001b[38;5;241m=\u001b[39m\u001b[38;5;124m'\u001b[39m\u001b[38;5;124mappend\u001b[39m\u001b[38;5;124m'\u001b[39m)\n",
      "\u001b[1;31mNameError\u001b[0m: name 'loss' is not defined"
     ]
    }
   ],
   "source": [
    "# 将数据添加到直线上去\n",
    "viz.line([loss.item()], [global_step], win='train_loss', update='append')"
   ]
  },
  {
   "cell_type": "markdown",
   "id": "f1b3a55e",
   "metadata": {},
   "source": [
    "# lines:multi-traces"
   ]
  },
  {
   "cell_type": "code",
   "execution_count": 5,
   "id": "845c5aa4",
   "metadata": {},
   "outputs": [],
   "source": [
    "from visdom import Visdom"
   ]
  },
  {
   "cell_type": "code",
   "execution_count": null,
   "id": "7f064069",
   "metadata": {},
   "outputs": [],
   "source": [
    "viz = Visdom()\n",
    "viz.line([[0.0, 0.0]], [0.], win='test', opts=dict(title='test loss&acc.',\n",
    "                                                   legend=['loss', 'acc']))\n",
    "viz.line([[test_loss, correct / len(test_loader.dataset)]],\n",
    "         [global_step, win='test', update='append'])"
   ]
  },
  {
   "cell_type": "markdown",
   "id": "e075caaa",
   "metadata": {},
   "source": [
    "# visual X"
   ]
  },
  {
   "cell_type": "code",
   "execution_count": null,
   "id": "2b69bd71",
   "metadata": {},
   "outputs": [],
   "source": [
    "from visdom import Visdom\n",
    "\n",
    "viz = Visdom()\n",
    "\n",
    "viz.images(data.view(-1, 1, 28, 28), win='x')\n",
    "viz.text(str(pred.detach().cpu().numpy()), win='pred',\n",
    "         opts=dict(title='pred'))"
   ]
  }
 ],
 "metadata": {
  "kernelspec": {
   "display_name": "Python 3",
   "language": "python",
   "name": "python3"
  },
  "language_info": {
   "codemirror_mode": {
    "name": "ipython",
    "version": 3
   },
   "file_extension": ".py",
   "mimetype": "text/x-python",
   "name": "python",
   "nbconvert_exporter": "python",
   "pygments_lexer": "ipython3",
   "version": "3.8.13"
  }
 },
 "nbformat": 4,
 "nbformat_minor": 5
}
