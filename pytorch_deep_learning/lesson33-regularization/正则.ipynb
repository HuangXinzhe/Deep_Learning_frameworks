{
 "cells": [
  {
   "cell_type": "markdown",
   "id": "1677498b",
   "metadata": {},
   "source": [
    "# L1"
   ]
  },
  {
   "cell_type": "code",
   "execution_count": null,
   "id": "776a75e7",
   "metadata": {},
   "outputs": [],
   "source": [
    "device = torch.device('cuda:0')\n",
    "net = MLP().to(device)\n",
    "optimizer = optim.SGD(net.parameters(), lr=learning_rate, weight_decay=0.01)\n",
    "criteon = nn.CrossEntropyLoss().to(device)"
   ]
  },
  {
   "cell_type": "markdown",
   "id": "ca09ec13",
   "metadata": {},
   "source": [
    "# L2"
   ]
  },
  {
   "cell_type": "code",
   "execution_count": null,
   "id": "76673abb",
   "metadata": {},
   "outputs": [],
   "source": [
    "regularization_loss = 0\n",
    "for param in model.parameters():\n",
    "    regularization_loss += torch.sum(torch.abs(param))\n",
    "\n",
    "classify_loss = criteon(logits, target)\n",
    "loss = classify_loss + 0.01 * regularization_loss\n",
    "\n",
    "optimizer.zero_grad()\n",
    "loss.backward()\n",
    "optimizer.step()"
   ]
  },
  {
   "cell_type": "code",
   "execution_count": null,
   "id": "2261efed",
   "metadata": {},
   "outputs": [],
   "source": []
  }
 ],
 "metadata": {
  "kernelspec": {
   "display_name": "Python 3",
   "language": "python",
   "name": "python3"
  },
  "language_info": {
   "codemirror_mode": {
    "name": "ipython",
    "version": 3
   },
   "file_extension": ".py",
   "mimetype": "text/x-python",
   "name": "python",
   "nbconvert_exporter": "python",
   "pygments_lexer": "ipython3",
   "version": "3.8.13"
  }
 },
 "nbformat": 4,
 "nbformat_minor": 5
}
