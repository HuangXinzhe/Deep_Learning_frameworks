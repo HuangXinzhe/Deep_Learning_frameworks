{
 "cells": [
  {
   "cell_type": "markdown",
   "id": "ba3fc4f1",
   "metadata": {},
   "source": [
    "# Merge or split"
   ]
  },
  {
   "cell_type": "markdown",
   "id": "933de530",
   "metadata": {},
   "source": [
    "## cat\n",
    "拼接"
   ]
  },
  {
   "cell_type": "code",
   "execution_count": 2,
   "id": "db5df1e6",
   "metadata": {},
   "outputs": [],
   "source": [
    "import torch"
   ]
  },
  {
   "cell_type": "code",
   "execution_count": 3,
   "id": "2d18e05c",
   "metadata": {},
   "outputs": [],
   "source": [
    "a = torch.rand(4, 32, 8)"
   ]
  },
  {
   "cell_type": "code",
   "execution_count": 4,
   "id": "489453c9",
   "metadata": {},
   "outputs": [],
   "source": [
    "b = torch.rand(5, 32, 8)"
   ]
  },
  {
   "cell_type": "code",
   "execution_count": 5,
   "id": "90e71c41",
   "metadata": {},
   "outputs": [
    {
     "data": {
      "text/plain": [
       "torch.Size([9, 32, 8])"
      ]
     },
     "execution_count": 5,
     "metadata": {},
     "output_type": "execute_result"
    }
   ],
   "source": [
    "torch.cat([a, b], dim=0).shape"
   ]
  },
  {
   "cell_type": "code",
   "execution_count": 6,
   "id": "4dced901",
   "metadata": {},
   "outputs": [
    {
     "data": {
      "text/plain": [
       "torch.Size([9, 32, 8])"
      ]
     },
     "execution_count": 6,
     "metadata": {},
     "output_type": "execute_result"
    }
   ],
   "source": [
    "torch.Size([9, 32, 8])"
   ]
  },
  {
   "cell_type": "markdown",
   "id": "14d790b4",
   "metadata": {},
   "source": [
    "## stack\n",
    "创造了一个新的维度"
   ]
  },
  {
   "cell_type": "code",
   "execution_count": 8,
   "id": "6cdfa5bd",
   "metadata": {},
   "outputs": [],
   "source": [
    "a1 = torch.rand(4, 3, 16, 32)\n",
    "a2 = torch.rand(4, 3, 16, 32)"
   ]
  },
  {
   "cell_type": "code",
   "execution_count": 9,
   "id": "83ce7b4e",
   "metadata": {},
   "outputs": [
    {
     "data": {
      "text/plain": [
       "torch.Size([4, 3, 32, 32])"
      ]
     },
     "execution_count": 9,
     "metadata": {},
     "output_type": "execute_result"
    }
   ],
   "source": [
    "torch.cat([a1, a2], dim=2).shape"
   ]
  },
  {
   "cell_type": "code",
   "execution_count": 10,
   "id": "1023a194",
   "metadata": {},
   "outputs": [
    {
     "data": {
      "text/plain": [
       "torch.Size([4, 3, 2, 16, 32])"
      ]
     },
     "execution_count": 10,
     "metadata": {},
     "output_type": "execute_result"
    }
   ],
   "source": [
    "torch.stack([a1, a2], dim=2).shape"
   ]
  },
  {
   "cell_type": "code",
   "execution_count": 11,
   "id": "5d857a75",
   "metadata": {},
   "outputs": [],
   "source": [
    "a = torch.rand(32, 8)"
   ]
  },
  {
   "cell_type": "code",
   "execution_count": 12,
   "id": "4f3d6918",
   "metadata": {},
   "outputs": [],
   "source": [
    "b = torch.rand(32, 8)"
   ]
  },
  {
   "cell_type": "code",
   "execution_count": 13,
   "id": "fd92262c",
   "metadata": {},
   "outputs": [
    {
     "data": {
      "text/plain": [
       "torch.Size([2, 32, 8])"
      ]
     },
     "execution_count": 13,
     "metadata": {},
     "output_type": "execute_result"
    }
   ],
   "source": [
    "torch.stack([a, b], dim=0).shape"
   ]
  },
  {
   "cell_type": "code",
   "execution_count": 14,
   "id": "ae346760",
   "metadata": {},
   "outputs": [
    {
     "data": {
      "text/plain": [
       "torch.Size([2, 32, 8])"
      ]
     },
     "execution_count": 14,
     "metadata": {},
     "output_type": "execute_result"
    }
   ],
   "source": [
    "torch.Size([2, 32, 8])"
   ]
  },
  {
   "cell_type": "markdown",
   "id": "7ad1204a",
   "metadata": {},
   "source": [
    "## Split\n",
    "以长度来拆分"
   ]
  },
  {
   "cell_type": "code",
   "execution_count": 15,
   "id": "497ee099",
   "metadata": {},
   "outputs": [],
   "source": [
    "b = torch.rand(32, 8)"
   ]
  },
  {
   "cell_type": "code",
   "execution_count": 16,
   "id": "388a1cf1",
   "metadata": {},
   "outputs": [
    {
     "data": {
      "text/plain": [
       "torch.Size([32, 8])"
      ]
     },
     "execution_count": 16,
     "metadata": {},
     "output_type": "execute_result"
    }
   ],
   "source": [
    "a.shape"
   ]
  },
  {
   "cell_type": "code",
   "execution_count": 17,
   "id": "514920a1",
   "metadata": {},
   "outputs": [],
   "source": [
    "c = torch.stack([a, b], dim=0)"
   ]
  },
  {
   "cell_type": "code",
   "execution_count": 18,
   "id": "22155d8d",
   "metadata": {},
   "outputs": [
    {
     "data": {
      "text/plain": [
       "torch.Size([2, 32, 8])"
      ]
     },
     "execution_count": 18,
     "metadata": {},
     "output_type": "execute_result"
    }
   ],
   "source": [
    "c.shape"
   ]
  },
  {
   "cell_type": "code",
   "execution_count": 19,
   "id": "1cbd7855",
   "metadata": {},
   "outputs": [],
   "source": [
    "aa, bb = c.split([1, 1], dim=0)"
   ]
  },
  {
   "cell_type": "code",
   "execution_count": 20,
   "id": "0a788fdf",
   "metadata": {},
   "outputs": [
    {
     "data": {
      "text/plain": [
       "torch.Size([1, 32, 8])"
      ]
     },
     "execution_count": 20,
     "metadata": {},
     "output_type": "execute_result"
    }
   ],
   "source": [
    "aa.shape"
   ]
  },
  {
   "cell_type": "code",
   "execution_count": 21,
   "id": "bc86ea67",
   "metadata": {},
   "outputs": [
    {
     "data": {
      "text/plain": [
       "torch.Size([1, 32, 8])"
      ]
     },
     "execution_count": 21,
     "metadata": {},
     "output_type": "execute_result"
    }
   ],
   "source": [
    "bb.shape"
   ]
  },
  {
   "cell_type": "code",
   "execution_count": 22,
   "id": "c59f1b3a",
   "metadata": {},
   "outputs": [],
   "source": [
    "aa, bb = c.split(1, dim=0)"
   ]
  },
  {
   "cell_type": "code",
   "execution_count": 23,
   "id": "bafeea8e",
   "metadata": {},
   "outputs": [
    {
     "data": {
      "text/plain": [
       "(torch.Size([1, 32, 8]), torch.Size([1, 32, 8]))"
      ]
     },
     "execution_count": 23,
     "metadata": {},
     "output_type": "execute_result"
    }
   ],
   "source": [
    "aa.shape, bb.shape"
   ]
  },
  {
   "cell_type": "code",
   "execution_count": 24,
   "id": "193db4b4",
   "metadata": {},
   "outputs": [
    {
     "ename": "ValueError",
     "evalue": "not enough values to unpack (expected 2, got 1)",
     "output_type": "error",
     "traceback": [
      "\u001b[1;31m---------------------------------------------------------------------------\u001b[0m",
      "\u001b[1;31mValueError\u001b[0m                                Traceback (most recent call last)",
      "Input \u001b[1;32mIn [24]\u001b[0m, in \u001b[0;36m<cell line: 1>\u001b[1;34m()\u001b[0m\n\u001b[1;32m----> 1\u001b[0m aa, bb \u001b[38;5;241m=\u001b[39m c\u001b[38;5;241m.\u001b[39msplit(\u001b[38;5;241m2\u001b[39m, dim\u001b[38;5;241m=\u001b[39m\u001b[38;5;241m0\u001b[39m)\n",
      "\u001b[1;31mValueError\u001b[0m: not enough values to unpack (expected 2, got 1)"
     ]
    }
   ],
   "source": [
    "aa, bb = c.split(2, dim=0)"
   ]
  },
  {
   "cell_type": "markdown",
   "id": "c1fd2b13",
   "metadata": {},
   "source": [
    "## Chunk\n",
    "以数量来拆分"
   ]
  },
  {
   "cell_type": "code",
   "execution_count": 25,
   "id": "0d74042a",
   "metadata": {},
   "outputs": [],
   "source": [
    "b = torch.rand(32, 8)"
   ]
  },
  {
   "cell_type": "code",
   "execution_count": 26,
   "id": "24fe4aff",
   "metadata": {},
   "outputs": [
    {
     "data": {
      "text/plain": [
       "torch.Size([32, 8])"
      ]
     },
     "execution_count": 26,
     "metadata": {},
     "output_type": "execute_result"
    }
   ],
   "source": [
    "a.shape"
   ]
  },
  {
   "cell_type": "code",
   "execution_count": 28,
   "id": "2a3c97d5",
   "metadata": {},
   "outputs": [],
   "source": [
    "c = torch.stack([a, b], dim=0)"
   ]
  },
  {
   "cell_type": "code",
   "execution_count": 29,
   "id": "3b3f477e",
   "metadata": {},
   "outputs": [
    {
     "data": {
      "text/plain": [
       "torch.Size([2, 32, 8])"
      ]
     },
     "execution_count": 29,
     "metadata": {},
     "output_type": "execute_result"
    }
   ],
   "source": [
    "c.shape"
   ]
  },
  {
   "cell_type": "code",
   "execution_count": 30,
   "id": "47f8c3e0",
   "metadata": {},
   "outputs": [
    {
     "ename": "ValueError",
     "evalue": "not enough values to unpack (expected 2, got 1)",
     "output_type": "error",
     "traceback": [
      "\u001b[1;31m---------------------------------------------------------------------------\u001b[0m",
      "\u001b[1;31mValueError\u001b[0m                                Traceback (most recent call last)",
      "Input \u001b[1;32mIn [30]\u001b[0m, in \u001b[0;36m<cell line: 1>\u001b[1;34m()\u001b[0m\n\u001b[1;32m----> 1\u001b[0m aa, bb \u001b[38;5;241m=\u001b[39m c\u001b[38;5;241m.\u001b[39msplit(\u001b[38;5;241m2\u001b[39m, dim\u001b[38;5;241m=\u001b[39m\u001b[38;5;241m0\u001b[39m)\n",
      "\u001b[1;31mValueError\u001b[0m: not enough values to unpack (expected 2, got 1)"
     ]
    }
   ],
   "source": [
    "aa, bb = c.split(2, dim=0)"
   ]
  },
  {
   "cell_type": "code",
   "execution_count": 31,
   "id": "2cfa4b17",
   "metadata": {},
   "outputs": [],
   "source": [
    "aa, bb = c.chunk(2, dim=0)"
   ]
  },
  {
   "cell_type": "code",
   "execution_count": 32,
   "id": "82c02537",
   "metadata": {},
   "outputs": [
    {
     "data": {
      "text/plain": [
       "(torch.Size([1, 32, 8]), torch.Size([1, 32, 8]))"
      ]
     },
     "execution_count": 32,
     "metadata": {},
     "output_type": "execute_result"
    }
   ],
   "source": [
    "aa.shape, bb.shape"
   ]
  },
  {
   "cell_type": "code",
   "execution_count": null,
   "id": "08274ca0",
   "metadata": {},
   "outputs": [],
   "source": []
  }
 ],
 "metadata": {
  "kernelspec": {
   "display_name": "Python 3",
   "language": "python",
   "name": "python3"
  },
  "language_info": {
   "codemirror_mode": {
    "name": "ipython",
    "version": 3
   },
   "file_extension": ".py",
   "mimetype": "text/x-python",
   "name": "python",
   "nbconvert_exporter": "python",
   "pygments_lexer": "ipython3",
   "version": "3.8.13"
  }
 },
 "nbformat": 4,
 "nbformat_minor": 5
}
