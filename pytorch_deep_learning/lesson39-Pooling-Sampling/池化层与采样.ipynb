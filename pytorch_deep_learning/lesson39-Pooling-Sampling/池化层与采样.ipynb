{
 "cells": [
  {
   "cell_type": "markdown",
   "id": "43bbd311",
   "metadata": {},
   "source": [
    "# 池化，下采样"
   ]
  },
  {
   "cell_type": "markdown",
   "id": "413b9403",
   "metadata": {},
   "source": [
    "\"\"\"\n",
    "x = out\n",
    "\n",
    "layer = nn.MaxPoo.2d(2, stride=2)\n",
    "\n",
    "out = layer(x)\n",
    "\n",
    "out = F.avg_pool2d(x, 2, stride=2)\n",
    "\"\"\""
   ]
  },
  {
   "cell_type": "markdown",
   "id": "15f44e1f",
   "metadata": {},
   "source": [
    "# 上采样"
   ]
  },
  {
   "cell_type": "code",
   "execution_count": null,
   "id": "672f384a",
   "metadata": {},
   "outputs": [],
   "source": [
    "\"\"\"\n",
    "x = out\n",
    "\n",
    "out = F.interpolate(x, scale_factor=2, mode='nearest')\n",
    "\n",
    "out.shape\n",
    "\n",
    "out = F.interpolate(x, scale_factor=3, mode='nearest')\n",
    "\n",
    "out.shape\n",
    "\n",
    "\"\"\""
   ]
  },
  {
   "cell_type": "markdown",
   "id": "c17b25d0",
   "metadata": {},
   "source": [
    "# ReLU\n",
    "将特征图中负的部分去除，把响应低的去除"
   ]
  },
  {
   "cell_type": "code",
   "execution_count": null,
   "id": "c3feb5a3",
   "metadata": {},
   "outputs": [],
   "source": [
    "x.shape\n",
    "\n",
    "layer = nn.ReLU(inplace=True)  # 作用域x上不改变原数据的形状，原地操作可以节省空间\n",
    "\n",
    "out = layer(x)\n",
    "out.shape\n",
    "\n",
    "out = F.relu(x)\n",
    "out.shape"
   ]
  },
  {
   "cell_type": "code",
   "execution_count": null,
   "id": "cd78edfb",
   "metadata": {},
   "outputs": [],
   "source": []
  }
 ],
 "metadata": {
  "kernelspec": {
   "display_name": "Python 3",
   "language": "python",
   "name": "python3"
  },
  "language_info": {
   "codemirror_mode": {
    "name": "ipython",
    "version": 3
   },
   "file_extension": ".py",
   "mimetype": "text/x-python",
   "name": "python",
   "nbconvert_exporter": "python",
   "pygments_lexer": "ipython3",
   "version": "3.8.13"
  }
 },
 "nbformat": 4,
 "nbformat_minor": 5
}
