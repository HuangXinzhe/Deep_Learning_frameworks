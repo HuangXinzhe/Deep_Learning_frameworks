{
 "cells": [
  {
   "cell_type": "code",
   "execution_count": null,
   "id": "d4c8670e",
   "metadata": {},
   "outputs": [],
   "source": [
    "net_dropped = torch.nn.Sequential(\n",
    "    torch.nn.Linear(784, 200),\n",
    "    torch.nn.Drouput(0.5),\n",
    "    torch.nn.ReLU(),\n",
    "    torch.nn.Linear(200, 200),\n",
    "    torch.nn.Drouput(0.5),\n",
    "    torch.nn.ReLU(),\n",
    "    torch.nn.Linear(200, 10),\n",
    ")"
   ]
  },
  {
   "cell_type": "markdown",
   "id": "e9e03fa9",
   "metadata": {},
   "source": [
    "## 在torch.nn.Dropout(p=dropout_prob)中p是丢失率\n",
    "## 在tf.nn.dropout(keep_prob)中是保留率"
   ]
  },
  {
   "cell_type": "code",
   "execution_count": null,
   "id": "586a1d92",
   "metadata": {},
   "outputs": [],
   "source": [
    "# dropout在训练的时候使用，在测试时使用完整的网络\n",
    "for epoch in range(epochs):\n",
    "    \n",
    "    # train\n",
    "    net_dropped.train()\n",
    "    for batch_idx, (data, target) in enumerate(train_loader):\n",
    "        ...\n",
    "    net_dropped.eval()\n",
    "    test_loss = 0\n",
    "    correct = 0\n",
    "    for data, target in test_loader:\n",
    "        ..."
   ]
  },
  {
   "cell_type": "markdown",
   "id": "45b67017",
   "metadata": {},
   "source": [
    "# 随机梯度下降\n",
    "Stochastic Gradient Descent"
   ]
  },
  {
   "cell_type": "code",
   "execution_count": null,
   "id": "5f28a0f8",
   "metadata": {},
   "outputs": [],
   "source": []
  },
  {
   "cell_type": "code",
   "execution_count": null,
   "id": "acf6b441",
   "metadata": {},
   "outputs": [],
   "source": []
  },
  {
   "cell_type": "code",
   "execution_count": null,
   "id": "be3f39c3",
   "metadata": {},
   "outputs": [],
   "source": []
  }
 ],
 "metadata": {
  "kernelspec": {
   "display_name": "Python 3",
   "language": "python",
   "name": "python3"
  },
  "language_info": {
   "codemirror_mode": {
    "name": "ipython",
    "version": 3
   },
   "file_extension": ".py",
   "mimetype": "text/x-python",
   "name": "python",
   "nbconvert_exporter": "python",
   "pygments_lexer": "ipython3",
   "version": "3.8.13"
  }
 },
 "nbformat": 4,
 "nbformat_minor": 5
}
