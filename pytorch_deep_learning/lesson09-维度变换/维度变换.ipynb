{
 "cells": [
  {
   "cell_type": "markdown",
   "id": "ee6fe728",
   "metadata": {},
   "source": [
    "# View reshape"
   ]
  },
  {
   "cell_type": "code",
   "execution_count": 1,
   "id": "8f1417a5",
   "metadata": {},
   "outputs": [],
   "source": [
    "import torch"
   ]
  },
  {
   "cell_type": "code",
   "execution_count": 4,
   "id": "0ef1c683",
   "metadata": {},
   "outputs": [],
   "source": [
    "# 均匀随机初始化\n",
    "a = torch.rand(4, 1, 28, 28)"
   ]
  },
  {
   "cell_type": "code",
   "execution_count": 3,
   "id": "a0f20cb0",
   "metadata": {},
   "outputs": [
    {
     "data": {
      "text/plain": [
       "torch.Size([4, 1, 28, 28])"
      ]
     },
     "execution_count": 3,
     "metadata": {},
     "output_type": "execute_result"
    }
   ],
   "source": [
    "a.shape"
   ]
  },
  {
   "cell_type": "code",
   "execution_count": 4,
   "id": "d6839422",
   "metadata": {},
   "outputs": [
    {
     "data": {
      "text/plain": [
       "tensor([[0.6433, 0.8808, 0.0511,  ..., 0.3921, 0.1033, 0.3169],\n",
       "        [0.6885, 0.0379, 0.8065,  ..., 0.1191, 0.0319, 0.7153],\n",
       "        [0.2190, 0.6243, 0.3316,  ..., 0.3841, 0.5056, 0.0302],\n",
       "        [0.5766, 0.4673, 0.6388,  ..., 0.2591, 0.1887, 0.2810]])"
      ]
     },
     "execution_count": 4,
     "metadata": {},
     "output_type": "execute_result"
    }
   ],
   "source": [
    "a.view(4, 28 * 28)"
   ]
  },
  {
   "cell_type": "code",
   "execution_count": 6,
   "id": "a8651502",
   "metadata": {},
   "outputs": [
    {
     "data": {
      "text/plain": [
       "torch.Size([4, 784])"
      ]
     },
     "execution_count": 6,
     "metadata": {},
     "output_type": "execute_result"
    }
   ],
   "source": [
    "a.view(4, 28 * 28).shape"
   ]
  },
  {
   "cell_type": "code",
   "execution_count": 7,
   "id": "612693d5",
   "metadata": {},
   "outputs": [
    {
     "data": {
      "text/plain": [
       "torch.Size([112, 28])"
      ]
     },
     "execution_count": 7,
     "metadata": {},
     "output_type": "execute_result"
    }
   ],
   "source": [
    "a.view(4*28, 28).shape"
   ]
  },
  {
   "cell_type": "code",
   "execution_count": 8,
   "id": "e20b18ca",
   "metadata": {},
   "outputs": [
    {
     "data": {
      "text/plain": [
       "torch.Size([4, 28, 28])"
      ]
     },
     "execution_count": 8,
     "metadata": {},
     "output_type": "execute_result"
    }
   ],
   "source": [
    "a.view(4*1, 28, 28).shape"
   ]
  },
  {
   "cell_type": "code",
   "execution_count": 9,
   "id": "ea240481",
   "metadata": {},
   "outputs": [],
   "source": [
    "b = a.view(4, 784)"
   ]
  },
  {
   "cell_type": "code",
   "execution_count": 10,
   "id": "e199158f",
   "metadata": {},
   "outputs": [
    {
     "data": {
      "text/plain": [
       "tensor([[[[6.4335e-01],\n",
       "          [8.8077e-01],\n",
       "          [5.1108e-02],\n",
       "          ...,\n",
       "          [4.5895e-01],\n",
       "          [5.6652e-01],\n",
       "          [3.7206e-02]],\n",
       "\n",
       "         [[1.5342e-01],\n",
       "          [4.0835e-01],\n",
       "          [5.9318e-01],\n",
       "          ...,\n",
       "          [2.0960e-01],\n",
       "          [4.1806e-01],\n",
       "          [1.2811e-01]],\n",
       "\n",
       "         [[7.1674e-01],\n",
       "          [8.2527e-01],\n",
       "          [1.6097e-01],\n",
       "          ...,\n",
       "          [7.6300e-01],\n",
       "          [9.4519e-01],\n",
       "          [8.6614e-01]],\n",
       "\n",
       "         ...,\n",
       "\n",
       "         [[1.6746e-01],\n",
       "          [3.9573e-02],\n",
       "          [9.3442e-01],\n",
       "          ...,\n",
       "          [5.5010e-01],\n",
       "          [4.1531e-02],\n",
       "          [1.7911e-01]],\n",
       "\n",
       "         [[2.4814e-01],\n",
       "          [4.3082e-01],\n",
       "          [8.8916e-01],\n",
       "          ...,\n",
       "          [4.5898e-01],\n",
       "          [1.3169e-02],\n",
       "          [8.8321e-01]],\n",
       "\n",
       "         [[2.2563e-01],\n",
       "          [7.0149e-01],\n",
       "          [8.6961e-01],\n",
       "          ...,\n",
       "          [3.9212e-01],\n",
       "          [1.0327e-01],\n",
       "          [3.1692e-01]]],\n",
       "\n",
       "\n",
       "        [[[6.8852e-01],\n",
       "          [3.7863e-02],\n",
       "          [8.0647e-01],\n",
       "          ...,\n",
       "          [3.6433e-01],\n",
       "          [1.3324e-01],\n",
       "          [7.0155e-01]],\n",
       "\n",
       "         [[3.2016e-01],\n",
       "          [8.0796e-01],\n",
       "          [9.0642e-01],\n",
       "          ...,\n",
       "          [5.4321e-01],\n",
       "          [8.9917e-01],\n",
       "          [7.1351e-01]],\n",
       "\n",
       "         [[5.9798e-01],\n",
       "          [8.9453e-01],\n",
       "          [6.2919e-01],\n",
       "          ...,\n",
       "          [8.1137e-02],\n",
       "          [8.3168e-01],\n",
       "          [4.5221e-01]],\n",
       "\n",
       "         ...,\n",
       "\n",
       "         [[6.9702e-01],\n",
       "          [5.3542e-02],\n",
       "          [8.9985e-01],\n",
       "          ...,\n",
       "          [6.0434e-01],\n",
       "          [8.4899e-01],\n",
       "          [9.1458e-01]],\n",
       "\n",
       "         [[9.7367e-01],\n",
       "          [2.5574e-01],\n",
       "          [3.7905e-01],\n",
       "          ...,\n",
       "          [9.0936e-03],\n",
       "          [6.0353e-01],\n",
       "          [5.1413e-01]],\n",
       "\n",
       "         [[3.9825e-01],\n",
       "          [3.6424e-01],\n",
       "          [1.2898e-01],\n",
       "          ...,\n",
       "          [1.1907e-01],\n",
       "          [3.1938e-02],\n",
       "          [7.1530e-01]]],\n",
       "\n",
       "\n",
       "        [[[2.1903e-01],\n",
       "          [6.2428e-01],\n",
       "          [3.3161e-01],\n",
       "          ...,\n",
       "          [2.0754e-04],\n",
       "          [5.7004e-01],\n",
       "          [3.3713e-01]],\n",
       "\n",
       "         [[8.2646e-01],\n",
       "          [4.0442e-02],\n",
       "          [4.7834e-01],\n",
       "          ...,\n",
       "          [1.1003e-01],\n",
       "          [2.6235e-01],\n",
       "          [7.2614e-01]],\n",
       "\n",
       "         [[2.1308e-01],\n",
       "          [3.7963e-01],\n",
       "          [8.2481e-01],\n",
       "          ...,\n",
       "          [3.7223e-01],\n",
       "          [8.8818e-01],\n",
       "          [8.2953e-01]],\n",
       "\n",
       "         ...,\n",
       "\n",
       "         [[5.5581e-02],\n",
       "          [2.1566e-02],\n",
       "          [7.6097e-02],\n",
       "          ...,\n",
       "          [7.1078e-01],\n",
       "          [8.6386e-01],\n",
       "          [2.2118e-01]],\n",
       "\n",
       "         [[9.9793e-01],\n",
       "          [6.3141e-01],\n",
       "          [4.5019e-01],\n",
       "          ...,\n",
       "          [9.8240e-01],\n",
       "          [2.2119e-01],\n",
       "          [4.7175e-01]],\n",
       "\n",
       "         [[7.3715e-01],\n",
       "          [9.7438e-01],\n",
       "          [8.8557e-01],\n",
       "          ...,\n",
       "          [3.8410e-01],\n",
       "          [5.0560e-01],\n",
       "          [3.0199e-02]]],\n",
       "\n",
       "\n",
       "        [[[5.7659e-01],\n",
       "          [4.6735e-01],\n",
       "          [6.3881e-01],\n",
       "          ...,\n",
       "          [7.4188e-01],\n",
       "          [7.8113e-01],\n",
       "          [2.7099e-02]],\n",
       "\n",
       "         [[5.6639e-01],\n",
       "          [7.7334e-01],\n",
       "          [1.4342e-02],\n",
       "          ...,\n",
       "          [5.1677e-01],\n",
       "          [4.4600e-01],\n",
       "          [9.7608e-01]],\n",
       "\n",
       "         [[7.4281e-01],\n",
       "          [2.4131e-01],\n",
       "          [5.4435e-02],\n",
       "          ...,\n",
       "          [9.9578e-02],\n",
       "          [6.3155e-01],\n",
       "          [2.5365e-01]],\n",
       "\n",
       "         ...,\n",
       "\n",
       "         [[7.1734e-01],\n",
       "          [4.1515e-01],\n",
       "          [4.5035e-01],\n",
       "          ...,\n",
       "          [4.7048e-01],\n",
       "          [3.1278e-02],\n",
       "          [8.9948e-01]],\n",
       "\n",
       "         [[6.2753e-03],\n",
       "          [4.6293e-01],\n",
       "          [5.7912e-01],\n",
       "          ...,\n",
       "          [7.8819e-02],\n",
       "          [3.9760e-01],\n",
       "          [3.9711e-01]],\n",
       "\n",
       "         [[4.1101e-01],\n",
       "          [6.5454e-01],\n",
       "          [7.6319e-01],\n",
       "          ...,\n",
       "          [2.5905e-01],\n",
       "          [1.8872e-01],\n",
       "          [2.8097e-01]]]])"
      ]
     },
     "execution_count": 10,
     "metadata": {},
     "output_type": "execute_result"
    }
   ],
   "source": [
    "#维度顺序改变使得数据被破坏\n",
    "b.view(4, 28, 28, 1)"
   ]
  },
  {
   "cell_type": "markdown",
   "id": "748bcb06",
   "metadata": {},
   "source": [
    "# Flexible but prone to corrupt"
   ]
  },
  {
   "cell_type": "code",
   "execution_count": 5,
   "id": "a1142d2d",
   "metadata": {},
   "outputs": [
    {
     "ename": "RuntimeError",
     "evalue": "shape '[4, 783]' is invalid for input of size 3136",
     "output_type": "error",
     "traceback": [
      "\u001b[1;31m---------------------------------------------------------------------------\u001b[0m",
      "\u001b[1;31mRuntimeError\u001b[0m                              Traceback (most recent call last)",
      "Input \u001b[1;32mIn [5]\u001b[0m, in \u001b[0;36m<cell line: 1>\u001b[1;34m()\u001b[0m\n\u001b[1;32m----> 1\u001b[0m \u001b[43ma\u001b[49m\u001b[38;5;241;43m.\u001b[39;49m\u001b[43mview\u001b[49m\u001b[43m(\u001b[49m\u001b[38;5;241;43m4\u001b[39;49m\u001b[43m,\u001b[49m\u001b[43m \u001b[49m\u001b[38;5;241;43m783\u001b[39;49m\u001b[43m)\u001b[49m\n",
      "\u001b[1;31mRuntimeError\u001b[0m: shape '[4, 783]' is invalid for input of size 3136"
     ]
    }
   ],
   "source": [
    "# 维度不一致，出错\n",
    "a.view(4, 783)"
   ]
  },
  {
   "cell_type": "markdown",
   "id": "b2111a7b",
   "metadata": {},
   "source": [
    "# Squeeze vs unsqueeze"
   ]
  },
  {
   "cell_type": "markdown",
   "id": "342da6d5",
   "metadata": {},
   "source": [
    "## unsqueeze\n",
    "维度增加"
   ]
  },
  {
   "cell_type": "code",
   "execution_count": 6,
   "id": "c88a6be7",
   "metadata": {},
   "outputs": [
    {
     "data": {
      "text/plain": [
       "torch.Size([4, 1, 28, 28])"
      ]
     },
     "execution_count": 6,
     "metadata": {},
     "output_type": "execute_result"
    }
   ],
   "source": [
    "a.shape"
   ]
  },
  {
   "cell_type": "code",
   "execution_count": 7,
   "id": "4f5e9150",
   "metadata": {},
   "outputs": [
    {
     "data": {
      "text/plain": [
       "torch.Size([1, 4, 1, 28, 28])"
      ]
     },
     "execution_count": 7,
     "metadata": {},
     "output_type": "execute_result"
    }
   ],
   "source": [
    "a.unsqueeze(0).shape"
   ]
  },
  {
   "cell_type": "code",
   "execution_count": 8,
   "id": "c695141f",
   "metadata": {},
   "outputs": [
    {
     "data": {
      "text/plain": [
       "torch.Size([4, 1, 28, 28, 1])"
      ]
     },
     "execution_count": 8,
     "metadata": {},
     "output_type": "execute_result"
    }
   ],
   "source": [
    "a.unsqueeze(-1).shape"
   ]
  },
  {
   "cell_type": "code",
   "execution_count": 9,
   "id": "2f58bc18",
   "metadata": {},
   "outputs": [
    {
     "data": {
      "text/plain": [
       "torch.Size([4, 1, 28, 28, 1])"
      ]
     },
     "execution_count": 9,
     "metadata": {},
     "output_type": "execute_result"
    }
   ],
   "source": [
    "a.unsqueeze(4).shape"
   ]
  },
  {
   "cell_type": "code",
   "execution_count": 10,
   "id": "d1c6b0c4",
   "metadata": {},
   "outputs": [
    {
     "data": {
      "text/plain": [
       "torch.Size([4, 1, 1, 28, 28])"
      ]
     },
     "execution_count": 10,
     "metadata": {},
     "output_type": "execute_result"
    }
   ],
   "source": [
    "a.unsqueeze(-4).shape"
   ]
  },
  {
   "cell_type": "code",
   "execution_count": 11,
   "id": "14ddce51",
   "metadata": {},
   "outputs": [
    {
     "data": {
      "text/plain": [
       "torch.Size([1, 4, 1, 28, 28])"
      ]
     },
     "execution_count": 11,
     "metadata": {},
     "output_type": "execute_result"
    }
   ],
   "source": [
    "a.unsqueeze(-5).shape"
   ]
  },
  {
   "cell_type": "code",
   "execution_count": 12,
   "id": "473f3778",
   "metadata": {},
   "outputs": [
    {
     "ename": "IndexError",
     "evalue": "Dimension out of range (expected to be in range of [-5, 4], but got 5)",
     "output_type": "error",
     "traceback": [
      "\u001b[1;31m---------------------------------------------------------------------------\u001b[0m",
      "\u001b[1;31mIndexError\u001b[0m                                Traceback (most recent call last)",
      "Input \u001b[1;32mIn [12]\u001b[0m, in \u001b[0;36m<cell line: 1>\u001b[1;34m()\u001b[0m\n\u001b[1;32m----> 1\u001b[0m \u001b[43ma\u001b[49m\u001b[38;5;241;43m.\u001b[39;49m\u001b[43munsqueeze\u001b[49m\u001b[43m(\u001b[49m\u001b[38;5;241;43m5\u001b[39;49m\u001b[43m)\u001b[49m\u001b[38;5;241m.\u001b[39mshape\n",
      "\u001b[1;31mIndexError\u001b[0m: Dimension out of range (expected to be in range of [-5, 4], but got 5)"
     ]
    }
   ],
   "source": [
    "a.unsqueeze(5).shape"
   ]
  },
  {
   "cell_type": "code",
   "execution_count": 13,
   "id": "1a2f789a",
   "metadata": {},
   "outputs": [],
   "source": [
    "a = torch.tensor([1.2, 2.3])"
   ]
  },
  {
   "cell_type": "code",
   "execution_count": 14,
   "id": "389ad037",
   "metadata": {},
   "outputs": [
    {
     "data": {
      "text/plain": [
       "tensor([[1.2000],\n",
       "        [2.3000]])"
      ]
     },
     "execution_count": 14,
     "metadata": {},
     "output_type": "execute_result"
    }
   ],
   "source": [
    "a.unsqueeze(-1)"
   ]
  },
  {
   "cell_type": "code",
   "execution_count": 15,
   "id": "1a751fd5",
   "metadata": {},
   "outputs": [
    {
     "data": {
      "text/plain": [
       "tensor([[1.2000, 2.3000]])"
      ]
     },
     "execution_count": 15,
     "metadata": {},
     "output_type": "execute_result"
    }
   ],
   "source": [
    "a.unsqueeze(0)"
   ]
  },
  {
   "cell_type": "markdown",
   "id": "6b338d6c",
   "metadata": {},
   "source": [
    "## For example"
   ]
  },
  {
   "cell_type": "code",
   "execution_count": 16,
   "id": "26279df0",
   "metadata": {},
   "outputs": [],
   "source": [
    "b = torch.rand(32)"
   ]
  },
  {
   "cell_type": "code",
   "execution_count": 17,
   "id": "c0570039",
   "metadata": {},
   "outputs": [],
   "source": [
    "f = torch.rand(4, 32, 14, 14)"
   ]
  },
  {
   "cell_type": "code",
   "execution_count": 18,
   "id": "a2854ef7",
   "metadata": {},
   "outputs": [],
   "source": [
    "b = b.unsqueeze(1).unsqueeze(2).unsqueeze(0)"
   ]
  },
  {
   "cell_type": "code",
   "execution_count": 19,
   "id": "6a3a25e5",
   "metadata": {},
   "outputs": [
    {
     "data": {
      "text/plain": [
       "torch.Size([1, 32, 1, 1])"
      ]
     },
     "execution_count": 19,
     "metadata": {},
     "output_type": "execute_result"
    }
   ],
   "source": [
    "b.shape"
   ]
  },
  {
   "cell_type": "markdown",
   "id": "7571ff7a",
   "metadata": {},
   "source": [
    "## squeeze\n",
    "维度删减"
   ]
  },
  {
   "cell_type": "code",
   "execution_count": 20,
   "id": "e27ae537",
   "metadata": {},
   "outputs": [
    {
     "data": {
      "text/plain": [
       "torch.Size([1, 32, 1, 1])"
      ]
     },
     "execution_count": 20,
     "metadata": {},
     "output_type": "execute_result"
    }
   ],
   "source": [
    "b.shape"
   ]
  },
  {
   "cell_type": "code",
   "execution_count": 21,
   "id": "9c0b439c",
   "metadata": {},
   "outputs": [
    {
     "data": {
      "text/plain": [
       "torch.Size([32])"
      ]
     },
     "execution_count": 21,
     "metadata": {},
     "output_type": "execute_result"
    }
   ],
   "source": [
    "# 删除所有维度为1的维度\n",
    "b.squeeze().shape"
   ]
  },
  {
   "cell_type": "code",
   "execution_count": 22,
   "id": "555f4d5a",
   "metadata": {},
   "outputs": [
    {
     "data": {
      "text/plain": [
       "torch.Size([32, 1, 1])"
      ]
     },
     "execution_count": 22,
     "metadata": {},
     "output_type": "execute_result"
    }
   ],
   "source": [
    "b.squeeze(0).shape"
   ]
  },
  {
   "cell_type": "code",
   "execution_count": 23,
   "id": "01a2f750",
   "metadata": {},
   "outputs": [
    {
     "data": {
      "text/plain": [
       "torch.Size([1, 32, 1])"
      ]
     },
     "execution_count": 23,
     "metadata": {},
     "output_type": "execute_result"
    }
   ],
   "source": [
    "b.squeeze(-1).shape"
   ]
  },
  {
   "cell_type": "code",
   "execution_count": 24,
   "id": "aa347a2d",
   "metadata": {},
   "outputs": [
    {
     "data": {
      "text/plain": [
       "torch.Size([1, 32, 1, 1])"
      ]
     },
     "execution_count": 24,
     "metadata": {},
     "output_type": "execute_result"
    }
   ],
   "source": [
    "# 不能挤压的维度则返回原数据\n",
    "b.squeeze(1).shape"
   ]
  },
  {
   "cell_type": "code",
   "execution_count": 25,
   "id": "52a4af20",
   "metadata": {},
   "outputs": [
    {
     "data": {
      "text/plain": [
       "torch.Size([32, 1, 1])"
      ]
     },
     "execution_count": 25,
     "metadata": {},
     "output_type": "execute_result"
    }
   ],
   "source": [
    "b.squeeze(-4).shape"
   ]
  },
  {
   "cell_type": "markdown",
   "id": "21efe62c",
   "metadata": {},
   "source": [
    "# Expand / repeat\n",
    "维度扩展"
   ]
  },
  {
   "cell_type": "markdown",
   "id": "74885dc3",
   "metadata": {},
   "source": [
    "## expend\n",
    "用时才扩展"
   ]
  },
  {
   "cell_type": "code",
   "execution_count": 26,
   "id": "b80a339a",
   "metadata": {},
   "outputs": [],
   "source": [
    "a = torch.rand(4, 32, 14, 14)"
   ]
  },
  {
   "cell_type": "code",
   "execution_count": 27,
   "id": "bb8a2c64",
   "metadata": {},
   "outputs": [
    {
     "data": {
      "text/plain": [
       "torch.Size([1, 32, 1, 1])"
      ]
     },
     "execution_count": 27,
     "metadata": {},
     "output_type": "execute_result"
    }
   ],
   "source": [
    "b.shape"
   ]
  },
  {
   "cell_type": "code",
   "execution_count": 28,
   "id": "fdb2c14e",
   "metadata": {},
   "outputs": [
    {
     "data": {
      "text/plain": [
       "torch.Size([4, 32, 14, 14])"
      ]
     },
     "execution_count": 28,
     "metadata": {},
     "output_type": "execute_result"
    }
   ],
   "source": [
    "b.expand(4, 32, 14, 14).shape"
   ]
  },
  {
   "cell_type": "code",
   "execution_count": 29,
   "id": "e20b9267",
   "metadata": {},
   "outputs": [
    {
     "data": {
      "text/plain": [
       "torch.Size([1, 32, 1, 1])"
      ]
     },
     "execution_count": 29,
     "metadata": {},
     "output_type": "execute_result"
    }
   ],
   "source": [
    "# 指定维度上不想变化则为-1\n",
    "b.expand(-1, 32, -1, -1).shape"
   ]
  },
  {
   "cell_type": "code",
   "execution_count": 30,
   "id": "7b590b42",
   "metadata": {},
   "outputs": [
    {
     "data": {
      "text/plain": [
       "torch.Size([1, 32, 1, -4])"
      ]
     },
     "execution_count": 30,
     "metadata": {},
     "output_type": "execute_result"
    }
   ],
   "source": [
    "b.expand(-1, 32, -1, -4).shape"
   ]
  },
  {
   "cell_type": "markdown",
   "id": "7d55b372",
   "metadata": {},
   "source": [
    "## repeat\n",
    "主动复制，改变了原有数据"
   ]
  },
  {
   "cell_type": "code",
   "execution_count": 31,
   "id": "1c727487",
   "metadata": {},
   "outputs": [
    {
     "data": {
      "text/plain": [
       "torch.Size([1, 32, 1, 1])"
      ]
     },
     "execution_count": 31,
     "metadata": {},
     "output_type": "execute_result"
    }
   ],
   "source": [
    "b.shape"
   ]
  },
  {
   "cell_type": "code",
   "execution_count": 32,
   "id": "d765f696",
   "metadata": {},
   "outputs": [
    {
     "data": {
      "text/plain": [
       "torch.Size([4, 1024, 1, 1])"
      ]
     },
     "execution_count": 32,
     "metadata": {},
     "output_type": "execute_result"
    }
   ],
   "source": [
    "# 每个维度上需要拷贝的次数\n",
    "b.repeat(4, 32, 1, 1).shape"
   ]
  },
  {
   "cell_type": "code",
   "execution_count": 33,
   "id": "50939b04",
   "metadata": {},
   "outputs": [
    {
     "data": {
      "text/plain": [
       "torch.Size([4, 32, 1, 1])"
      ]
     },
     "execution_count": 33,
     "metadata": {},
     "output_type": "execute_result"
    }
   ],
   "source": [
    "b.repeat(4, 1, 1, 1).shape"
   ]
  },
  {
   "cell_type": "code",
   "execution_count": 34,
   "id": "6bbf3b78",
   "metadata": {},
   "outputs": [
    {
     "data": {
      "text/plain": [
       "torch.Size([4, 32, 32, 32])"
      ]
     },
     "execution_count": 34,
     "metadata": {},
     "output_type": "execute_result"
    }
   ],
   "source": [
    "b.repeat(4, 1, 32, 32).shape"
   ]
  },
  {
   "cell_type": "markdown",
   "id": "241e64e8",
   "metadata": {},
   "source": [
    "# .t\n",
    "转置"
   ]
  },
  {
   "cell_type": "code",
   "execution_count": 35,
   "id": "a73790f1",
   "metadata": {},
   "outputs": [
    {
     "ename": "RuntimeError",
     "evalue": "t() expects a tensor with <= 2 dimensions, but self is 4D",
     "output_type": "error",
     "traceback": [
      "\u001b[1;31m---------------------------------------------------------------------------\u001b[0m",
      "\u001b[1;31mRuntimeError\u001b[0m                              Traceback (most recent call last)",
      "Input \u001b[1;32mIn [35]\u001b[0m, in \u001b[0;36m<cell line: 1>\u001b[1;34m()\u001b[0m\n\u001b[1;32m----> 1\u001b[0m \u001b[43mb\u001b[49m\u001b[38;5;241;43m.\u001b[39;49m\u001b[43mt\u001b[49m\u001b[43m(\u001b[49m\u001b[43m)\u001b[49m\n",
      "\u001b[1;31mRuntimeError\u001b[0m: t() expects a tensor with <= 2 dimensions, but self is 4D"
     ]
    }
   ],
   "source": [
    "b.t()"
   ]
  },
  {
   "cell_type": "code",
   "execution_count": 37,
   "id": "1bac1541",
   "metadata": {},
   "outputs": [],
   "source": [
    "a = torch.randn(3, 4)"
   ]
  },
  {
   "cell_type": "code",
   "execution_count": 38,
   "id": "c2ed1d14",
   "metadata": {},
   "outputs": [
    {
     "data": {
      "text/plain": [
       "tensor([[ 0.3701,  0.9084,  3.3079],\n",
       "        [ 0.5992,  2.5736, -0.7211],\n",
       "        [ 0.5155,  0.8203, -0.4993],\n",
       "        [ 0.9709,  0.6069, -1.1415]])"
      ]
     },
     "execution_count": 38,
     "metadata": {},
     "output_type": "execute_result"
    }
   ],
   "source": [
    "a.t()"
   ]
  },
  {
   "cell_type": "markdown",
   "id": "19b6e792",
   "metadata": {},
   "source": [
    "# Transpose\n",
    "维度交换"
   ]
  },
  {
   "cell_type": "code",
   "execution_count": 39,
   "id": "25282b36",
   "metadata": {},
   "outputs": [
    {
     "data": {
      "text/plain": [
       "torch.Size([3, 4])"
      ]
     },
     "execution_count": 39,
     "metadata": {},
     "output_type": "execute_result"
    }
   ],
   "source": [
    "a.shape"
   ]
  },
  {
   "cell_type": "code",
   "execution_count": 42,
   "id": "4918d0b6",
   "metadata": {},
   "outputs": [
    {
     "data": {
      "text/plain": [
       "tensor([[ 0.3701,  0.9084,  3.3079],\n",
       "        [ 0.5992,  2.5736, -0.7211],\n",
       "        [ 0.5155,  0.8203, -0.4993],\n",
       "        [ 0.9709,  0.6069, -1.1415]])"
      ]
     },
     "execution_count": 42,
     "metadata": {},
     "output_type": "execute_result"
    }
   ],
   "source": [
    "a.transpose(0, 1)"
   ]
  },
  {
   "cell_type": "code",
   "execution_count": null,
   "id": "6a10b512",
   "metadata": {},
   "outputs": [],
   "source": [
    "# contiguous()使得数据连续"
   ]
  },
  {
   "cell_type": "code",
   "execution_count": null,
   "id": "5e44e11b",
   "metadata": {},
   "outputs": [],
   "source": [
    "torch.all(torch.eq(a, a1))"
   ]
  },
  {
   "cell_type": "markdown",
   "id": "efe5a60c",
   "metadata": {},
   "source": [
    "# permute\n",
    "指定维度进行交换"
   ]
  },
  {
   "cell_type": "code",
   "execution_count": 44,
   "id": "dde24e26",
   "metadata": {},
   "outputs": [],
   "source": [
    "a = torch.rand(4, 3, 28, 28)"
   ]
  },
  {
   "cell_type": "code",
   "execution_count": 45,
   "id": "508e7b7f",
   "metadata": {},
   "outputs": [
    {
     "data": {
      "text/plain": [
       "torch.Size([4, 28, 28, 3])"
      ]
     },
     "execution_count": 45,
     "metadata": {},
     "output_type": "execute_result"
    }
   ],
   "source": [
    "a.transpose(1, 3).shape"
   ]
  },
  {
   "cell_type": "code",
   "execution_count": 46,
   "id": "de1cae0d",
   "metadata": {},
   "outputs": [],
   "source": [
    "b = torch.rand(4, 3, 28, 32)"
   ]
  },
  {
   "cell_type": "code",
   "execution_count": 47,
   "id": "f7fa538c",
   "metadata": {},
   "outputs": [
    {
     "data": {
      "text/plain": [
       "torch.Size([4, 32, 28, 3])"
      ]
     },
     "execution_count": 47,
     "metadata": {},
     "output_type": "execute_result"
    }
   ],
   "source": [
    "b.transpose(1, 3).shape"
   ]
  },
  {
   "cell_type": "code",
   "execution_count": 48,
   "id": "19e7fb8a",
   "metadata": {},
   "outputs": [
    {
     "data": {
      "text/plain": [
       "torch.Size([4, 28, 32, 3])"
      ]
     },
     "execution_count": 48,
     "metadata": {},
     "output_type": "execute_result"
    }
   ],
   "source": [
    "b.transpose(1, 3).transpose(1, 2).shape"
   ]
  },
  {
   "cell_type": "code",
   "execution_count": 49,
   "id": "0c24d753",
   "metadata": {},
   "outputs": [
    {
     "data": {
      "text/plain": [
       "torch.Size([4, 28, 32, 3])"
      ]
     },
     "execution_count": 49,
     "metadata": {},
     "output_type": "execute_result"
    }
   ],
   "source": [
    "b.permute(0, 2, 3, 1).shape"
   ]
  },
  {
   "cell_type": "code",
   "execution_count": null,
   "id": "72e24d86",
   "metadata": {},
   "outputs": [],
   "source": []
  }
 ],
 "metadata": {
  "kernelspec": {
   "display_name": "Python 3",
   "language": "python",
   "name": "python3"
  },
  "language_info": {
   "codemirror_mode": {
    "name": "ipython",
    "version": 3
   },
   "file_extension": ".py",
   "mimetype": "text/x-python",
   "name": "python",
   "nbconvert_exporter": "python",
   "pygments_lexer": "ipython3",
   "version": "3.8.13"
  }
 },
 "nbformat": 4,
 "nbformat_minor": 5
}
