{
 "cells": [
  {
   "cell_type": "code",
   "execution_count": 15,
   "id": "e4e55262",
   "metadata": {},
   "outputs": [],
   "source": [
    "import torch\n",
    "from torch.nn import functional as F"
   ]
  },
  {
   "cell_type": "code",
   "execution_count": 2,
   "id": "308fba5a",
   "metadata": {},
   "outputs": [],
   "source": [
    "a = torch.full([4], 1/4.)"
   ]
  },
  {
   "cell_type": "code",
   "execution_count": 3,
   "id": "d5c360ff",
   "metadata": {},
   "outputs": [
    {
     "data": {
      "text/plain": [
       "tensor([-0.5000, -0.5000, -0.5000, -0.5000])"
      ]
     },
     "execution_count": 3,
     "metadata": {},
     "output_type": "execute_result"
    }
   ],
   "source": [
    "a * torch.log2(a)"
   ]
  },
  {
   "cell_type": "code",
   "execution_count": 4,
   "id": "1d5bc73d",
   "metadata": {},
   "outputs": [
    {
     "data": {
      "text/plain": [
       "tensor(2.)"
      ]
     },
     "execution_count": 4,
     "metadata": {},
     "output_type": "execute_result"
    }
   ],
   "source": [
    "-(a * torch.log2(a)).sum()"
   ]
  },
  {
   "cell_type": "code",
   "execution_count": 5,
   "id": "13f73401",
   "metadata": {},
   "outputs": [],
   "source": [
    "a = torch.tensor([0.1, 0.1, 0.1, 0.7])"
   ]
  },
  {
   "cell_type": "code",
   "execution_count": 7,
   "id": "10b3b228",
   "metadata": {},
   "outputs": [
    {
     "data": {
      "text/plain": [
       "tensor(1.3568)"
      ]
     },
     "execution_count": 7,
     "metadata": {},
     "output_type": "execute_result"
    }
   ],
   "source": [
    "-(a * torch.log2(a)).sum()"
   ]
  },
  {
   "cell_type": "code",
   "execution_count": 8,
   "id": "e5729ccb",
   "metadata": {},
   "outputs": [],
   "source": [
    "a = torch.tensor([0.001, 0.001, 0.001, 0.999])"
   ]
  },
  {
   "cell_type": "code",
   "execution_count": 9,
   "id": "e49965ec",
   "metadata": {},
   "outputs": [
    {
     "data": {
      "text/plain": [
       "tensor(0.0313)"
      ]
     },
     "execution_count": 9,
     "metadata": {},
     "output_type": "execute_result"
    }
   ],
   "source": [
    "-(a * torch.log2(a)).sum()"
   ]
  },
  {
   "cell_type": "markdown",
   "id": "aaed5bb4",
   "metadata": {},
   "source": [
    "# Numerical Stability"
   ]
  },
  {
   "cell_type": "code",
   "execution_count": 10,
   "id": "c6959636",
   "metadata": {},
   "outputs": [],
   "source": [
    "x = torch.randn(1, 784)"
   ]
  },
  {
   "cell_type": "code",
   "execution_count": 11,
   "id": "168d3166",
   "metadata": {},
   "outputs": [],
   "source": [
    "w = torch.randn(10, 784)"
   ]
  },
  {
   "cell_type": "code",
   "execution_count": 13,
   "id": "c5051570",
   "metadata": {},
   "outputs": [
    {
     "data": {
      "text/plain": [
       "tensor([[ 31.3795,  -7.5488, -43.0791,  19.8137,  -6.9612,  40.1952,  -0.9807,\n",
       "         -31.0063,   0.4351, -17.2227]])"
      ]
     },
     "execution_count": 13,
     "metadata": {},
     "output_type": "execute_result"
    }
   ],
   "source": [
    "logits = x @ w.t()\n",
    "logits"
   ]
  },
  {
   "cell_type": "code",
   "execution_count": 16,
   "id": "907629ae",
   "metadata": {},
   "outputs": [],
   "source": [
    "pred = F.softmax(logits, dim=1)"
   ]
  },
  {
   "cell_type": "code",
   "execution_count": 19,
   "id": "58e1d82a",
   "metadata": {},
   "outputs": [],
   "source": [
    "pred_log = torch.log(pred)"
   ]
  },
  {
   "cell_type": "code",
   "execution_count": 17,
   "id": "3092d370",
   "metadata": {},
   "outputs": [
    {
     "data": {
      "text/plain": [
       "tensor(20.3816)"
      ]
     },
     "execution_count": 17,
     "metadata": {},
     "output_type": "execute_result"
    }
   ],
   "source": [
    "F.cross_entropy(logits, torch.tensor([3]))"
   ]
  },
  {
   "cell_type": "code",
   "execution_count": 20,
   "id": "6fbc204a",
   "metadata": {},
   "outputs": [
    {
     "data": {
      "text/plain": [
       "tensor(20.3816)"
      ]
     },
     "execution_count": 20,
     "metadata": {},
     "output_type": "execute_result"
    }
   ],
   "source": [
    "F.nll_loss(pred_log, torch.tensor([3]))"
   ]
  },
  {
   "cell_type": "code",
   "execution_count": null,
   "id": "5c28d6cd",
   "metadata": {},
   "outputs": [],
   "source": []
  }
 ],
 "metadata": {
  "kernelspec": {
   "display_name": "Python 3",
   "language": "python",
   "name": "python3"
  },
  "language_info": {
   "codemirror_mode": {
    "name": "ipython",
    "version": 3
   },
   "file_extension": ".py",
   "mimetype": "text/x-python",
   "name": "python",
   "nbconvert_exporter": "python",
   "pygments_lexer": "ipython3",
   "version": "3.8.13"
  }
 },
 "nbformat": 4,
 "nbformat_minor": 5
}
