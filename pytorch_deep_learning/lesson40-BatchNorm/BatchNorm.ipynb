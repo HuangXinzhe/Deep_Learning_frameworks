{
 "cells": [
  {
   "cell_type": "markdown",
   "id": "af87d660",
   "metadata": {},
   "source": [
    ">在输入较小或较大时，sigmoid趋于0或1无法得到更新，所以希望将输入控制在有效的范围内\n",
    ">不同类型的输入，因为取值范围的不同会导致取值范围大的更新快，取值范围小的更新慢"
   ]
  },
  {
   "cell_type": "code",
   "execution_count": null,
   "id": "f55e9e6b",
   "metadata": {},
   "outputs": [],
   "source": [
    "normalize = transforms.Normalize(mean=[0.485, 0.456, 0.406],\n",
    "                                 std=[0.229, 0.224, 0.225])"
   ]
  },
  {
   "cell_type": "markdown",
   "id": "ea4c878a",
   "metadata": {},
   "source": [
    "- batch normalization是每个特征上的均值\n",
    "- layer normalization是每个数据上的均值"
   ]
  },
  {
   "cell_type": "code",
   "execution_count": 1,
   "id": "7621d87f",
   "metadata": {},
   "outputs": [],
   "source": [
    "import torch\n",
    "from torch import nn"
   ]
  },
  {
   "cell_type": "code",
   "execution_count": 3,
   "id": "c5d6eef4",
   "metadata": {},
   "outputs": [
    {
     "data": {
      "text/plain": [
       "(tensor([0., 0., 0., 0., 0., 0., 0., 0., 0., 0., 0., 0., 0., 0., 0., 0.]),\n",
       " tensor([1., 1., 1., 1., 1., 1., 1., 1., 1., 1., 1., 1., 1., 1., 1., 1.]))"
      ]
     },
     "execution_count": 3,
     "metadata": {},
     "output_type": "execute_result"
    }
   ],
   "source": [
    "x = torch.randn(100, 16) + 0.5\n",
    "layer = torch.nn.BatchNorm1d(16)\n",
    "layer.running_mean,layer.running_var"
   ]
  },
  {
   "cell_type": "code",
   "execution_count": 4,
   "id": "ed7e2679",
   "metadata": {},
   "outputs": [
    {
     "data": {
      "text/plain": [
       "(tensor([0.0558, 0.0603, 0.0591, 0.0404, 0.0568, 0.0465, 0.0520, 0.0662, 0.0372,\n",
       "         0.0442, 0.0334, 0.0563, 0.0449, 0.0745, 0.0413, 0.0307]),\n",
       " tensor([0.9871, 0.9840, 1.0060, 1.0051, 1.0027, 1.0056, 1.0212, 1.0041, 1.0025,\n",
       "         0.9997, 0.9811, 1.0144, 0.9893, 1.0158, 1.0090, 0.9848]))"
      ]
     },
     "execution_count": 4,
     "metadata": {},
     "output_type": "execute_result"
    }
   ],
   "source": [
    "out = layer(x)\n",
    "\n",
    "layer.running_mean, layer.running_var"
   ]
  },
  {
   "cell_type": "code",
   "execution_count": null,
   "id": "5afac22e",
   "metadata": {},
   "outputs": [],
   "source": []
  },
  {
   "cell_type": "code",
   "execution_count": 5,
   "id": "5582af68",
   "metadata": {},
   "outputs": [
    {
     "data": {
      "text/plain": [
       "(tensor([0.6107, 0.5618, 0.5460, 0.5654, 0.7070, 0.6067, 0.4169, 0.5533, 0.5466,\n",
       "         0.4553, 0.4448, 0.5218, 0.4281, 0.5514, 0.4696, 0.3007]),\n",
       " tensor([0.8532, 0.9968, 0.9732, 1.0582, 0.9644, 1.0080, 1.1559, 1.1453, 0.9836,\n",
       "         0.8804, 0.7287, 0.9900, 1.0344, 0.9313, 0.9879, 0.9415]))"
      ]
     },
     "execution_count": 5,
     "metadata": {},
     "output_type": "execute_result"
    }
   ],
   "source": [
    "x = torch.randn(100, 16) + 0.5\n",
    "layer = torch.nn.BatchNorm1d(16)\n",
    "for i in range(100):\n",
    "    out = layer(x)\n",
    "layer.running_mean, layer.running_var"
   ]
  },
  {
   "cell_type": "markdown",
   "id": "cadd7ec7",
   "metadata": {},
   "source": [
    "# nn.BatchNorm2d"
   ]
  },
  {
   "cell_type": "code",
   "execution_count": null,
   "id": "fa192300",
   "metadata": {},
   "outputs": [],
   "source": [
    "\"\"\"\n",
    "x.shape\n",
    "\n",
    "layer = nn.BatchNorm2d(16)\n",
    "\n",
    "out = layer(x)\n",
    "\n",
    "layer.weight\n",
    "\n",
    "layer.weight.shape\n",
    "\n",
    "layer.bias.shape\n",
    "\n",
    "vars(layer)  # Class variables 各类参数\n",
    "\"\"\""
   ]
  },
  {
   "cell_type": "code",
   "execution_count": null,
   "id": "16a52ac3",
   "metadata": {},
   "outputs": [],
   "source": [
    "# test\n",
    "layer.eval()\n",
    "BatchNorm1d(16, eps=1e-05, momentum=0.1, affine=True, track_running_stats=True)\n",
    "\n",
    "out = layer(x)"
   ]
  },
  {
   "cell_type": "code",
   "execution_count": null,
   "id": "627ee8ec",
   "metadata": {},
   "outputs": [],
   "source": []
  },
  {
   "cell_type": "code",
   "execution_count": null,
   "id": "8b166b1b",
   "metadata": {},
   "outputs": [],
   "source": []
  },
  {
   "cell_type": "code",
   "execution_count": null,
   "id": "d24a0d2c",
   "metadata": {},
   "outputs": [],
   "source": []
  }
 ],
 "metadata": {
  "kernelspec": {
   "display_name": "Python 3",
   "language": "python",
   "name": "python3"
  },
  "language_info": {
   "codemirror_mode": {
    "name": "ipython",
    "version": 3
   },
   "file_extension": ".py",
   "mimetype": "text/x-python",
   "name": "python",
   "nbconvert_exporter": "python",
   "pygments_lexer": "ipython3",
   "version": "3.8.13"
  }
 },
 "nbformat": 4,
 "nbformat_minor": 5
}
