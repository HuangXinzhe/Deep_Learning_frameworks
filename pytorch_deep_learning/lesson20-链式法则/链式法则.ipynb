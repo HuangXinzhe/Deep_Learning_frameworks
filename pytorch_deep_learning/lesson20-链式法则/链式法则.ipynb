{
 "cells": [
  {
   "cell_type": "code",
   "execution_count": 3,
   "id": "4ba627d7",
   "metadata": {},
   "outputs": [],
   "source": [
    "import torch"
   ]
  },
  {
   "cell_type": "code",
   "execution_count": 4,
   "id": "dfadb06c",
   "metadata": {},
   "outputs": [],
   "source": [
    "x = torch.tensor(1.)"
   ]
  },
  {
   "cell_type": "code",
   "execution_count": 5,
   "id": "473cd1b1",
   "metadata": {},
   "outputs": [],
   "source": [
    "w1 = torch.tensor(2., requires_grad=True)"
   ]
  },
  {
   "cell_type": "code",
   "execution_count": 6,
   "id": "f6d6978e",
   "metadata": {},
   "outputs": [],
   "source": [
    "b1 = torch.tensor(1.)"
   ]
  },
  {
   "cell_type": "code",
   "execution_count": 7,
   "id": "e9804d2a",
   "metadata": {},
   "outputs": [],
   "source": [
    "w2 = torch.tensor(2., requires_grad=True)"
   ]
  },
  {
   "cell_type": "code",
   "execution_count": 8,
   "id": "ced4fff7",
   "metadata": {},
   "outputs": [],
   "source": [
    "b2 = torch.tensor(1.)"
   ]
  },
  {
   "cell_type": "code",
   "execution_count": 9,
   "id": "27bcb449",
   "metadata": {},
   "outputs": [],
   "source": [
    "y1 = x * w1 + b1"
   ]
  },
  {
   "cell_type": "code",
   "execution_count": 10,
   "id": "110f6143",
   "metadata": {},
   "outputs": [],
   "source": [
    "y2 = y1 * w2 + b2"
   ]
  },
  {
   "cell_type": "code",
   "execution_count": 12,
   "id": "1158a03d",
   "metadata": {},
   "outputs": [],
   "source": [
    "dy2_dy1 = torch.autograd.grad(y2, [y1], retain_graph=True)[0]"
   ]
  },
  {
   "cell_type": "code",
   "execution_count": 13,
   "id": "5c1d58f6",
   "metadata": {},
   "outputs": [],
   "source": [
    "dy1_dw1 = torch.autograd.grad(y1, [w1], retain_graph=True)[0]"
   ]
  },
  {
   "cell_type": "code",
   "execution_count": 14,
   "id": "98d1b3b5",
   "metadata": {},
   "outputs": [],
   "source": [
    "dy2_dw1 = torch.autograd.grad(y2, [w1], retain_graph=True)[0]"
   ]
  },
  {
   "cell_type": "code",
   "execution_count": 15,
   "id": "e64cedc0",
   "metadata": {},
   "outputs": [
    {
     "data": {
      "text/plain": [
       "tensor(2.)"
      ]
     },
     "execution_count": 15,
     "metadata": {},
     "output_type": "execute_result"
    }
   ],
   "source": [
    "dy2_dw1 * dy1_dw1"
   ]
  },
  {
   "cell_type": "code",
   "execution_count": 16,
   "id": "3f919728",
   "metadata": {},
   "outputs": [
    {
     "data": {
      "text/plain": [
       "tensor(2.)"
      ]
     },
     "execution_count": 16,
     "metadata": {},
     "output_type": "execute_result"
    }
   ],
   "source": [
    "dy2_dw1"
   ]
  },
  {
   "cell_type": "code",
   "execution_count": null,
   "id": "255d3ae2",
   "metadata": {},
   "outputs": [],
   "source": []
  }
 ],
 "metadata": {
  "kernelspec": {
   "display_name": "Python 3",
   "language": "python",
   "name": "python3"
  },
  "language_info": {
   "codemirror_mode": {
    "name": "ipython",
    "version": 3
   },
   "file_extension": ".py",
   "mimetype": "text/x-python",
   "name": "python",
   "nbconvert_exporter": "python",
   "pygments_lexer": "ipython3",
   "version": "3.8.13"
  }
 },
 "nbformat": 4,
 "nbformat_minor": 5
}
