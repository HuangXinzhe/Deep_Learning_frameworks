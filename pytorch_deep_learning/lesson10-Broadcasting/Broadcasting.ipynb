{
 "cells": [
  {
   "cell_type": "markdown",
   "id": "62e9d278",
   "metadata": {},
   "source": [
    "# Broadcasting\n",
    "自动扩展  \n",
    "根据需要插入新的维度  \n",
    "将数据复制成目标数据  \n",
    "从最小维度开始匹配"
   ]
  },
  {
   "cell_type": "code",
   "execution_count": null,
   "id": "e926400e",
   "metadata": {},
   "outputs": [],
   "source": []
  }
 ],
 "metadata": {
  "kernelspec": {
   "display_name": "Python 3",
   "language": "python",
   "name": "python3"
  },
  "language_info": {
   "codemirror_mode": {
    "name": "ipython",
    "version": 3
   },
   "file_extension": ".py",
   "mimetype": "text/x-python",
   "name": "python",
   "nbconvert_exporter": "python",
   "pygments_lexer": "ipython3",
   "version": "3.8.13"
  }
 },
 "nbformat": 4,
 "nbformat_minor": 5
}
