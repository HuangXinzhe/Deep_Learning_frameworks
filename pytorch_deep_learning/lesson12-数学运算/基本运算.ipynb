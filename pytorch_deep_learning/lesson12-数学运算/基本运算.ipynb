{
 "cells": [
  {
   "cell_type": "markdown",
   "id": "a3d61c3b",
   "metadata": {},
   "source": [
    "# Math operation"
   ]
  },
  {
   "cell_type": "markdown",
   "id": "c081d0a0",
   "metadata": {},
   "source": [
    "## basic"
   ]
  },
  {
   "cell_type": "code",
   "execution_count": 2,
   "id": "5dbeb912",
   "metadata": {},
   "outputs": [],
   "source": [
    "import torch"
   ]
  },
  {
   "cell_type": "code",
   "execution_count": 3,
   "id": "fcf5a232",
   "metadata": {},
   "outputs": [],
   "source": [
    "a = torch.rand(3, 4)"
   ]
  },
  {
   "cell_type": "code",
   "execution_count": 4,
   "id": "c55a3a6c",
   "metadata": {},
   "outputs": [],
   "source": [
    "b = torch.rand(4)"
   ]
  },
  {
   "cell_type": "code",
   "execution_count": 5,
   "id": "79158232",
   "metadata": {},
   "outputs": [
    {
     "data": {
      "text/plain": [
       "tensor([[1.4403, 1.0049, 1.2656, 1.2903],\n",
       "        [1.5087, 1.0631, 1.5117, 1.3500],\n",
       "        [0.7348, 1.0678, 0.6932, 1.3969]])"
      ]
     },
     "execution_count": 5,
     "metadata": {},
     "output_type": "execute_result"
    }
   ],
   "source": [
    "a + b"
   ]
  },
  {
   "cell_type": "code",
   "execution_count": 6,
   "id": "6957553e",
   "metadata": {},
   "outputs": [
    {
     "data": {
      "text/plain": [
       "tensor([[1.4403, 1.0049, 1.2656, 1.2903],\n",
       "        [1.5087, 1.0631, 1.5117, 1.3500],\n",
       "        [0.7348, 1.0678, 0.6932, 1.3969]])"
      ]
     },
     "execution_count": 6,
     "metadata": {},
     "output_type": "execute_result"
    }
   ],
   "source": [
    "torch.add(a, b)"
   ]
  },
  {
   "cell_type": "code",
   "execution_count": 7,
   "id": "b4feb458",
   "metadata": {},
   "outputs": [
    {
     "data": {
      "text/plain": [
       "tensor(True)"
      ]
     },
     "execution_count": 7,
     "metadata": {},
     "output_type": "execute_result"
    }
   ],
   "source": [
    "torch.all(torch.eq(a-b, torch.sub(a,b)))"
   ]
  },
  {
   "cell_type": "code",
   "execution_count": 8,
   "id": "3fa03d01",
   "metadata": {},
   "outputs": [
    {
     "data": {
      "text/plain": [
       "tensor(True)"
      ]
     },
     "execution_count": 8,
     "metadata": {},
     "output_type": "execute_result"
    }
   ],
   "source": [
    "torch.all(torch.eq(a*b, torch.mul(a,b)))"
   ]
  },
  {
   "cell_type": "code",
   "execution_count": 9,
   "id": "67cc6284",
   "metadata": {},
   "outputs": [
    {
     "data": {
      "text/plain": [
       "tensor(True)"
      ]
     },
     "execution_count": 9,
     "metadata": {},
     "output_type": "execute_result"
    }
   ],
   "source": [
    "torch.all(torch.eq(a/b, torch.div(a,b)))"
   ]
  },
  {
   "cell_type": "markdown",
   "id": "81e3e9c4",
   "metadata": {},
   "source": [
    "## matmul\n",
    "矩阵相乘"
   ]
  },
  {
   "cell_type": "code",
   "execution_count": 12,
   "id": "633101d9",
   "metadata": {},
   "outputs": [
    {
     "data": {
      "text/plain": [
       "tensor([[3., 3.],\n",
       "        [3., 3.]])"
      ]
     },
     "execution_count": 12,
     "metadata": {},
     "output_type": "execute_result"
    }
   ],
   "source": [
    "a = 3 * torch.ones(2, 2)\n",
    "a"
   ]
  },
  {
   "cell_type": "code",
   "execution_count": 13,
   "id": "a72ac173",
   "metadata": {},
   "outputs": [
    {
     "data": {
      "text/plain": [
       "tensor([[1., 1.],\n",
       "        [1., 1.]])"
      ]
     },
     "execution_count": 13,
     "metadata": {},
     "output_type": "execute_result"
    }
   ],
   "source": [
    "b = torch.ones(2, 2)\n",
    "b"
   ]
  },
  {
   "cell_type": "code",
   "execution_count": 14,
   "id": "906aefbe",
   "metadata": {},
   "outputs": [
    {
     "data": {
      "text/plain": [
       "tensor([[6., 6.],\n",
       "        [6., 6.]])"
      ]
     },
     "execution_count": 14,
     "metadata": {},
     "output_type": "execute_result"
    }
   ],
   "source": [
    "torch.mm(a, b)"
   ]
  },
  {
   "cell_type": "code",
   "execution_count": 15,
   "id": "7e67297c",
   "metadata": {},
   "outputs": [
    {
     "data": {
      "text/plain": [
       "tensor([[6., 6.],\n",
       "        [6., 6.]])"
      ]
     },
     "execution_count": 15,
     "metadata": {},
     "output_type": "execute_result"
    }
   ],
   "source": [
    "torch.matmul(a, b)"
   ]
  },
  {
   "cell_type": "code",
   "execution_count": 16,
   "id": "b133733c",
   "metadata": {},
   "outputs": [
    {
     "data": {
      "text/plain": [
       "tensor([[6., 6.],\n",
       "        [6., 6.]])"
      ]
     },
     "execution_count": 16,
     "metadata": {},
     "output_type": "execute_result"
    }
   ],
   "source": [
    "a@b"
   ]
  },
  {
   "cell_type": "markdown",
   "id": "5ba6c372",
   "metadata": {},
   "source": [
    "## Power"
   ]
  },
  {
   "cell_type": "code",
   "execution_count": 17,
   "id": "97720676",
   "metadata": {},
   "outputs": [],
   "source": [
    "a = torch.full([2, 2], 3)"
   ]
  },
  {
   "cell_type": "code",
   "execution_count": 18,
   "id": "dbda7d92",
   "metadata": {},
   "outputs": [
    {
     "data": {
      "text/plain": [
       "tensor([[9, 9],\n",
       "        [9, 9]])"
      ]
     },
     "execution_count": 18,
     "metadata": {},
     "output_type": "execute_result"
    }
   ],
   "source": [
    "a.pow(2)"
   ]
  },
  {
   "cell_type": "code",
   "execution_count": 19,
   "id": "82a679ac",
   "metadata": {},
   "outputs": [
    {
     "data": {
      "text/plain": [
       "tensor([[9, 9],\n",
       "        [9, 9]])"
      ]
     },
     "execution_count": 19,
     "metadata": {},
     "output_type": "execute_result"
    }
   ],
   "source": [
    "a**2"
   ]
  },
  {
   "cell_type": "code",
   "execution_count": 20,
   "id": "ed199a1a",
   "metadata": {},
   "outputs": [],
   "source": [
    "aa = a**2"
   ]
  },
  {
   "cell_type": "code",
   "execution_count": 21,
   "id": "dafa7d72",
   "metadata": {},
   "outputs": [
    {
     "data": {
      "text/plain": [
       "tensor([[0.3333, 0.3333],\n",
       "        [0.3333, 0.3333]])"
      ]
     },
     "execution_count": 21,
     "metadata": {},
     "output_type": "execute_result"
    }
   ],
   "source": [
    "# 倒数\n",
    "aa.rsqrt()"
   ]
  },
  {
   "cell_type": "code",
   "execution_count": 22,
   "id": "bebe9668",
   "metadata": {},
   "outputs": [
    {
     "data": {
      "text/plain": [
       "tensor([[3., 3.],\n",
       "        [3., 3.]])"
      ]
     },
     "execution_count": 22,
     "metadata": {},
     "output_type": "execute_result"
    }
   ],
   "source": [
    "aa**(0.5)"
   ]
  },
  {
   "cell_type": "markdown",
   "id": "d7c18114",
   "metadata": {},
   "source": [
    "## Exp log"
   ]
  },
  {
   "cell_type": "code",
   "execution_count": 23,
   "id": "f3f16c20",
   "metadata": {},
   "outputs": [],
   "source": [
    "a = torch.exp(torch.ones(2, 2))"
   ]
  },
  {
   "cell_type": "code",
   "execution_count": 24,
   "id": "c68ad7bb",
   "metadata": {},
   "outputs": [
    {
     "data": {
      "text/plain": [
       "tensor([[2.7183, 2.7183],\n",
       "        [2.7183, 2.7183]])"
      ]
     },
     "execution_count": 24,
     "metadata": {},
     "output_type": "execute_result"
    }
   ],
   "source": [
    "a"
   ]
  },
  {
   "cell_type": "code",
   "execution_count": 25,
   "id": "a1cd7178",
   "metadata": {},
   "outputs": [
    {
     "data": {
      "text/plain": [
       "tensor([[1., 1.],\n",
       "        [1., 1.]])"
      ]
     },
     "execution_count": 25,
     "metadata": {},
     "output_type": "execute_result"
    }
   ],
   "source": [
    "torch.log(a)"
   ]
  },
  {
   "cell_type": "markdown",
   "id": "218ac512",
   "metadata": {},
   "source": [
    "## Approximation\n",
    "近似解"
   ]
  },
  {
   "cell_type": "code",
   "execution_count": 26,
   "id": "ff767f1a",
   "metadata": {},
   "outputs": [],
   "source": [
    "a = torch.tensor(3.14)"
   ]
  },
  {
   "cell_type": "code",
   "execution_count": 27,
   "id": "dced5535",
   "metadata": {},
   "outputs": [
    {
     "data": {
      "text/plain": [
       "(tensor(3.), tensor(4.), tensor(3.), tensor(0.1400))"
      ]
     },
     "execution_count": 27,
     "metadata": {},
     "output_type": "execute_result"
    }
   ],
   "source": [
    "a.floor(), a.ceil(), a.trunc(), a.frac()"
   ]
  },
  {
   "cell_type": "code",
   "execution_count": 28,
   "id": "8a6718c9",
   "metadata": {},
   "outputs": [],
   "source": [
    "a = torch.tensor(3.499)"
   ]
  },
  {
   "cell_type": "code",
   "execution_count": 29,
   "id": "033c169a",
   "metadata": {},
   "outputs": [
    {
     "data": {
      "text/plain": [
       "tensor(3.)"
      ]
     },
     "execution_count": 29,
     "metadata": {},
     "output_type": "execute_result"
    }
   ],
   "source": [
    "a.round()"
   ]
  },
  {
   "cell_type": "code",
   "execution_count": 30,
   "id": "6e8d2215",
   "metadata": {},
   "outputs": [],
   "source": [
    "a = torch.tensor(3.5)"
   ]
  },
  {
   "cell_type": "code",
   "execution_count": 31,
   "id": "73fc20e3",
   "metadata": {},
   "outputs": [
    {
     "data": {
      "text/plain": [
       "tensor(4.)"
      ]
     },
     "execution_count": 31,
     "metadata": {},
     "output_type": "execute_result"
    }
   ],
   "source": [
    "a.round()"
   ]
  },
  {
   "cell_type": "markdown",
   "id": "afd18d41",
   "metadata": {},
   "source": []
  },
  {
   "cell_type": "markdown",
   "id": "19e6538f",
   "metadata": {},
   "source": [
    "## clamp\n",
    "梯度裁剪"
   ]
  },
  {
   "cell_type": "code",
   "execution_count": 39,
   "id": "dcba1691",
   "metadata": {},
   "outputs": [
    {
     "data": {
      "text/plain": [
       "tensor([[12.2277,  7.0792,  5.8605],\n",
       "        [ 2.9361,  2.9952, 14.3011]])"
      ]
     },
     "execution_count": 39,
     "metadata": {},
     "output_type": "execute_result"
    }
   ],
   "source": [
    "grad = torch.rand(2, 3)*15\n",
    "grad"
   ]
  },
  {
   "cell_type": "code",
   "execution_count": 40,
   "id": "4b1ea938",
   "metadata": {},
   "outputs": [
    {
     "data": {
      "text/plain": [
       "tensor(14.3011)"
      ]
     },
     "execution_count": 40,
     "metadata": {},
     "output_type": "execute_result"
    }
   ],
   "source": [
    "grad.max()"
   ]
  },
  {
   "cell_type": "code",
   "execution_count": 41,
   "id": "4f0661d5",
   "metadata": {},
   "outputs": [
    {
     "data": {
      "text/plain": [
       "tensor(5.8605)"
      ]
     },
     "execution_count": 41,
     "metadata": {},
     "output_type": "execute_result"
    }
   ],
   "source": [
    "grad.median()"
   ]
  },
  {
   "cell_type": "code",
   "execution_count": 42,
   "id": "7a06f31f",
   "metadata": {},
   "outputs": [
    {
     "data": {
      "text/plain": [
       "tensor([[12.2277, 10.0000, 10.0000],\n",
       "        [10.0000, 10.0000, 14.3011]])"
      ]
     },
     "execution_count": 42,
     "metadata": {},
     "output_type": "execute_result"
    }
   ],
   "source": [
    "# 小于10的均为10\n",
    "grad.clamp(10)"
   ]
  },
  {
   "cell_type": "code",
   "execution_count": 43,
   "id": "e0c1569c",
   "metadata": {},
   "outputs": [
    {
     "data": {
      "text/plain": [
       "tensor([[12.2277,  7.0792,  5.8605],\n",
       "        [ 2.9361,  2.9952, 14.3011]])"
      ]
     },
     "execution_count": 43,
     "metadata": {},
     "output_type": "execute_result"
    }
   ],
   "source": [
    "grad"
   ]
  },
  {
   "cell_type": "code",
   "execution_count": 44,
   "id": "8abc008a",
   "metadata": {},
   "outputs": [
    {
     "data": {
      "text/plain": [
       "tensor([[10.0000,  7.0792,  5.8605],\n",
       "        [ 2.9361,  2.9952, 10.0000]])"
      ]
     },
     "execution_count": 44,
     "metadata": {},
     "output_type": "execute_result"
    }
   ],
   "source": [
    "# 0-10之间\n",
    "grad.clamp(0, 10)"
   ]
  },
  {
   "cell_type": "code",
   "execution_count": null,
   "id": "77a04ee1",
   "metadata": {},
   "outputs": [],
   "source": []
  }
 ],
 "metadata": {
  "kernelspec": {
   "display_name": "Python 3",
   "language": "python",
   "name": "python3"
  },
  "language_info": {
   "codemirror_mode": {
    "name": "ipython",
    "version": 3
   },
   "file_extension": ".py",
   "mimetype": "text/x-python",
   "name": "python",
   "nbconvert_exporter": "python",
   "pygments_lexer": "ipython3",
   "version": "3.8.13"
  }
 },
 "nbformat": 4,
 "nbformat_minor": 5
}
