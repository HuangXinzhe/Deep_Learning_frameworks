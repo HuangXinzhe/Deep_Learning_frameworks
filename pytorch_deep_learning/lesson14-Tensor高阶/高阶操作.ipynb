{
 "cells": [
  {
   "cell_type": "markdown",
   "id": "2ebde616",
   "metadata": {},
   "source": [
    "# Tensor advanced operation"
   ]
  },
  {
   "cell_type": "code",
   "execution_count": 1,
   "id": "d1f644cf",
   "metadata": {},
   "outputs": [],
   "source": [
    "import torch"
   ]
  },
  {
   "cell_type": "markdown",
   "id": "e11fb26c",
   "metadata": {},
   "source": [
    "## where"
   ]
  },
  {
   "cell_type": "code",
   "execution_count": 7,
   "id": "7bfe6a47",
   "metadata": {},
   "outputs": [
    {
     "data": {
      "text/plain": [
       "tensor([[ 1.2833,  1.0058],\n",
       "        [-2.4641, -0.6243]])"
      ]
     },
     "execution_count": 7,
     "metadata": {},
     "output_type": "execute_result"
    }
   ],
   "source": [
    "cond = torch.randn([2, 2])\n",
    "cond"
   ]
  },
  {
   "cell_type": "code",
   "execution_count": 8,
   "id": "e739e2eb",
   "metadata": {},
   "outputs": [
    {
     "data": {
      "text/plain": [
       "tensor([[0., 0.],\n",
       "        [0., 0.]])"
      ]
     },
     "execution_count": 8,
     "metadata": {},
     "output_type": "execute_result"
    }
   ],
   "source": [
    "a = torch.zeros([2, 2])\n",
    "a"
   ]
  },
  {
   "cell_type": "code",
   "execution_count": 9,
   "id": "c2a5353a",
   "metadata": {},
   "outputs": [
    {
     "data": {
      "text/plain": [
       "tensor([[1., 1.],\n",
       "        [1., 1.]])"
      ]
     },
     "execution_count": 9,
     "metadata": {},
     "output_type": "execute_result"
    }
   ],
   "source": [
    "b = torch.ones([2, 2])\n",
    "b"
   ]
  },
  {
   "cell_type": "code",
   "execution_count": 10,
   "id": "81c588f4",
   "metadata": {},
   "outputs": [
    {
     "data": {
      "text/plain": [
       "tensor([[0., 0.],\n",
       "        [1., 1.]])"
      ]
     },
     "execution_count": 10,
     "metadata": {},
     "output_type": "execute_result"
    }
   ],
   "source": [
    "torch.where(cond>0.5, a, b)"
   ]
  },
  {
   "cell_type": "markdown",
   "id": "aa36317d",
   "metadata": {},
   "source": [
    "## gather\n",
    "收集"
   ]
  },
  {
   "cell_type": "code",
   "execution_count": 6,
   "id": "2bfbb85a",
   "metadata": {},
   "outputs": [
    {
     "data": {
      "text/plain": [
       "tensor([[-0.9659,  0.2296, -0.8496, -0.4277,  0.4460,  2.1055, -1.0179, -1.4176,\n",
       "         -2.0383, -0.3947],\n",
       "        [ 0.6768, -0.5820, -0.8162, -0.9943,  1.1446, -1.1688,  1.9301, -1.6577,\n",
       "         -1.6047,  1.4062],\n",
       "        [-0.6329,  1.1607, -0.8022,  1.0206, -0.4642,  0.8757, -0.4628,  0.8437,\n",
       "         -1.2622,  0.2094],\n",
       "        [ 1.6428,  0.7913, -1.1666, -1.6498,  0.4509,  0.2161,  0.6752, -0.6746,\n",
       "         -0.8898,  0.7637]])"
      ]
     },
     "execution_count": 6,
     "metadata": {},
     "output_type": "execute_result"
    }
   ],
   "source": [
    "prob = torch.randn(4, 10)\n",
    "prob"
   ]
  },
  {
   "cell_type": "code",
   "execution_count": 12,
   "id": "b5d016d0",
   "metadata": {},
   "outputs": [
    {
     "data": {
      "text/plain": [
       "torch.return_types.topk(\n",
       "values=tensor([[2.1055, 0.4460, 0.2296],\n",
       "        [1.9301, 1.4062, 1.1446],\n",
       "        [1.1607, 1.0206, 0.8757],\n",
       "        [1.6428, 0.7913, 0.7637]]),\n",
       "indices=tensor([[5, 4, 1],\n",
       "        [6, 9, 4],\n",
       "        [1, 3, 5],\n",
       "        [0, 1, 9]]))"
      ]
     },
     "execution_count": 12,
     "metadata": {},
     "output_type": "execute_result"
    }
   ],
   "source": [
    "idx = prob.topk(dim=1, k=3)\n",
    "idx"
   ]
  },
  {
   "cell_type": "code",
   "execution_count": 13,
   "id": "11f08178",
   "metadata": {},
   "outputs": [
    {
     "data": {
      "text/plain": [
       "tensor([[5, 4, 1],\n",
       "        [6, 9, 4],\n",
       "        [1, 3, 5],\n",
       "        [0, 1, 9]])"
      ]
     },
     "execution_count": 13,
     "metadata": {},
     "output_type": "execute_result"
    }
   ],
   "source": [
    "idx = idx[1]\n",
    "idx"
   ]
  },
  {
   "cell_type": "code",
   "execution_count": 14,
   "id": "21c6842b",
   "metadata": {},
   "outputs": [
    {
     "data": {
      "text/plain": [
       "tensor([100, 101, 102, 103, 104, 105, 106, 107, 108, 109])"
      ]
     },
     "execution_count": 14,
     "metadata": {},
     "output_type": "execute_result"
    }
   ],
   "source": [
    "label = torch.arange(10)+100\n",
    "label"
   ]
  },
  {
   "cell_type": "code",
   "execution_count": 15,
   "id": "32132fb9",
   "metadata": {},
   "outputs": [
    {
     "data": {
      "text/plain": [
       "tensor([[105, 104, 101],\n",
       "        [106, 109, 104],\n",
       "        [101, 103, 105],\n",
       "        [100, 101, 109]])"
      ]
     },
     "execution_count": 15,
     "metadata": {},
     "output_type": "execute_result"
    }
   ],
   "source": [
    "torch.gather(label.expand(4, 10), dim=1, index=idx.long())"
   ]
  },
  {
   "cell_type": "code",
   "execution_count": null,
   "id": "d28480e0",
   "metadata": {},
   "outputs": [],
   "source": []
  }
 ],
 "metadata": {
  "kernelspec": {
   "display_name": "Python 3",
   "language": "python",
   "name": "python3"
  },
  "language_info": {
   "codemirror_mode": {
    "name": "ipython",
    "version": 3
   },
   "file_extension": ".py",
   "mimetype": "text/x-python",
   "name": "python",
   "nbconvert_exporter": "python",
   "pygments_lexer": "ipython3",
   "version": "3.8.13"
  }
 },
 "nbformat": 4,
 "nbformat_minor": 5
}
