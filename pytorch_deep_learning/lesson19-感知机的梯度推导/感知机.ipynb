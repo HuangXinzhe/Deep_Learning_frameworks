{
 "cells": [
  {
   "cell_type": "markdown",
   "id": "1a21c69a",
   "metadata": {},
   "source": [
    "# 单输出感知机"
   ]
  },
  {
   "cell_type": "code",
   "execution_count": 7,
   "id": "159faac0",
   "metadata": {},
   "outputs": [],
   "source": [
    "import torch\n",
    "from torch.nn import functional as F"
   ]
  },
  {
   "cell_type": "code",
   "execution_count": 3,
   "id": "5501e29f",
   "metadata": {},
   "outputs": [],
   "source": [
    "x = torch.randn(1, 10)"
   ]
  },
  {
   "cell_type": "code",
   "execution_count": 4,
   "id": "f8d79d1b",
   "metadata": {},
   "outputs": [],
   "source": [
    "w = torch.randn(1, 10, requires_grad=True)"
   ]
  },
  {
   "cell_type": "code",
   "execution_count": 5,
   "id": "dd70b898",
   "metadata": {},
   "outputs": [
    {
     "data": {
      "text/plain": [
       "torch.Size([1, 1])"
      ]
     },
     "execution_count": 5,
     "metadata": {},
     "output_type": "execute_result"
    }
   ],
   "source": [
    "o = torch.sigmoid(x@w.t())\n",
    "o.shape"
   ]
  },
  {
   "cell_type": "code",
   "execution_count": 8,
   "id": "e5a93d1a",
   "metadata": {},
   "outputs": [],
   "source": [
    "loss = F.mse_loss(torch.ones(1, 1), o)"
   ]
  },
  {
   "cell_type": "code",
   "execution_count": 9,
   "id": "148c2aaf",
   "metadata": {},
   "outputs": [
    {
     "data": {
      "text/plain": [
       "torch.Size([])"
      ]
     },
     "execution_count": 9,
     "metadata": {},
     "output_type": "execute_result"
    }
   ],
   "source": [
    "loss.shape"
   ]
  },
  {
   "cell_type": "code",
   "execution_count": 10,
   "id": "e65005cd",
   "metadata": {},
   "outputs": [],
   "source": [
    "loss.backward()"
   ]
  },
  {
   "cell_type": "code",
   "execution_count": 11,
   "id": "18d3e8ae",
   "metadata": {},
   "outputs": [
    {
     "data": {
      "text/plain": [
       "tensor([[ 0.0528, -0.0504,  0.6311,  0.3238, -0.0155, -0.1541,  0.0068,  0.2980,\n",
       "          0.0745,  0.5093]])"
      ]
     },
     "execution_count": 11,
     "metadata": {},
     "output_type": "execute_result"
    }
   ],
   "source": [
    "w.grad"
   ]
  },
  {
   "cell_type": "markdown",
   "id": "4d38833e",
   "metadata": {},
   "source": [
    "# 多输出感知机"
   ]
  },
  {
   "cell_type": "code",
   "execution_count": 12,
   "id": "648348f5",
   "metadata": {},
   "outputs": [],
   "source": [
    "x = torch.randn(1, 10)"
   ]
  },
  {
   "cell_type": "code",
   "execution_count": 14,
   "id": "095455a9",
   "metadata": {},
   "outputs": [],
   "source": [
    "w = torch.randn(2, 10, requires_grad=True)"
   ]
  },
  {
   "cell_type": "code",
   "execution_count": 15,
   "id": "cfc1cb50",
   "metadata": {},
   "outputs": [],
   "source": [
    "o = torch.sigmoid(x@w.t())"
   ]
  },
  {
   "cell_type": "code",
   "execution_count": 17,
   "id": "b3a820fc",
   "metadata": {},
   "outputs": [
    {
     "data": {
      "text/plain": [
       "torch.Size([1, 2])"
      ]
     },
     "execution_count": 17,
     "metadata": {},
     "output_type": "execute_result"
    }
   ],
   "source": [
    "o.shape"
   ]
  },
  {
   "cell_type": "code",
   "execution_count": 21,
   "id": "7f78791e",
   "metadata": {},
   "outputs": [
    {
     "data": {
      "text/plain": [
       "tensor(0.1174, grad_fn=<MseLossBackward0>)"
      ]
     },
     "execution_count": 21,
     "metadata": {},
     "output_type": "execute_result"
    }
   ],
   "source": [
    "loss = F.mse_loss(torch.ones(1, 2), o)\n",
    "loss"
   ]
  },
  {
   "cell_type": "code",
   "execution_count": 19,
   "id": "9c5adf8f",
   "metadata": {},
   "outputs": [],
   "source": [
    "loss.backward()"
   ]
  },
  {
   "cell_type": "code",
   "execution_count": 20,
   "id": "3920a447",
   "metadata": {},
   "outputs": [
    {
     "data": {
      "text/plain": [
       "tensor([[ 5.7712e-05, -2.8488e-04, -8.1342e-04,  9.7630e-04,  9.7217e-04,\n",
       "         -7.9586e-04, -3.9514e-04,  7.0958e-04, -5.0855e-04,  2.8877e-03],\n",
       "        [ 5.6415e-03, -2.7848e-02, -7.9514e-02,  9.5436e-02,  9.5032e-02,\n",
       "         -7.7798e-02, -3.8626e-02,  6.9363e-02, -4.9713e-02,  2.8228e-01]])"
      ]
     },
     "execution_count": 20,
     "metadata": {},
     "output_type": "execute_result"
    }
   ],
   "source": [
    "w.grad"
   ]
  },
  {
   "cell_type": "code",
   "execution_count": null,
   "id": "e62f21ee",
   "metadata": {},
   "outputs": [],
   "source": []
  }
 ],
 "metadata": {
  "kernelspec": {
   "display_name": "Python 3",
   "language": "python",
   "name": "python3"
  },
  "language_info": {
   "codemirror_mode": {
    "name": "ipython",
    "version": 3
   },
   "file_extension": ".py",
   "mimetype": "text/x-python",
   "name": "python",
   "nbconvert_exporter": "python",
   "pygments_lexer": "ipython3",
   "version": "3.8.13"
  }
 },
 "nbformat": 4,
 "nbformat_minor": 5
}
