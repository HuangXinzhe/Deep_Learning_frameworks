{
 "cells": [
  {
   "cell_type": "markdown",
   "id": "bf711cf4-ba31-4513-85e3-1dd09705b9f5",
   "metadata": {},
   "source": [
    "# momentum"
   ]
  },
  {
   "cell_type": "code",
   "execution_count": null,
   "id": "87723602-d777-42a6-b1aa-42f7a825b430",
   "metadata": {},
   "outputs": [],
   "source": [
    "optimizer = torch.optim.SGD(model.parameters(), \n",
    "                            args.lr,\n",
    "                            momentum=args.momentum,   # SGD设置momentum，Adam自带无需设置\n",
    "                            weight_decay=args.weight_decay)\n",
    "scheduler = ReduceLROnPlateau(optimizer, 'min')\n",
    "\n",
    "for epoch in xrange(args.start_epoch, args.epochs):\n",
    "    train(train_loader, model, criterion, optimizer, epoch)\n",
    "    result_avg, loss_val = validate(val_loader, model, criterion, epoch)\n",
    "    schdeuler.step(loss_val)  # 监听loss，当loss多次未改变，改变学习率"
   ]
  },
  {
   "cell_type": "code",
   "execution_count": null,
   "id": "cea93028-43e0-4520-b392-4dbe80e30d4e",
   "metadata": {},
   "outputs": [],
   "source": [
    "scheduler = StepLR(optimizer, step_size=30, gamma=0.1)  # 每隔固定数量的epoch进行一次学习率的衰减\n",
    "for epoch in range(100):\n",
    "    scheduler.step()\n",
    "    train(...)\n",
    "    validate(...)"
   ]
  }
 ],
 "metadata": {
  "kernelspec": {
   "display_name": "Python 3 (ipykernel)",
   "language": "python",
   "name": "python3"
  },
  "language_info": {
   "codemirror_mode": {
    "name": "ipython",
    "version": 3
   },
   "file_extension": ".py",
   "mimetype": "text/x-python",
   "name": "python",
   "nbconvert_exporter": "python",
   "pygments_lexer": "ipython3",
   "version": "3.9.12"
  }
 },
 "nbformat": 4,
 "nbformat_minor": 5
}
