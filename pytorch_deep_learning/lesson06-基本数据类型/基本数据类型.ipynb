{
 "cells": [
  {
   "cell_type": "markdown",
   "id": "98cb6335",
   "metadata": {},
   "source": [
    "# Type check"
   ]
  },
  {
   "cell_type": "code",
   "execution_count": 1,
   "id": "992a1529",
   "metadata": {},
   "outputs": [],
   "source": [
    "import torch"
   ]
  },
  {
   "cell_type": "code",
   "execution_count": 2,
   "id": "bd838221",
   "metadata": {},
   "outputs": [],
   "source": [
    "# 随机初始化（均值为0，方差为1）2行3列的矩阵\n",
    "a = torch.randn(2, 3)  "
   ]
  },
  {
   "cell_type": "code",
   "execution_count": 3,
   "id": "5f715a19",
   "metadata": {},
   "outputs": [
    {
     "data": {
      "text/plain": [
       "'torch.FloatTensor'"
      ]
     },
     "execution_count": 3,
     "metadata": {},
     "output_type": "execute_result"
    }
   ],
   "source": [
    "a.type()"
   ]
  },
  {
   "cell_type": "code",
   "execution_count": 4,
   "id": "12cb2683",
   "metadata": {},
   "outputs": [
    {
     "data": {
      "text/plain": [
       "torch.Tensor"
      ]
     },
     "execution_count": 4,
     "metadata": {},
     "output_type": "execute_result"
    }
   ],
   "source": [
    "type(a)"
   ]
  },
  {
   "cell_type": "code",
   "execution_count": 5,
   "id": "faae789e",
   "metadata": {},
   "outputs": [
    {
     "data": {
      "text/plain": [
       "True"
      ]
     },
     "execution_count": 5,
     "metadata": {},
     "output_type": "execute_result"
    }
   ],
   "source": [
    "isinstance(a, torch.FloatTensor)"
   ]
  },
  {
   "cell_type": "code",
   "execution_count": 7,
   "id": "bd85ca50",
   "metadata": {},
   "outputs": [],
   "source": [
    "data = torch.randn(2, 3)"
   ]
  },
  {
   "cell_type": "code",
   "execution_count": 8,
   "id": "275f5737",
   "metadata": {},
   "outputs": [
    {
     "data": {
      "text/plain": [
       "False"
      ]
     },
     "execution_count": 8,
     "metadata": {},
     "output_type": "execute_result"
    }
   ],
   "source": [
    "isinstance(data, torch.cuda.DoubleTensor)"
   ]
  },
  {
   "cell_type": "code",
   "execution_count": 11,
   "id": "9d2c216e",
   "metadata": {},
   "outputs": [],
   "source": [
    "data = data.cuda()"
   ]
  },
  {
   "cell_type": "code",
   "execution_count": 12,
   "id": "41e7c04c",
   "metadata": {},
   "outputs": [
    {
     "data": {
      "text/plain": [
       "False"
      ]
     },
     "execution_count": 12,
     "metadata": {},
     "output_type": "execute_result"
    }
   ],
   "source": [
    "isinstance(data, torch.cuda.DoubleTensor)"
   ]
  },
  {
   "cell_type": "markdown",
   "id": "7d1a82a0",
   "metadata": {},
   "source": [
    "# Dimension 0 / rank 0"
   ]
  },
  {
   "cell_type": "code",
   "execution_count": 16,
   "id": "e8d8da51",
   "metadata": {},
   "outputs": [
    {
     "data": {
      "text/plain": [
       "tensor(1.)"
      ]
     },
     "execution_count": 16,
     "metadata": {},
     "output_type": "execute_result"
    }
   ],
   "source": [
    "torch.tensor(1.)"
   ]
  },
  {
   "cell_type": "code",
   "execution_count": 17,
   "id": "cfaf1098",
   "metadata": {},
   "outputs": [
    {
     "data": {
      "text/plain": [
       "tensor(1.3000)"
      ]
     },
     "execution_count": 17,
     "metadata": {},
     "output_type": "execute_result"
    }
   ],
   "source": [
    "torch.tensor(1.3)"
   ]
  },
  {
   "cell_type": "code",
   "execution_count": 18,
   "id": "23bc0824",
   "metadata": {},
   "outputs": [],
   "source": [
    "a = torch.tensor(2.2)"
   ]
  },
  {
   "cell_type": "code",
   "execution_count": 19,
   "id": "bddb7863",
   "metadata": {},
   "outputs": [
    {
     "data": {
      "text/plain": [
       "torch.Size([])"
      ]
     },
     "execution_count": 19,
     "metadata": {},
     "output_type": "execute_result"
    }
   ],
   "source": [
    "a.shape"
   ]
  },
  {
   "cell_type": "code",
   "execution_count": 20,
   "id": "4c3c2ef9",
   "metadata": {},
   "outputs": [
    {
     "data": {
      "text/plain": [
       "0"
      ]
     },
     "execution_count": 20,
     "metadata": {},
     "output_type": "execute_result"
    }
   ],
   "source": [
    "len(a.shape)"
   ]
  },
  {
   "cell_type": "code",
   "execution_count": 21,
   "id": "501e9d68",
   "metadata": {},
   "outputs": [
    {
     "data": {
      "text/plain": [
       "torch.Size([])"
      ]
     },
     "execution_count": 21,
     "metadata": {},
     "output_type": "execute_result"
    }
   ],
   "source": [
    "a.size()"
   ]
  },
  {
   "cell_type": "markdown",
   "id": "d52d7480",
   "metadata": {},
   "source": [
    "# Dimension 1 / rank 1"
   ]
  },
  {
   "cell_type": "code",
   "execution_count": 22,
   "id": "5b3c39ba",
   "metadata": {},
   "outputs": [
    {
     "data": {
      "text/plain": [
       "tensor([1.1000])"
      ]
     },
     "execution_count": 22,
     "metadata": {},
     "output_type": "execute_result"
    }
   ],
   "source": [
    "torch.tensor([1.1])"
   ]
  },
  {
   "cell_type": "code",
   "execution_count": 23,
   "id": "246e68a5",
   "metadata": {},
   "outputs": [
    {
     "data": {
      "text/plain": [
       "tensor([1.1000, 2.2000])"
      ]
     },
     "execution_count": 23,
     "metadata": {},
     "output_type": "execute_result"
    }
   ],
   "source": [
    "torch.tensor([1.1, 2.2])"
   ]
  },
  {
   "cell_type": "code",
   "execution_count": 24,
   "id": "a49be734",
   "metadata": {},
   "outputs": [
    {
     "data": {
      "text/plain": [
       "tensor([9.1477e-41])"
      ]
     },
     "execution_count": 24,
     "metadata": {},
     "output_type": "execute_result"
    }
   ],
   "source": [
    "torch.FloatTensor(1)"
   ]
  },
  {
   "cell_type": "code",
   "execution_count": 25,
   "id": "b3e5dd78",
   "metadata": {},
   "outputs": [
    {
     "data": {
      "text/plain": [
       "tensor([0., 0.])"
      ]
     },
     "execution_count": 25,
     "metadata": {},
     "output_type": "execute_result"
    }
   ],
   "source": [
    "torch.FloatTensor(2)"
   ]
  },
  {
   "cell_type": "code",
   "execution_count": 27,
   "id": "b1d71cc3",
   "metadata": {},
   "outputs": [],
   "source": [
    "import numpy as np\n",
    "data = np.ones(2)"
   ]
  },
  {
   "cell_type": "code",
   "execution_count": 28,
   "id": "a9c136c4",
   "metadata": {},
   "outputs": [
    {
     "data": {
      "text/plain": [
       "tensor([1., 1.], dtype=torch.float64)"
      ]
     },
     "execution_count": 28,
     "metadata": {},
     "output_type": "execute_result"
    }
   ],
   "source": [
    "torch.from_numpy(data)"
   ]
  },
  {
   "cell_type": "code",
   "execution_count": 29,
   "id": "9bb0b774",
   "metadata": {},
   "outputs": [],
   "source": [
    "a = torch.ones(2)"
   ]
  },
  {
   "cell_type": "code",
   "execution_count": 30,
   "id": "09129d70",
   "metadata": {},
   "outputs": [
    {
     "data": {
      "text/plain": [
       "torch.Size([2])"
      ]
     },
     "execution_count": 30,
     "metadata": {},
     "output_type": "execute_result"
    }
   ],
   "source": [
    "a.shape"
   ]
  },
  {
   "cell_type": "markdown",
   "id": "02890ecd",
   "metadata": {},
   "source": [
    "# Dimension 2"
   ]
  },
  {
   "cell_type": "code",
   "execution_count": 31,
   "id": "cd4ae430",
   "metadata": {},
   "outputs": [],
   "source": [
    "a = torch.randn(2, 3)"
   ]
  },
  {
   "cell_type": "code",
   "execution_count": 32,
   "id": "924c61b2",
   "metadata": {},
   "outputs": [
    {
     "data": {
      "text/plain": [
       "tensor([[ 0.7305, -0.8286,  0.2773],\n",
       "        [-0.2969,  1.4615, -0.6502]])"
      ]
     },
     "execution_count": 32,
     "metadata": {},
     "output_type": "execute_result"
    }
   ],
   "source": [
    "a"
   ]
  },
  {
   "cell_type": "code",
   "execution_count": 33,
   "id": "97f9fb74",
   "metadata": {},
   "outputs": [
    {
     "data": {
      "text/plain": [
       "torch.Size([2, 3])"
      ]
     },
     "execution_count": 33,
     "metadata": {},
     "output_type": "execute_result"
    }
   ],
   "source": [
    "a.shape"
   ]
  },
  {
   "cell_type": "code",
   "execution_count": 37,
   "id": "bac3db7f",
   "metadata": {},
   "outputs": [
    {
     "data": {
      "text/plain": [
       "2"
      ]
     },
     "execution_count": 37,
     "metadata": {},
     "output_type": "execute_result"
    }
   ],
   "source": [
    "a.size(0)"
   ]
  },
  {
   "cell_type": "code",
   "execution_count": 35,
   "id": "e704ba66",
   "metadata": {},
   "outputs": [
    {
     "data": {
      "text/plain": [
       "3"
      ]
     },
     "execution_count": 35,
     "metadata": {},
     "output_type": "execute_result"
    }
   ],
   "source": [
    "a.size(1)"
   ]
  },
  {
   "cell_type": "code",
   "execution_count": 36,
   "id": "1ecbb881",
   "metadata": {},
   "outputs": [
    {
     "data": {
      "text/plain": [
       "3"
      ]
     },
     "execution_count": 36,
     "metadata": {},
     "output_type": "execute_result"
    }
   ],
   "source": [
    "a.shape[1]"
   ]
  },
  {
   "cell_type": "markdown",
   "id": "d60f7da2",
   "metadata": {},
   "source": [
    "# Dimension 3"
   ]
  },
  {
   "cell_type": "code",
   "execution_count": 38,
   "id": "dd9a7bfc",
   "metadata": {},
   "outputs": [],
   "source": [
    "a = torch.rand(1, 2, 3)"
   ]
  },
  {
   "cell_type": "code",
   "execution_count": 39,
   "id": "8c863097",
   "metadata": {},
   "outputs": [
    {
     "data": {
      "text/plain": [
       "tensor([[[0.2832, 0.1184, 0.7250],\n",
       "         [0.9871, 0.8413, 0.1273]]])"
      ]
     },
     "execution_count": 39,
     "metadata": {},
     "output_type": "execute_result"
    }
   ],
   "source": [
    "a"
   ]
  },
  {
   "cell_type": "code",
   "execution_count": 40,
   "id": "358f3be8",
   "metadata": {},
   "outputs": [
    {
     "data": {
      "text/plain": [
       "torch.Size([1, 2, 3])"
      ]
     },
     "execution_count": 40,
     "metadata": {},
     "output_type": "execute_result"
    }
   ],
   "source": [
    "a.shape"
   ]
  },
  {
   "cell_type": "code",
   "execution_count": 42,
   "id": "3ff8a9ea",
   "metadata": {},
   "outputs": [
    {
     "data": {
      "text/plain": [
       "torch.Size([1, 2, 3])"
      ]
     },
     "execution_count": 42,
     "metadata": {},
     "output_type": "execute_result"
    }
   ],
   "source": [
    "torch.Size([1, 2, 3])"
   ]
  },
  {
   "cell_type": "code",
   "execution_count": 43,
   "id": "14040738",
   "metadata": {},
   "outputs": [
    {
     "data": {
      "text/plain": [
       "tensor([[0.2832, 0.1184, 0.7250],\n",
       "        [0.9871, 0.8413, 0.1273]])"
      ]
     },
     "execution_count": 43,
     "metadata": {},
     "output_type": "execute_result"
    }
   ],
   "source": [
    "a[0]"
   ]
  },
  {
   "cell_type": "code",
   "execution_count": 44,
   "id": "9c8a99b6",
   "metadata": {},
   "outputs": [
    {
     "data": {
      "text/plain": [
       "[1, 2, 3]"
      ]
     },
     "execution_count": 44,
     "metadata": {},
     "output_type": "execute_result"
    }
   ],
   "source": [
    "list(a.shape)"
   ]
  },
  {
   "cell_type": "markdown",
   "id": "c51b5ab2",
   "metadata": {},
   "source": [
    "# Dimension 4"
   ]
  },
  {
   "cell_type": "code",
   "execution_count": 45,
   "id": "ee4b983b",
   "metadata": {},
   "outputs": [],
   "source": [
    "a = torch.rand(2, 3, 28, 28)"
   ]
  },
  {
   "cell_type": "code",
   "execution_count": 46,
   "id": "969e9813",
   "metadata": {},
   "outputs": [
    {
     "data": {
      "text/plain": [
       "tensor([[[[0.3697, 0.4240, 0.0287,  ..., 0.8275, 0.9285, 0.8505],\n",
       "          [0.4735, 0.4785, 0.6491,  ..., 0.0370, 0.1449, 0.2869],\n",
       "          [0.5017, 0.4399, 0.1959,  ..., 0.2237, 0.6436, 0.6750],\n",
       "          ...,\n",
       "          [0.9876, 0.8678, 0.9277,  ..., 0.1909, 0.4314, 0.5909],\n",
       "          [0.1742, 0.2651, 0.2144,  ..., 0.4131, 0.7213, 0.4424],\n",
       "          [0.6409, 0.1116, 0.5290,  ..., 0.7951, 0.9067, 0.6063]],\n",
       "\n",
       "         [[0.5293, 0.8686, 0.4746,  ..., 0.3845, 0.4095, 0.2152],\n",
       "          [0.6179, 0.6163, 0.4669,  ..., 0.1857, 0.8742, 0.6618],\n",
       "          [0.5006, 0.4827, 0.9334,  ..., 0.6438, 0.6809, 0.0119],\n",
       "          ...,\n",
       "          [0.8554, 0.5653, 0.6034,  ..., 0.3098, 0.8464, 0.4885],\n",
       "          [0.8339, 0.5263, 0.7784,  ..., 0.6605, 0.3368, 0.1729],\n",
       "          [0.1880, 0.7296, 0.6450,  ..., 0.2094, 0.8823, 0.5529]],\n",
       "\n",
       "         [[0.3545, 0.5923, 0.4584,  ..., 0.4581, 0.9968, 0.9980],\n",
       "          [0.5233, 0.2550, 0.3787,  ..., 0.7997, 0.1876, 0.4567],\n",
       "          [0.3742, 0.4568, 0.3832,  ..., 0.2510, 0.3711, 0.0845],\n",
       "          ...,\n",
       "          [0.8958, 0.7906, 0.0976,  ..., 0.8135, 0.3936, 0.5846],\n",
       "          [0.3004, 0.9187, 0.1915,  ..., 0.5718, 0.1115, 0.3735],\n",
       "          [0.6030, 0.1170, 0.4328,  ..., 0.4509, 0.5313, 0.3496]]],\n",
       "\n",
       "\n",
       "        [[[0.4340, 0.4425, 0.2402,  ..., 0.3754, 0.1757, 0.5021],\n",
       "          [0.3239, 0.0910, 0.9641,  ..., 0.4876, 0.0214, 0.0702],\n",
       "          [0.0116, 0.1566, 0.3130,  ..., 0.1193, 0.3931, 0.5627],\n",
       "          ...,\n",
       "          [0.0501, 0.7078, 0.5405,  ..., 0.7553, 0.0590, 0.3828],\n",
       "          [0.1614, 0.6322, 0.2236,  ..., 0.7537, 0.1943, 0.8247],\n",
       "          [0.4768, 0.5582, 0.3542,  ..., 0.8734, 0.1102, 0.9207]],\n",
       "\n",
       "         [[0.3429, 0.2139, 0.8288,  ..., 0.7030, 0.9511, 0.3632],\n",
       "          [0.5055, 0.3339, 0.1883,  ..., 0.3860, 0.0712, 0.1057],\n",
       "          [0.6875, 0.4714, 0.2080,  ..., 0.8011, 0.5118, 0.7456],\n",
       "          ...,\n",
       "          [0.0745, 0.9739, 0.5630,  ..., 0.5556, 0.8356, 0.5474],\n",
       "          [0.3308, 0.9825, 0.0566,  ..., 0.1507, 0.4486, 0.1820],\n",
       "          [0.9921, 0.8309, 0.3985,  ..., 0.6710, 0.4973, 0.9820]],\n",
       "\n",
       "         [[0.2886, 0.6216, 0.1603,  ..., 0.4078, 0.7997, 0.9968],\n",
       "          [0.1945, 0.2003, 0.7861,  ..., 0.9015, 0.6408, 0.5874],\n",
       "          [0.1733, 0.1562, 0.2777,  ..., 0.0294, 0.4768, 0.2702],\n",
       "          ...,\n",
       "          [0.0381, 0.4961, 0.7819,  ..., 0.6226, 0.3801, 0.1951],\n",
       "          [0.2874, 0.2948, 0.3254,  ..., 0.0794, 0.4525, 0.7159],\n",
       "          [0.0981, 0.5854, 0.9734,  ..., 0.7760, 0.5402, 0.2078]]]])"
      ]
     },
     "execution_count": 46,
     "metadata": {},
     "output_type": "execute_result"
    }
   ],
   "source": [
    "a"
   ]
  },
  {
   "cell_type": "code",
   "execution_count": 47,
   "id": "d80618ac",
   "metadata": {},
   "outputs": [
    {
     "data": {
      "text/plain": [
       "torch.Size([2, 3, 28, 28])"
      ]
     },
     "execution_count": 47,
     "metadata": {},
     "output_type": "execute_result"
    }
   ],
   "source": [
    "a.shape"
   ]
  },
  {
   "cell_type": "markdown",
   "id": "08d290d3",
   "metadata": {},
   "source": [
    "# Mixed"
   ]
  },
  {
   "cell_type": "code",
   "execution_count": 48,
   "id": "fab40a1c",
   "metadata": {},
   "outputs": [
    {
     "data": {
      "text/plain": [
       "torch.Size([2, 3, 28, 28])"
      ]
     },
     "execution_count": 48,
     "metadata": {},
     "output_type": "execute_result"
    }
   ],
   "source": [
    "a.shape"
   ]
  },
  {
   "cell_type": "code",
   "execution_count": 49,
   "id": "b56630dd",
   "metadata": {},
   "outputs": [
    {
     "data": {
      "text/plain": [
       "4704"
      ]
     },
     "execution_count": 49,
     "metadata": {},
     "output_type": "execute_result"
    }
   ],
   "source": [
    "# tensor占用内存的数量\n",
    "a.numel()"
   ]
  },
  {
   "cell_type": "code",
   "execution_count": 50,
   "id": "f8fc4497",
   "metadata": {},
   "outputs": [
    {
     "data": {
      "text/plain": [
       "4"
      ]
     },
     "execution_count": 50,
     "metadata": {},
     "output_type": "execute_result"
    }
   ],
   "source": [
    "# 维度\n",
    "a.dim()"
   ]
  },
  {
   "cell_type": "code",
   "execution_count": 51,
   "id": "86dd2304",
   "metadata": {},
   "outputs": [],
   "source": [
    "a = torch.tensor(1)"
   ]
  },
  {
   "cell_type": "code",
   "execution_count": 52,
   "id": "0f8c0b7b",
   "metadata": {},
   "outputs": [
    {
     "data": {
      "text/plain": [
       "0"
      ]
     },
     "execution_count": 52,
     "metadata": {},
     "output_type": "execute_result"
    }
   ],
   "source": [
    "a.dim()"
   ]
  },
  {
   "cell_type": "code",
   "execution_count": null,
   "id": "f9c1eecb",
   "metadata": {},
   "outputs": [],
   "source": []
  }
 ],
 "metadata": {
  "kernelspec": {
   "display_name": "Python 3",
   "language": "python",
   "name": "python3"
  },
  "language_info": {
   "codemirror_mode": {
    "name": "ipython",
    "version": 3
   },
   "file_extension": ".py",
   "mimetype": "text/x-python",
   "name": "python",
   "nbconvert_exporter": "python",
   "pygments_lexer": "ipython3",
   "version": "3.8.13"
  }
 },
 "nbformat": 4,
 "nbformat_minor": 5
}
