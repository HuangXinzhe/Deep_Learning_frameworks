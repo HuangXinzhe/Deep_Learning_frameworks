{
 "cells": [
  {
   "cell_type": "markdown",
   "id": "55fa8073",
   "metadata": {},
   "source": [
    "# nn.Conv2d"
   ]
  },
  {
   "cell_type": "code",
   "execution_count": 4,
   "id": "343cbc27",
   "metadata": {},
   "outputs": [],
   "source": [
    "import torch\n",
    "from torch import nn"
   ]
  },
  {
   "cell_type": "code",
   "execution_count": 5,
   "id": "c0901d11",
   "metadata": {},
   "outputs": [],
   "source": [
    "layer = nn.Conv2d(1, 3, kernel_size=3, stride=1, padding=0)\n",
    "x = torch.rand(1, 1, 28, 28)"
   ]
  },
  {
   "cell_type": "code",
   "execution_count": 8,
   "id": "c815242e",
   "metadata": {},
   "outputs": [
    {
     "data": {
      "text/plain": [
       "torch.Size([1, 3, 26, 26])"
      ]
     },
     "execution_count": 8,
     "metadata": {},
     "output_type": "execute_result"
    }
   ],
   "source": [
    "out = layer.forward(x)\n",
    "out.size()"
   ]
  },
  {
   "cell_type": "code",
   "execution_count": 9,
   "id": "0f6292e6",
   "metadata": {},
   "outputs": [
    {
     "data": {
      "text/plain": [
       "torch.Size([1, 3, 28, 28])"
      ]
     },
     "execution_count": 9,
     "metadata": {},
     "output_type": "execute_result"
    }
   ],
   "source": [
    "layer = nn.Conv2d(1, 3, kernel_size=3, stride=1, padding=1)\n",
    "out = layer.forward(x)\n",
    "out.size()"
   ]
  },
  {
   "cell_type": "code",
   "execution_count": 12,
   "id": "aa437307",
   "metadata": {},
   "outputs": [
    {
     "data": {
      "text/plain": [
       "torch.Size([1, 3, 14, 14])"
      ]
     },
     "execution_count": 12,
     "metadata": {},
     "output_type": "execute_result"
    }
   ],
   "source": [
    "layer = nn.Conv2d(1, 3, kernel_size=3, stride=2, padding=1)\n",
    "out = layer.forward(x)\n",
    "out.size()"
   ]
  },
  {
   "cell_type": "code",
   "execution_count": 13,
   "id": "311ab26a",
   "metadata": {},
   "outputs": [
    {
     "data": {
      "text/plain": [
       "torch.Size([1, 3, 14, 14])"
      ]
     },
     "execution_count": 13,
     "metadata": {},
     "output_type": "execute_result"
    }
   ],
   "source": [
    "out = layer(x)\n",
    "out.size()"
   ]
  },
  {
   "cell_type": "markdown",
   "id": "fb986ec3",
   "metadata": {},
   "source": [
    "# Inner weight & bias"
   ]
  },
  {
   "cell_type": "code",
   "execution_count": 14,
   "id": "2747bc28",
   "metadata": {},
   "outputs": [
    {
     "data": {
      "text/plain": [
       "Parameter containing:\n",
       "tensor([[[[-0.0716,  0.1932, -0.2434],\n",
       "          [ 0.0294, -0.3156, -0.1606],\n",
       "          [-0.0244,  0.1621, -0.0362]]],\n",
       "\n",
       "\n",
       "        [[[ 0.2984, -0.0800, -0.1706],\n",
       "          [ 0.0698, -0.1120,  0.1006],\n",
       "          [ 0.3138,  0.0071,  0.0501]]],\n",
       "\n",
       "\n",
       "        [[[-0.2218,  0.0134,  0.0547],\n",
       "          [ 0.2037, -0.2360, -0.0283],\n",
       "          [-0.3332, -0.2880, -0.2534]]]], requires_grad=True)"
      ]
     },
     "execution_count": 14,
     "metadata": {},
     "output_type": "execute_result"
    }
   ],
   "source": [
    "layer.weight"
   ]
  },
  {
   "cell_type": "code",
   "execution_count": 15,
   "id": "72ae17d4",
   "metadata": {},
   "outputs": [
    {
     "data": {
      "text/plain": [
       "torch.Size([3, 1, 3, 3])"
      ]
     },
     "execution_count": 15,
     "metadata": {},
     "output_type": "execute_result"
    }
   ],
   "source": [
    "layer.weight.shape"
   ]
  },
  {
   "cell_type": "code",
   "execution_count": 16,
   "id": "c0e32a64",
   "metadata": {},
   "outputs": [
    {
     "data": {
      "text/plain": [
       "torch.Size([3])"
      ]
     },
     "execution_count": 16,
     "metadata": {},
     "output_type": "execute_result"
    }
   ],
   "source": [
    "layer.bias.shape"
   ]
  },
  {
   "cell_type": "markdown",
   "id": "f02833a7",
   "metadata": {},
   "source": [
    "# F.conv2d\n",
    "小写是函数式接口  \n",
    "大写是类"
   ]
  },
  {
   "cell_type": "code",
   "execution_count": 18,
   "id": "8b735eeb",
   "metadata": {},
   "outputs": [],
   "source": [
    "w = torch.rand(16, 3, 5, 5)\n",
    "b = torch.rand(16)"
   ]
  },
  {
   "cell_type": "code",
   "execution_count": 19,
   "id": "705ffc5c",
   "metadata": {},
   "outputs": [
    {
     "ename": "RuntimeError",
     "evalue": "Given groups=1, weight of size 16 3 5 5, expected input[1, 1, 28, 28] to have 3 channels, but got 1 channels instead",
     "output_type": "error",
     "traceback": [
      "\u001b[1;31m---------------------------------------------------------------------------\u001b[0m",
      "\u001b[1;31mRuntimeError\u001b[0m                              Traceback (most recent call last)",
      "Input \u001b[1;32mIn [19]\u001b[0m, in \u001b[0;36m<cell line: 2>\u001b[1;34m()\u001b[0m\n\u001b[0;32m      1\u001b[0m \u001b[38;5;28;01mfrom\u001b[39;00m \u001b[38;5;21;01mtorch\u001b[39;00m\u001b[38;5;21;01m.\u001b[39;00m\u001b[38;5;21;01mnn\u001b[39;00m \u001b[38;5;28;01mimport\u001b[39;00m functional \u001b[38;5;28;01mas\u001b[39;00m F\n\u001b[1;32m----> 2\u001b[0m out \u001b[38;5;241m=\u001b[39m \u001b[43mF\u001b[49m\u001b[38;5;241;43m.\u001b[39;49m\u001b[43mconv2d\u001b[49m\u001b[43m(\u001b[49m\u001b[43mx\u001b[49m\u001b[43m,\u001b[49m\u001b[43m \u001b[49m\u001b[43mw\u001b[49m\u001b[43m,\u001b[49m\u001b[43m \u001b[49m\u001b[43mb\u001b[49m\u001b[43m,\u001b[49m\u001b[43m \u001b[49m\u001b[43mstride\u001b[49m\u001b[38;5;241;43m=\u001b[39;49m\u001b[38;5;241;43m1\u001b[39;49m\u001b[43m,\u001b[49m\u001b[43m \u001b[49m\u001b[43mpadding\u001b[49m\u001b[38;5;241;43m=\u001b[39;49m\u001b[38;5;241;43m1\u001b[39;49m\u001b[43m)\u001b[49m\n",
      "\u001b[1;31mRuntimeError\u001b[0m: Given groups=1, weight of size 16 3 5 5, expected input[1, 1, 28, 28] to have 3 channels, but got 1 channels instead"
     ]
    }
   ],
   "source": [
    "from torch.nn import functional as F\n",
    "out = F.conv2d(x, w, b, stride=1, padding=1)"
   ]
  },
  {
   "cell_type": "code",
   "execution_count": 20,
   "id": "61733ebc",
   "metadata": {},
   "outputs": [],
   "source": [
    "x = torch.randn(1, 3, 28, 28)"
   ]
  },
  {
   "cell_type": "code",
   "execution_count": 21,
   "id": "2815965b",
   "metadata": {},
   "outputs": [
    {
     "data": {
      "text/plain": [
       "torch.Size([1, 16, 26, 26])"
      ]
     },
     "execution_count": 21,
     "metadata": {},
     "output_type": "execute_result"
    }
   ],
   "source": [
    "out = F.conv2d(x, w, b, stride=1, padding=1)\n",
    "out.size()"
   ]
  },
  {
   "cell_type": "code",
   "execution_count": 22,
   "id": "9244eefc",
   "metadata": {},
   "outputs": [
    {
     "data": {
      "text/plain": [
       "torch.Size([1, 16, 14, 14])"
      ]
     },
     "execution_count": 22,
     "metadata": {},
     "output_type": "execute_result"
    }
   ],
   "source": [
    "out = F.conv2d(x, w, b, stride=2, padding=2)\n",
    "out.size()"
   ]
  }
 ],
 "metadata": {
  "kernelspec": {
   "display_name": "Python 3",
   "language": "python",
   "name": "python3"
  },
  "language_info": {
   "codemirror_mode": {
    "name": "ipython",
    "version": 3
   },
   "file_extension": ".py",
   "mimetype": "text/x-python",
   "name": "python",
   "nbconvert_exporter": "python",
   "pygments_lexer": "ipython3",
   "version": "3.8.13"
  }
 },
 "nbformat": 4,
 "nbformat_minor": 5
}
