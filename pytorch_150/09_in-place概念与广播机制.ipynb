{
 "cells": [
  {
   "cell_type": "markdown",
   "id": "208e9ad5-4746-4228-a3cb-8c88f41d2ab8",
   "metadata": {},
   "source": [
    "# Pytorch中的in-place操作\n",
    "- ”就地“操作，即不允许使用临时变量  \n",
    "- 也称为原位操作\n",
    "- x = x + y\n",
    "- add_、sub_、mul_等等"
   ]
  },
  {
   "cell_type": "markdown",
   "id": "8a467bf3-012f-403a-8da2-248c1fbbc046",
   "metadata": {},
   "source": [
    "# Pytorch中的广播机制\n",
    "- 广播机制：张量参数可以自动扩展为相同大小\n",
    "- 广播机制需要满足两个条件：\n",
    "  - 每个张量至少有一个未读\n",
    "  - 满足右对齐\n",
    "  - torch.rand(2, 1, 1) + torch.rand(3)"
   ]
  }
 ],
 "metadata": {
  "kernelspec": {
   "display_name": "Python 3 (ipykernel)",
   "language": "python",
   "name": "python3"
  },
  "language_info": {
   "codemirror_mode": {
    "name": "ipython",
    "version": 3
   },
   "file_extension": ".py",
   "mimetype": "text/x-python",
   "name": "python",
   "nbconvert_exporter": "python",
   "pygments_lexer": "ipython3",
   "version": "3.9.12"
  }
 },
 "nbformat": 4,
 "nbformat_minor": 5
}
