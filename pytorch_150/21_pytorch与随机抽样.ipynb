{
 "cells": [
  {
   "cell_type": "markdown",
   "id": "2cab898c-2e04-41f1-806a-c31162b9b532",
   "metadata": {},
   "source": [
    "# Tensor中的随机抽样\n",
    "- 定义随机种子\n",
    "    - torch.manual_seed(seed)\n",
    "- 定义随机数满足的分布\n",
    "    - torch.normal()"
   ]
  }
 ],
 "metadata": {
  "kernelspec": {
   "display_name": "Python 3 (ipykernel)",
   "language": "python",
   "name": "python3"
  },
  "language_info": {
   "codemirror_mode": {
    "name": "ipython",
    "version": 3
   },
   "file_extension": ".py",
   "mimetype": "text/x-python",
   "name": "python",
   "nbconvert_exporter": "python",
   "pygments_lexer": "ipython3",
   "version": "3.9.12"
  }
 },
 "nbformat": 4,
 "nbformat_minor": 5
}
