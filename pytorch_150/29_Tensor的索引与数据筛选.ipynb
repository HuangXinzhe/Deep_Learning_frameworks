{
 "cells": [
  {
   "cell_type": "markdown",
   "id": "67c2e8fe-836d-4751-9cdf-ba994e6310df",
   "metadata": {},
   "source": [
    "# Tensor的索引与数据筛选"
   ]
  },
  {
   "cell_type": "code",
   "execution_count": null,
   "id": "773dfcab-ed99-4d2e-9ac1-0963976f3fb3",
   "metadata": {},
   "outputs": [],
   "source": [
    "# 按照条件葱x和y中选出满足条件的元素组成新的tensor\n",
    "torch.where(condition, x, y)"
   ]
  },
  {
   "cell_type": "code",
   "execution_count": null,
   "id": "0b024fc2-6cc4-424e-aece-f3c6b12cec6c",
   "metadata": {},
   "outputs": [],
   "source": [
    "# 在指定维度上按照索引复制输出tensor\n",
    "torch.gather(input, dim, index, out=None)"
   ]
  },
  {
   "cell_type": "code",
   "execution_count": null,
   "id": "01c5ab79-8143-47ad-ba81-328840d4fbeb",
   "metadata": {},
   "outputs": [],
   "source": [
    "# 按照你知道那个索引输出tensor\n",
    "torch.index_select(input, dim, index, out=None)"
   ]
  },
  {
   "cell_type": "code",
   "execution_count": null,
   "id": "d430d689-1346-4400-ba4f-9ac66491b8bb",
   "metadata": {},
   "outputs": [],
   "source": [
    "# 按照mask输出tensor，输出为向量\n",
    "torch.masked_select(input, mask, out=None)"
   ]
  },
  {
   "cell_type": "code",
   "execution_count": null,
   "id": "a44f69b5-12a8-4aa7-bbcb-8ddd136af9c9",
   "metadata": {},
   "outputs": [],
   "source": [
    "# 将输入看成1D-tensor，按照索引得到输出tensor\n",
    "torch.take(input, indices)"
   ]
  },
  {
   "cell_type": "code",
   "execution_count": null,
   "id": "98b61109-7fdb-4522-9386-aa7a5a423e89",
   "metadata": {},
   "outputs": [],
   "source": [
    "# 输出非0元素的坐标\n",
    "torch.nonzero(input, out=None)"
   ]
  },
  {
   "cell_type": "code",
   "execution_count": null,
   "id": "6ee7fca2-ff8e-4a20-8210-cd2beddf370d",
   "metadata": {},
   "outputs": [],
   "source": []
  },
  {
   "cell_type": "code",
   "execution_count": null,
   "id": "8c770791-3d30-4bda-afa9-e259ec869702",
   "metadata": {},
   "outputs": [],
   "source": []
  },
  {
   "cell_type": "code",
   "execution_count": null,
   "id": "1866a483-4290-4607-841a-5b61405b50e9",
   "metadata": {},
   "outputs": [],
   "source": []
  }
 ],
 "metadata": {
  "kernelspec": {
   "display_name": "Python 3 (ipykernel)",
   "language": "python",
   "name": "python3"
  },
  "language_info": {
   "codemirror_mode": {
    "name": "ipython",
    "version": 3
   },
   "file_extension": ".py",
   "mimetype": "text/x-python",
   "name": "python",
   "nbconvert_exporter": "python",
   "pygments_lexer": "ipython3",
   "version": "3.9.12"
  }
 },
 "nbformat": 4,
 "nbformat_minor": 5
}
