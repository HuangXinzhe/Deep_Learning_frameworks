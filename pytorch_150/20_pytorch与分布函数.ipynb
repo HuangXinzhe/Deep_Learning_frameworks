{
 "cells": [
  {
   "cell_type": "markdown",
   "id": "e7ad4594-9391-4db6-ba5f-686014546c6b",
   "metadata": {},
   "source": [
    "# Tensor的torch.distributions\n",
    "- distributions包含可参数化的概率分布和采样函数\n",
    "    - 得分函数\n",
    "        - 强化学习中策略梯度方法的基础\n",
    "    - pathwise derivative估计器\n",
    "        - 变分自动编码器中的重新阐述化技巧"
   ]
  },
  {
   "cell_type": "markdown",
   "id": "7b929969-37f3-4084-af94-2c7936fe5ce7",
   "metadata": {},
   "source": [
    "- ExponentialFamily\n",
    "- Bernoulli\n",
    "- Categorical\n",
    "- Beta\n",
    "- Binomial\n",
    "- Cauchy\n",
    "- Chi2\n",
    "- Dirichlet\n",
    "- Exponential\n",
    "- FisherSnedecor\n",
    "- Gamma\n",
    "- Geometric\n",
    "- Gumbel\n",
    "- HalfCauchy\n",
    "- HalNormal\n",
    "- Independent\n",
    "- Laplace\n",
    "- LogNormal\n",
    "- LowRankMultivariateNormal\n",
    "- Multinomial\n",
    "- MultivariateNormal\n",
    "- NegativeBinomial\n",
    "- Normal\n",
    "- ONeHotCategorical\n",
    "- Pareto\n",
    "- Poisson\n",
    "- RelaxedBernoulli\n",
    "- RelaxedOneHOtCategorical\n",
    "- StuduentT\n",
    "- TransformedDistribution\n",
    "- Uniform\n",
    "- Weibull"
   ]
  },
  {
   "cell_type": "markdown",
   "id": "d84d1ef8-9a8b-41c5-9b32-10ab9dd4f8b7",
   "metadata": {},
   "source": [
    "KL Divergence：度量两个分布的相似性\n",
    "Transforms：完成分布与分布之间的转换\n",
    "Constraint：完成对分布的约束，再利用transforms完成新的分布"
   ]
  },
  {
   "cell_type": "code",
   "execution_count": null,
   "id": "09deabe7-1511-4bf7-b63e-36b16875a949",
   "metadata": {},
   "outputs": [],
   "source": []
  },
  {
   "cell_type": "code",
   "execution_count": null,
   "id": "6f116c0f-cf12-462a-9623-4bf5424add86",
   "metadata": {},
   "outputs": [],
   "source": []
  },
  {
   "cell_type": "code",
   "execution_count": null,
   "id": "ce78e778-44d2-47f5-a273-2415d85074b1",
   "metadata": {},
   "outputs": [],
   "source": []
  },
  {
   "cell_type": "code",
   "execution_count": null,
   "id": "37f84aa4-ed78-453b-a1ab-101e83325b3c",
   "metadata": {},
   "outputs": [],
   "source": []
  },
  {
   "cell_type": "code",
   "execution_count": null,
   "id": "bffb3ccd-c9ca-4458-85ca-541fa61a5dcd",
   "metadata": {},
   "outputs": [],
   "source": []
  },
  {
   "cell_type": "code",
   "execution_count": null,
   "id": "c13f8ec3-02a9-499a-87e9-58bfebd2f191",
   "metadata": {},
   "outputs": [],
   "source": []
  }
 ],
 "metadata": {
  "kernelspec": {
   "display_name": "Python 3 (ipykernel)",
   "language": "python",
   "name": "python3"
  },
  "language_info": {
   "codemirror_mode": {
    "name": "ipython",
    "version": 3
   },
   "file_extension": ".py",
   "mimetype": "text/x-python",
   "name": "python",
   "nbconvert_exporter": "python",
   "pygments_lexer": "ipython3",
   "version": "3.9.12"
  }
 },
 "nbformat": 4,
 "nbformat_minor": 5
}
