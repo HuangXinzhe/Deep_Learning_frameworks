{
 "cells": [
  {
   "cell_type": "code",
   "execution_count": 1,
   "id": "346998f5",
   "metadata": {},
   "outputs": [],
   "source": [
    "import torch"
   ]
  },
  {
   "cell_type": "markdown",
   "id": "45587579",
   "metadata": {},
   "source": [
    "## 四则运算\n",
    ">加减乘除  \n",
    "矩阵运算  \n",
    "等等\n",
    "## 其他运算\n",
    ">幂运算  \n",
    "对数运算  \n",
    "等"
   ]
  },
  {
   "cell_type": "markdown",
   "id": "25913c9e",
   "metadata": {},
   "source": [
    "## 加法运算"
   ]
  },
  {
   "cell_type": "code",
   "execution_count": null,
   "id": "9182a189",
   "metadata": {},
   "outputs": [],
   "source": [
    "c = a + b  \n",
    "c = torch.add(a, b)  \n",
    "a.add(b)  \n",
    "a.add_(b)  # 带有下划线的，此处会修改a的结果"
   ]
  },
  {
   "cell_type": "markdown",
   "id": "82c63d73",
   "metadata": {},
   "source": [
    "## 减法运算"
   ]
  },
  {
   "cell_type": "code",
   "execution_count": null,
   "id": "4a6d8e43",
   "metadata": {},
   "outputs": [],
   "source": [
    "c = a - b\n",
    "c = torch.sub(a, b)\n",
    "a.sub(b)\n",
    "a.sub_(b)"
   ]
  },
  {
   "cell_type": "markdown",
   "id": "b6924c58",
   "metadata": {},
   "source": [
    "## 乘法运算\n",
    "哈达玛积，对应元素相乘"
   ]
  },
  {
   "cell_type": "code",
   "execution_count": null,
   "id": "1c8e6db4",
   "metadata": {},
   "outputs": [],
   "source": [
    "c = a * b\n",
    "c = torch.mul(a, b)\n",
    "a.mul(b)\n",
    "a.mul_(b)"
   ]
  },
  {
   "cell_type": "markdown",
   "id": "32d15dd9",
   "metadata": {},
   "source": [
    "## 除法运算"
   ]
  },
  {
   "cell_type": "code",
   "execution_count": null,
   "id": "6d535c75",
   "metadata": {},
   "outputs": [],
   "source": [
    "c = a / b\n",
    "c = torch.div(a, b)\n",
    "a.div(b)\n",
    "a.div_(b)"
   ]
  },
  {
   "cell_type": "markdown",
   "id": "b3051db0",
   "metadata": {},
   "source": [
    "## 矩阵运算\n",
    "二维矩阵乘法运算操作包括torch.mm()、torch.matmul()、@"
   ]
  },
  {
   "cell_type": "code",
   "execution_count": null,
   "id": "9de62d78",
   "metadata": {},
   "outputs": [],
   "source": [
    "a = torch.ones(2, 1)\n",
    "b = torch.ones(1, 2)\n",
    "print(torch.mm(a, b))\n",
    "print(torch.matmul(a, b))\n",
    "print(a @ b)\n",
    "print(a.matmul(b))\n",
    "print(a.mm(b))"
   ]
  },
  {
   "cell_type": "markdown",
   "id": "930f808f-53d4-4d78-916f-0577191b9ec8",
   "metadata": {},
   "source": [
    "对于高维的Tensor（dim>2），定义其矩阵乘法仅在最后的两个维度上，要求前面的维度必须保持一致，就像矩阵的索引一样并且运算操作只有torch.matmul()  \n",
    "没有原地操作的原因是乘法可能会改变数据维度"
   ]
  },
  {
   "cell_type": "code",
   "execution_count": null,
   "id": "7d14c1eb-1e6b-43e9-9440-6f573603ad38",
   "metadata": {},
   "outputs": [],
   "source": [
    "a = torch.ones(1, 2, 3, 4)\n",
    "b = torch.ones(1, 2, 4, 3)\n",
    "print(a.matmul(b))\n",
    "print(torch.matmul(a, b))"
   ]
  },
  {
   "cell_type": "markdown",
   "id": "8aa277d5-b16e-4b95-b797-eac7414e2933",
   "metadata": {},
   "source": [
    "幂运算"
   ]
  },
  {
   "cell_type": "code",
   "execution_count": null,
   "id": "07000bcc-f564-43ef-a63f-460f4f7d2c43",
   "metadata": {},
   "outputs": [],
   "source": [
    "print(torch.pow(a, 2))\n",
    "print(a.pow(2))\n",
    "print(a**2)\n",
    "print(a.pow_(2))\n",
    "\n",
    "print(torch.exp(a))\n",
    "b =  a.exp_()"
   ]
  },
  {
   "cell_type": "markdown",
   "id": "f69c33de-a3a3-41c0-a00f-2dfd610555e0",
   "metadata": {},
   "source": [
    "开方运算"
   ]
  },
  {
   "cell_type": "code",
   "execution_count": null,
   "id": "e77dfdd5-656b-4cb8-bdfa-42fe4639c485",
   "metadata": {},
   "outputs": [],
   "source": [
    "print(a.sqrt())\n",
    "print(a.sqrt_())\n",
    "print(a)"
   ]
  },
  {
   "cell_type": "markdown",
   "id": "bae76f24-5fc8-434e-9245-f0b0a527ebb7",
   "metadata": {},
   "source": [
    "对数运算"
   ]
  },
  {
   "cell_type": "code",
   "execution_count": null,
   "id": "3f93af80-e612-4469-9102-f1f93b6d122e",
   "metadata": {},
   "outputs": [],
   "source": [
    "print(torch.log2(a))\n",
    "print(torch.log10(a))\n",
    "print(torch.log(a))  # 默认为底数为e\n",
    "print(torch.log_(a))"
   ]
  },
  {
   "cell_type": "code",
   "execution_count": null,
   "id": "41a2a14c-9fcd-4646-85bc-daaf7896ef14",
   "metadata": {},
   "outputs": [],
   "source": []
  },
  {
   "cell_type": "code",
   "execution_count": null,
   "id": "0cbe2efd-9e4b-4a71-80aa-8f25e21aa850",
   "metadata": {},
   "outputs": [],
   "source": []
  },
  {
   "cell_type": "code",
   "execution_count": null,
   "id": "0c351b31-3e1d-47d9-9638-85ddff17f033",
   "metadata": {},
   "outputs": [],
   "source": []
  },
  {
   "cell_type": "code",
   "execution_count": null,
   "id": "cd037eee-d14f-46a3-8745-8fa4c337007d",
   "metadata": {},
   "outputs": [],
   "source": []
  },
  {
   "cell_type": "code",
   "execution_count": null,
   "id": "bfb80727-6a93-4016-831a-030be131fddc",
   "metadata": {},
   "outputs": [],
   "source": []
  },
  {
   "cell_type": "code",
   "execution_count": null,
   "id": "6f0f6617-f446-40af-b351-b829dc56520d",
   "metadata": {},
   "outputs": [],
   "source": []
  },
  {
   "cell_type": "code",
   "execution_count": null,
   "id": "85cbf42a-2f87-445c-a8ad-af66af0d2979",
   "metadata": {},
   "outputs": [],
   "source": []
  }
 ],
 "metadata": {
  "kernelspec": {
   "display_name": "Python 3 (ipykernel)",
   "language": "python",
   "name": "python3"
  },
  "language_info": {
   "codemirror_mode": {
    "name": "ipython",
    "version": 3
   },
   "file_extension": ".py",
   "mimetype": "text/x-python",
   "name": "python",
   "nbconvert_exporter": "python",
   "pygments_lexer": "ipython3",
   "version": "3.9.12"
  }
 },
 "nbformat": 4,
 "nbformat_minor": 5
}
