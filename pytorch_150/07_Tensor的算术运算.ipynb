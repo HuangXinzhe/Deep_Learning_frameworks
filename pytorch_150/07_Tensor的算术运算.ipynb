{
 "cells": [
  {
   "cell_type": "code",
   "execution_count": 1,
   "id": "346998f5",
   "metadata": {},
   "outputs": [],
   "source": [
    "import torch"
   ]
  },
  {
   "cell_type": "markdown",
   "id": "45587579",
   "metadata": {},
   "source": [
    "## 四则运算\n",
    ">加减乘除  \n",
    "矩阵运算  \n",
    "等等\n",
    "## 其他运算\n",
    ">幂运算  \n",
    "对数运算  \n",
    "等"
   ]
  },
  {
   "cell_type": "markdown",
   "id": "25913c9e",
   "metadata": {},
   "source": [
    "## 加法运算"
   ]
  },
  {
   "cell_type": "code",
   "execution_count": null,
   "id": "9182a189",
   "metadata": {},
   "outputs": [],
   "source": [
    "c = a + b  \n",
    "c = torch.add(a, b)  \n",
    "a.add(b)  \n",
    "a.add_(b)  # 带有下划线的，此处会修改a的结果"
   ]
  },
  {
   "cell_type": "markdown",
   "id": "82c63d73",
   "metadata": {},
   "source": [
    "## 减法运算"
   ]
  },
  {
   "cell_type": "code",
   "execution_count": null,
   "id": "4a6d8e43",
   "metadata": {},
   "outputs": [],
   "source": [
    "c = a - b\n",
    "c = torch.sub(a, b)\n",
    "a.sub(b)\n",
    "a.sub_(b)"
   ]
  },
  {
   "cell_type": "markdown",
   "id": "b6924c58",
   "metadata": {},
   "source": [
    "## 乘法运算\n",
    "哈达玛积，对应元素相乘"
   ]
  },
  {
   "cell_type": "code",
   "execution_count": null,
   "id": "1c8e6db4",
   "metadata": {},
   "outputs": [],
   "source": [
    "c = a * b\n",
    "c = torch.mul(a, b)\n",
    "a.mul(b)\n",
    "a.mul_(b)"
   ]
  },
  {
   "cell_type": "markdown",
   "id": "32d15dd9",
   "metadata": {},
   "source": [
    "## 除法运算"
   ]
  },
  {
   "cell_type": "code",
   "execution_count": null,
   "id": "6d535c75",
   "metadata": {},
   "outputs": [],
   "source": [
    "c = a / b\n",
    "c = torch.div(a, b)\n",
    "a.div(b)\n",
    "a.div_(b)"
   ]
  },
  {
   "cell_type": "markdown",
   "id": "b3051db0",
   "metadata": {},
   "source": [
    "## 矩阵运算\n",
    "二维矩阵乘法运算操作包括torch.mm()、torch.matmul()、@"
   ]
  },
  {
   "cell_type": "code",
   "execution_count": null,
   "id": "9de62d78",
   "metadata": {},
   "outputs": [],
   "source": [
    "a = torch.ones(2, 1)\n",
    "b = torch.ones(1, 2)\n",
    "print(torch.mm(a, b))\n",
    "print(torch.matmul(a, b))\n",
    "print(a @ b)\n",
    "print(a.matmul(b))\n",
    "print(a.mm(b))"
   ]
  }
 ],
 "metadata": {
  "kernelspec": {
   "display_name": "Python 3",
   "language": "python",
   "name": "python3"
  },
  "language_info": {
   "codemirror_mode": {
    "name": "ipython",
    "version": 3
   },
   "file_extension": ".py",
   "mimetype": "text/x-python",
   "name": "python",
   "nbconvert_exporter": "python",
   "pygments_lexer": "ipython3",
   "version": "3.9.12"
  }
 },
 "nbformat": 4,
 "nbformat_minor": 5
}
