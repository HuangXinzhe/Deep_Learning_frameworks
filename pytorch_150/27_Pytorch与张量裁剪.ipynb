{
 "cells": [
  {
   "cell_type": "markdown",
   "id": "dc0c5ec9-4024-4891-8415-7234f50802ee",
   "metadata": {},
   "source": [
    "# Tensor的裁剪运算\n",
    "- 对Tensor中的元素进行范围过滤\n",
    "    - 将参数约束在小范围内，神经网络在进行参数学习时相对比较稳定，因为变化范围比较小，波动也会相应的减少，通过对tensor范围进行约束，可以达到类似的正则化，起到防止过拟话的作用，因为对解空间的约束\n",
    "    - 防止梯度离散或爆炸\n",
    "    - 方便顶点或量化\n",
    "- 常用于梯度裁剪，即在发生梯度离散或者梯度爆炸时对梯度的处理\n",
    "- a.clamp(2, 10)\n",
    "    - a为约束的变量\n",
    "    - (2, 10)为约束的范围"
   ]
  }
 ],
 "metadata": {
  "kernelspec": {
   "display_name": "Python 3 (ipykernel)",
   "language": "python",
   "name": "python3"
  },
  "language_info": {
   "codemirror_mode": {
    "name": "ipython",
    "version": 3
   },
   "file_extension": ".py",
   "mimetype": "text/x-python",
   "name": "python",
   "nbconvert_exporter": "python",
   "pygments_lexer": "ipython3",
   "version": "3.9.12"
  }
 },
 "nbformat": 4,
 "nbformat_minor": 5
}
