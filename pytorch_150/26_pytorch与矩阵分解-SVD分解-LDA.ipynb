{
 "cells": [
  {
   "cell_type": "markdown",
   "id": "64985310-ca3e-49da-a02b-75f6fde90f3a",
   "metadata": {},
   "source": [
    "- 奇异值分解（SVD）\n",
    "- LDA与奇异值分解\n",
    "    - LDA\n",
    "        - 同类间距尽可能的小\n",
    "        - 不同类间距尽可能的大\n",
    "- EVD（特征值分解）分解 VS SVD分解\n",
    "    - 矩阵方阵且满秩（可对角化）\n",
    "    - 矩阵分解不等于特征降维度\n",
    "    - 协方差矩阵描述方差和相关性\n",
    "- Pytorch中的奇异值分解\n",
    "    - torch.svd()"
   ]
  }
 ],
 "metadata": {
  "kernelspec": {
   "display_name": "Python 3 (ipykernel)",
   "language": "python",
   "name": "python3"
  },
  "language_info": {
   "codemirror_mode": {
    "name": "ipython",
    "version": 3
   },
   "file_extension": ".py",
   "mimetype": "text/x-python",
   "name": "python",
   "nbconvert_exporter": "python",
   "pygments_lexer": "ipython3",
   "version": "3.9.12"
  }
 },
 "nbformat": 4,
 "nbformat_minor": 5
}
