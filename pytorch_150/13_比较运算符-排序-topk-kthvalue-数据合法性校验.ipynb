{
 "cells": [
  {
   "cell_type": "markdown",
   "id": "3ac1fc6f-6fc0-477e-bd0d-c90c8af481dc",
   "metadata": {},
   "source": [
    "# Tensor的比较运算"
   ]
  },
  {
   "cell_type": "code",
   "execution_count": null,
   "id": "dcba41e7-e852-4aaa-b90a-02495c2f3559",
   "metadata": {},
   "outputs": [],
   "source": [
    "# 按成员进行等式操作，相同返回True\n",
    "torch.eq(input, other, out=None)\n",
    "torch.ge # input >= other\n",
    "torch.gt # input > other\n",
    "torch.le # input <= other\n",
    "torch.lt # input < other\n",
    "torch.ne # input != other"
   ]
  },
  {
   "cell_type": "code",
   "execution_count": null,
   "id": "448a2d7e-a206-42ba-91c4-67a1b5d1c027",
   "metadata": {},
   "outputs": [],
   "source": [
    "# 如果tensor1和tensor2有相同的size和elements，则为True\n",
    "torch.equal(tensor1, tensor2)"
   ]
  },
  {
   "cell_type": "markdown",
   "id": "7914d47c-00b8-43f3-a70e-212c8afeb2b6",
   "metadata": {},
   "source": [
    "# Tensor的前k大/前k小/第k小的数值及其索引"
   ]
  },
  {
   "cell_type": "code",
   "execution_count": null,
   "id": "d301f3cd-96cf-45e4-9e7a-d1c5b68da265",
   "metadata": {},
   "outputs": [],
   "source": [
    "# 对目标input进行排序\n",
    "torch.sort(input, dim=None, descending=False, out=None)"
   ]
  },
  {
   "cell_type": "code",
   "execution_count": null,
   "id": "826a603f-40a9-4031-ade7-646a0fce13ab",
   "metadata": {},
   "outputs": [],
   "source": [
    "# 沿着制定维度返回最大k个数值及其索引值\n",
    "torch.topk(input, k, dim=None, largest=True, sorted=True, out=None)"
   ]
  },
  {
   "cell_type": "code",
   "execution_count": null,
   "id": "ea6f46dd-f09a-4144-87d5-98d691226b1b",
   "metadata": {},
   "outputs": [],
   "source": [
    "# 沿着制定维度返回第k个最小值及其索引值\n",
    "torch.kthvalue(input, k, dim=None, out=None)"
   ]
  },
  {
   "cell_type": "markdown",
   "id": "2a39643c-db53-4840-a2f6-30026f214c82",
   "metadata": {},
   "source": [
    "# Tensor判定是否为finite/inf/nan"
   ]
  },
  {
   "cell_type": "code",
   "execution_count": null,
   "id": "727768aa-71a3-4208-9234-c0af7e55fa41",
   "metadata": {},
   "outputs": [],
   "source": [
    "# 返回一个标记元素是否为finite/inf/nan的mask张量\n",
    "# 判断有界\n",
    "torch.isfinite(tensor)\n",
    "\n",
    "# 判断无界\n",
    "torch.isinf(tensor)\n",
    "\n",
    "# 判断nan\n",
    "torch.isnan(tensor)"
   ]
  },
  {
   "cell_type": "code",
   "execution_count": null,
   "id": "3f106df4-e277-479d-96ae-2cfc8e324a7e",
   "metadata": {},
   "outputs": [],
   "source": []
  },
  {
   "cell_type": "code",
   "execution_count": null,
   "id": "4c9692e5-8b56-44be-b40d-747ed25c8020",
   "metadata": {},
   "outputs": [],
   "source": []
  },
  {
   "cell_type": "code",
   "execution_count": null,
   "id": "8e28ecbf-fe37-4c91-ae98-2024f5ce9ca7",
   "metadata": {},
   "outputs": [],
   "source": []
  },
  {
   "cell_type": "code",
   "execution_count": null,
   "id": "fb7666c1-6f2f-4c94-879e-92440b6dcdc0",
   "metadata": {},
   "outputs": [],
   "source": []
  },
  {
   "cell_type": "code",
   "execution_count": null,
   "id": "c14d62bc-65be-4a09-83be-4fa2d5b4b8fc",
   "metadata": {},
   "outputs": [],
   "source": []
  },
  {
   "cell_type": "code",
   "execution_count": null,
   "id": "68a3743a-b0d0-417f-89f0-ce571b5ecec5",
   "metadata": {},
   "outputs": [],
   "source": []
  }
 ],
 "metadata": {
  "kernelspec": {
   "display_name": "Python 3 (ipykernel)",
   "language": "python",
   "name": "python3"
  },
  "language_info": {
   "codemirror_mode": {
    "name": "ipython",
    "version": 3
   },
   "file_extension": ".py",
   "mimetype": "text/x-python",
   "name": "python",
   "nbconvert_exporter": "python",
   "pygments_lexer": "ipython3",
   "version": "3.9.12"
  }
 },
 "nbformat": 4,
 "nbformat_minor": 5
}
