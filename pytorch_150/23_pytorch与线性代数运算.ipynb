{
 "cells": [
  {
   "cell_type": "markdown",
   "id": "e1d02c18-6bfb-4275-9ab3-90d299f363de",
   "metadata": {},
   "source": [
    "# Tensor中的范数运算\n",
    "- 范数\n",
    "    -  在泛函分析中， 它定义在赋范线性空间中，并满足一定的条件，即\n",
    "        - 非负性\n",
    "        - 齐次性\n",
    "        - 三角不等式\n",
    "    - 常被用来度量某个向量空间（或矩阵）中的每个向量的长度或大小\n",
    "- 0范数/1范数/2范数/p范数/核范数\n",
    "    - torch.dist(iunput, other, p=2)  计算p范数\n",
    "    - torch.norm()  计算2范数\n",
    "- 0范数：非零元素的和\n",
    "- 1范数：向量元素绝对值的和\n",
    "- 2范数：元素平方和开根号（欧式距离）\n",
    "- p范数：元素p次方和开p次根好"
   ]
  },
  {
   "cell_type": "markdown",
   "id": "0ad8683f-9a71-4dfe-8e3e-2a5f78c89b3d",
   "metadata": {},
   "source": [
    "## 范数在机器学习中的作用\n",
    "- 定义loss\n",
    "    - 向量之间的距离\n",
    "- 参数约束\n",
    "    - 向量/矩阵：tensor\n",
    "    - 正则化"
   ]
  }
 ],
 "metadata": {
  "kernelspec": {
   "display_name": "Python 3 (ipykernel)",
   "language": "python",
   "name": "python3"
  },
  "language_info": {
   "codemirror_mode": {
    "name": "ipython",
    "version": 3
   },
   "file_extension": ".py",
   "mimetype": "text/x-python",
   "name": "python",
   "nbconvert_exporter": "python",
   "pygments_lexer": "ipython3",
   "version": "3.9.12"
  }
 },
 "nbformat": 4,
 "nbformat_minor": 5
}
