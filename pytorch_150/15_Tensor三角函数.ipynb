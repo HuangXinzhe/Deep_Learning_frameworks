{
 "cells": [
  {
   "cell_type": "markdown",
   "id": "86bb6256-217e-4859-9574-0e7cb8523a52",
   "metadata": {},
   "source": [
    "# Tensor的三角函数\n",
    "- torch.abs(input, out=None)\n",
    "- torch.acos(input, out=None)\n",
    "- torch.asin(input, out=None)\n",
    "- torch.atan(input, out=None)\n",
    "- torch.atan2(input, input2, out=None)\n",
    "- torch.cos(input, out=None)\n",
    "- torch.cosh(input, out=None)\n",
    "- torch.sin(input, out=None)\n",
    "- torch.sinh(input, out=None)\n",
    "- torch.tan(input, out=None)\n",
    "- torch.tanh(input, out=None)"
   ]
  },
  {
   "cell_type": "code",
   "execution_count": null,
   "id": "b0b978e2-f2eb-495d-96a9-c78706768973",
   "metadata": {},
   "outputs": [],
   "source": []
  }
 ],
 "metadata": {
  "kernelspec": {
   "display_name": "Python 3 (ipykernel)",
   "language": "python",
   "name": "python3"
  },
  "language_info": {
   "codemirror_mode": {
    "name": "ipython",
    "version": 3
   },
   "file_extension": ".py",
   "mimetype": "text/x-python",
   "name": "python",
   "nbconvert_exporter": "python",
   "pygments_lexer": "ipython3",
   "version": "3.9.12"
  }
 },
 "nbformat": 4,
 "nbformat_minor": 5
}
