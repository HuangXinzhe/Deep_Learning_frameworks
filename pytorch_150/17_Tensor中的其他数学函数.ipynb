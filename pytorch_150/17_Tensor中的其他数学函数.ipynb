{
 "cells": [
  {
   "cell_type": "markdown",
   "id": "8e967e66-b3e4-45f0-bd4c-ca764d412901",
   "metadata": {},
   "source": [
    "# Tensor中其他的数学函数\n",
    "- torch.abs()\n",
    "- torch.erf()\n",
    "- torch.erfinv()\n",
    "- torch.sigmoid()\n",
    "- torch.neg()\n",
    "- torch.reciprocal()\n",
    "- torch.rsqrt()\n",
    "- torch.sign()\n",
    "- torch.lerp()\n",
    "- torch.addcdiv()\n",
    "- torch.addcmul()\n",
    "- torch.cumprod()\n",
    "- torch.cumsum()"
   ]
  }
 ],
 "metadata": {
  "kernelspec": {
   "display_name": "Python 3 (ipykernel)",
   "language": "python",
   "name": "python3"
  },
  "language_info": {
   "codemirror_mode": {
    "name": "ipython",
    "version": 3
   },
   "file_extension": ".py",
   "mimetype": "text/x-python",
   "name": "python",
   "nbconvert_exporter": "python",
   "pygments_lexer": "ipython3",
   "version": "3.9.12"
  }
 },
 "nbformat": 4,
 "nbformat_minor": 5
}
