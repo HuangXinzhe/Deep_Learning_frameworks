{
 "cells": [
  {
   "cell_type": "markdown",
   "id": "dab4557e",
   "metadata": {},
   "source": [
    "# Tensor的属性\n",
    "- 每个Tensor有torch.dtype、torch.device、torch.layout三种属性。\n",
    "- torch.device标识了torch.Tensor对象在创建之后所存储在的设备名称。\n",
    "- torch.layout表示torch.Tensor内存布局的对象。"
   ]
  },
  {
   "cell_type": "code",
   "execution_count": 3,
   "id": "7bd9b0b3",
   "metadata": {},
   "outputs": [],
   "source": [
    "import torch"
   ]
  },
  {
   "cell_type": "code",
   "execution_count": 4,
   "id": "e9b91307",
   "metadata": {},
   "outputs": [
    {
     "data": {
      "text/plain": [
       "tensor([1., 2., 3.])"
      ]
     },
     "execution_count": 4,
     "metadata": {},
     "output_type": "execute_result"
    }
   ],
   "source": [
    "torch.tensor([1, 2, 3], dtype=torch.float32, device=torch.device('cpu'))"
   ]
  },
  {
   "cell_type": "markdown",
   "id": "2044e2df",
   "metadata": {},
   "source": [
    "## 稀疏的张量\n",
    "- torch.sparse_coo_tensor\n",
    "- coo类型表示了非零元素的坐标形式"
   ]
  },
  {
   "cell_type": "markdown",
   "id": "0a0dd8e3",
   "metadata": {},
   "source": [
    "### 数据稀疏的好处\n",
    "- 可以使得模型变得简单。参数中0的个数很多，参数的个数降低，可以将模型简化\n",
    "- 对数据稀疏化的表示可以减少在内存中的开销"
   ]
  },
  {
   "cell_type": "code",
   "execution_count": 7,
   "id": "a1021f64",
   "metadata": {},
   "outputs": [
    {
     "data": {
      "text/plain": [
       "tensor(indices=tensor([[0, 1, 1],\n",
       "                       [2, 0, 2]]),\n",
       "       values=tensor([3., 4., 5.]),\n",
       "       size=(2, 4), nnz=3, layout=torch.sparse_coo)"
      ]
     },
     "execution_count": 7,
     "metadata": {},
     "output_type": "execute_result"
    }
   ],
   "source": [
    "indices = torch.tensor([[0, 1, 1], [2, 0, 2]])  # 数据中非零元素的坐标\n",
    "values = torch.tensor([3, 4, 5], dtype=torch.float32)  # 数据中非零元素\n",
    "x = torch.sparse_coo_tensor(indices, values, [2, 4])  # 数据形状给出则为给出的形状，否则为推断出的形状\n",
    "x"
   ]
  },
  {
   "cell_type": "code",
   "execution_count": null,
   "id": "789de768",
   "metadata": {},
   "outputs": [],
   "source": []
  }
 ],
 "metadata": {
  "kernelspec": {
   "display_name": "Python 3",
   "language": "python",
   "name": "python3"
  },
  "language_info": {
   "codemirror_mode": {
    "name": "ipython",
    "version": 3
   },
   "file_extension": ".py",
   "mimetype": "text/x-python",
   "name": "python",
   "nbconvert_exporter": "python",
   "pygments_lexer": "ipython3",
   "version": "3.9.12"
  }
 },
 "nbformat": 4,
 "nbformat_minor": 5
}
