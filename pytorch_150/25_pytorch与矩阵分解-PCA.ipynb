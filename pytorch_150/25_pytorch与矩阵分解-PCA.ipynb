{
 "cells": [
  {
   "cell_type": "markdown",
   "id": "fae12d04-5639-48c0-a5c7-f2dc999bf5ec",
   "metadata": {},
   "source": [
    "# Tensor中的矩阵分解\n",
    "- 机器学习有两个方面\n",
    "    - 从概率的角度解释机器学习的概念\n",
    "    - 从矩阵的角度对机器学习进行解释\n",
    "- 常见的矩阵分解\n",
    "    - LU分解：将矩阵A分解成L（下三角）矩阵和U（上三角）矩阵的乘积\n",
    "    - QR分解：将原矩阵分解成一个正交矩阵Q和一个上三角矩阵R的乘积\n",
    "    - EVD分解：特征值分解，PCA，无监督\n",
    "    - SVD分解：奇异值分解，LDA，特征工程相关，有监督"
   ]
  },
  {
   "cell_type": "markdown",
   "id": "4357ed26-29a3-4436-af64-fe95bb1eafd1",
   "metadata": {},
   "source": [
    "- 特征值分解\n",
    "    - 将矩阵分解为由其特征值和特征向量表示的矩阵之积的方法\n",
    "    - 特征值VS特征向量\n",
    "    - 满秩的矩阵为非奇异矩阵\n",
    "    - 非满秩的矩阵为奇异矩阵  "
   ]
  },
  {
   "cell_type": "markdown",
   "id": "e4853a7d-0ee9-49f5-a17f-9b678ccf3bd1",
   "metadata": {},
   "source": [
    "- PCA与特征值分解（PCA主成分分析）\n",
    "    - PCA：将n维特征映射到k维上，这k维是全新的正交特征也被称为主成分，实在原有n维特征的基础上重新构造出来的k维特征\n",
    "    - PCA算法的优化目标就是\n",
    "        - 降维后同意未读的方差最大（特征丰富）\n",
    "        - 不同维度之间的相关性为0（冗余度低）\n",
    "        - 协方差矩阵"
   ]
  },
  {
   "cell_type": "code",
   "execution_count": null,
   "id": "986b7252-d613-4c7d-8b55-83776a2515af",
   "metadata": {},
   "outputs": [],
   "source": []
  },
  {
   "cell_type": "code",
   "execution_count": null,
   "id": "5c909149-4171-4c9a-bede-d92e84f65fc9",
   "metadata": {},
   "outputs": [],
   "source": []
  },
  {
   "cell_type": "code",
   "execution_count": null,
   "id": "a2922110-7d9d-4c77-bf11-de0dd67e7354",
   "metadata": {},
   "outputs": [],
   "source": []
  },
  {
   "cell_type": "code",
   "execution_count": null,
   "id": "65e3ba9b-dc07-4099-ad71-e9566ca5af41",
   "metadata": {},
   "outputs": [],
   "source": []
  },
  {
   "cell_type": "code",
   "execution_count": null,
   "id": "06792c6d-ec09-482e-b79d-834bfe1b4688",
   "metadata": {},
   "outputs": [],
   "source": []
  },
  {
   "cell_type": "code",
   "execution_count": null,
   "id": "6fd28a41-9d8c-40ed-869b-9d05e7c375a3",
   "metadata": {},
   "outputs": [],
   "source": []
  }
 ],
 "metadata": {
  "kernelspec": {
   "display_name": "Python 3 (ipykernel)",
   "language": "python",
   "name": "python3"
  },
  "language_info": {
   "codemirror_mode": {
    "name": "ipython",
    "version": 3
   },
   "file_extension": ".py",
   "mimetype": "text/x-python",
   "name": "python",
   "nbconvert_exporter": "python",
   "pygments_lexer": "ipython3",
   "version": "3.9.12"
  }
 },
 "nbformat": 4,
 "nbformat_minor": 5
}
