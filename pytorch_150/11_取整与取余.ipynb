{
 "cells": [
  {
   "cell_type": "markdown",
   "id": "94787f3d-5256-4567-970c-60b3db349d9e",
   "metadata": {},
   "source": [
    "# Tensor的取整/取余运算\n",
    "- .floor()向下取整数\n",
    "- .ceil()向上取整数\n",
    "- .round()四舍五入\n",
    "- .trunc()裁剪，只取整数部分\n",
    "- .frac()只取小数部分\n",
    "- %取余"
   ]
  },
  {
   "cell_type": "code",
   "execution_count": null,
   "id": "797fe4ae-6dfa-4a71-a353-957b4b3a3608",
   "metadata": {},
   "outputs": [],
   "source": []
  }
 ],
 "metadata": {
  "kernelspec": {
   "display_name": "Python 3 (ipykernel)",
   "language": "python",
   "name": "python3"
  },
  "language_info": {
   "codemirror_mode": {
    "name": "ipython",
    "version": 3
   },
   "file_extension": ".py",
   "mimetype": "text/x-python",
   "name": "python",
   "nbconvert_exporter": "python",
   "pygments_lexer": "ipython3",
   "version": "3.9.12"
  }
 },
 "nbformat": 4,
 "nbformat_minor": 5
}
