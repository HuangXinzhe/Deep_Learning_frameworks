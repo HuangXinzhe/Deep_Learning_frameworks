{
 "cells": [
  {
   "cell_type": "markdown",
   "id": "c7cc8cf3-6e26-4901-a1cc-baa1ced050ac",
   "metadata": {},
   "source": [
    "# 机器学习中的任务\n",
    "## 分类：预测离散值\n",
    "## 回归：预测连续值\n",
    "机器学习从数据中总结出规律并进行进一步的推理和预测"
   ]
  },
  {
   "cell_type": "markdown",
   "id": "d23939e1-3502-4db0-933d-a2ca34ae4b73",
   "metadata": {},
   "source": [
    "## 机器学习问题的构成元素"
   ]
  },
  {
   "cell_type": "markdown",
   "id": "7cf1da9b-383e-4cce-b182-ec81eca7a6ff",
   "metadata": {},
   "source": [
    "### 样本：抽取与获取知识的依据  \n",
    "属性：对样本的描述，样本本身的性质  \n",
    "标签：样本类别，样本归类"
   ]
  },
  {
   "cell_type": "markdown",
   "id": "3681c302-0b31-4e7b-90a9-aebe6fcc37a0",
   "metadata": {},
   "source": [
    "模型：通过挖掘属性内在联系来得到样本的标签  "
   ]
  },
  {
   "cell_type": "markdown",
   "id": "686b2853-a20a-4452-bdfe-e599f162d849",
   "metadata": {},
   "source": [
    "训练：学习就是训练的过程，计算出模型的参数"
   ]
  },
  {
   "cell_type": "markdown",
   "id": "24b35b07-2cf9-4408-802b-1334595240ad",
   "metadata": {},
   "source": [
    "测试：对模型参数进行评价，对模型性能的评估"
   ]
  },
  {
   "cell_type": "markdown",
   "id": "2ccab2b4-1879-4e2a-821e-cd2dfd558079",
   "metadata": {},
   "source": [
    "推理：对当前样本进行推理，获得标签，推理的过程就是计算标签的过程"
   ]
  },
  {
   "cell_type": "code",
   "execution_count": null,
   "id": "a6ae3cc1-5493-491e-9f07-b4ac4f721e71",
   "metadata": {},
   "outputs": [],
   "source": []
  }
 ],
 "metadata": {
  "kernelspec": {
   "display_name": "Python 3 (ipykernel)",
   "language": "python",
   "name": "python3"
  },
  "language_info": {
   "codemirror_mode": {
    "name": "ipython",
    "version": 3
   },
   "file_extension": ".py",
   "mimetype": "text/x-python",
   "name": "python",
   "nbconvert_exporter": "python",
   "pygments_lexer": "ipython3",
   "version": "3.9.12"
  }
 },
 "nbformat": 4,
 "nbformat_minor": 5
}
