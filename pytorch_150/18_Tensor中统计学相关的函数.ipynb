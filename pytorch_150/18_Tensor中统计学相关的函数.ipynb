{
 "cells": [
  {
   "cell_type": "markdown",
   "id": "9cd358d1-3563-4767-a64e-b2933430d3dc",
   "metadata": {},
   "source": [
    "# Tensor中统计学相关的函数"
   ]
  },
  {
   "cell_type": "code",
   "execution_count": null,
   "id": "fd5d8e53-bbf2-4f65-9d8f-64a51603b754",
   "metadata": {},
   "outputs": [],
   "source": [
    "torch.mean()  # 返回平均值\n",
    "torch.sum()  # 返回总和\n",
    "torch.prod()  # 计算所有元素的积\n",
    "torch.max()  # 返回最大值\n",
    "torch.mmin()  # 返回最小值\n",
    "torch.argmax()  # 返回最大值排序的索引值\n",
    "torch.argmin()  # 返回最小值排序的索引值"
   ]
  },
  {
   "cell_type": "code",
   "execution_count": null,
   "id": "95dd5846-34a6-4015-b913-1bf71dd83bdb",
   "metadata": {},
   "outputs": [],
   "source": [
    "torch.std()  # 返回标准差\n",
    "torch.var()  # 返回方差\n",
    "torch.median()  # 返回中间值\n",
    "torch.mode()  # 返回众数值\n",
    "torch.histc()  # 计算input的直方图\n",
    "torch.bincount()  # 返回每个值的频数"
   ]
  },
  {
   "cell_type": "code",
   "execution_count": null,
   "id": "a0cff244-4ec8-4b90-bcb6-851ef54efc5d",
   "metadata": {},
   "outputs": [],
   "source": []
  },
  {
   "cell_type": "code",
   "execution_count": null,
   "id": "5940194f-4d59-4d13-84f1-0e1103d43c55",
   "metadata": {},
   "outputs": [],
   "source": []
  },
  {
   "cell_type": "code",
   "execution_count": null,
   "id": "6f28dda0-4b45-4ade-a641-622e26305d41",
   "metadata": {},
   "outputs": [],
   "source": []
  },
  {
   "cell_type": "code",
   "execution_count": null,
   "id": "4f32bbee-a8b9-4c05-85ce-6d685d55a7b8",
   "metadata": {},
   "outputs": [],
   "source": []
  },
  {
   "cell_type": "code",
   "execution_count": null,
   "id": "cb8f3b12-ed06-49d4-8492-687e90fea029",
   "metadata": {},
   "outputs": [],
   "source": []
  },
  {
   "cell_type": "code",
   "execution_count": null,
   "id": "67f7ae36-da77-40e9-93ba-9accdfb88748",
   "metadata": {},
   "outputs": [],
   "source": []
  }
 ],
 "metadata": {
  "kernelspec": {
   "display_name": "Python 3 (ipykernel)",
   "language": "python",
   "name": "python3"
  },
  "language_info": {
   "codemirror_mode": {
    "name": "ipython",
    "version": 3
   },
   "file_extension": ".py",
   "mimetype": "text/x-python",
   "name": "python",
   "nbconvert_exporter": "python",
   "pygments_lexer": "ipython3",
   "version": "3.9.12"
  }
 },
 "nbformat": 4,
 "nbformat_minor": 5
}
