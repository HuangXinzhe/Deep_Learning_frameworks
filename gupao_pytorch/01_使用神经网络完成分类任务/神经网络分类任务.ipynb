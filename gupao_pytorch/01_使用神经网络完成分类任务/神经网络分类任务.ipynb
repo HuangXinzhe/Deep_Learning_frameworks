{
 "cells": [
  {
   "cell_type": "markdown",
   "metadata": {},
   "source": [
    "### Mnist分类任务：\n",
    "\n",
    "- 网络基本构建与训练方法，常用函数解析\n",
    "\n",
    "- torch.nn.functional模块\n",
    "\n",
    "- nn.Module模块\n"
   ]
  },
  {
   "cell_type": "markdown",
   "metadata": {},
   "source": [
    "### 读取Mnist数据集\n",
    "- 会自动进行下载"
   ]
  },
  {
   "cell_type": "code",
   "execution_count": 6,
   "metadata": {
    "tags": []
   },
   "outputs": [],
   "source": [
    "%matplotlib inline"
   ]
  },
  {
   "cell_type": "code",
   "execution_count": 7,
   "metadata": {
    "tags": []
   },
   "outputs": [],
   "source": [
    "from pathlib import Path\n",
    "import requests\n",
    "\n",
    "DATA_PATH = Path(\"data\")\n",
    "PATH = DATA_PATH / \"mnist\"\n",
    "\n",
    "PATH.mkdir(parents=True, exist_ok=True)\n",
    "\n",
    "URL = \"http://deeplearning.net/data/mnist/\"\n",
    "FILENAME = \"mnist.pkl.gz\"\n",
    "\n",
    "if not (PATH / FILENAME).exists():\n",
    "        content = requests.get(URL + FILENAME).content\n",
    "        (PATH / FILENAME).open(\"wb\").write(content)"
   ]
  },
  {
   "cell_type": "code",
   "execution_count": 8,
   "metadata": {
    "tags": []
   },
   "outputs": [],
   "source": [
    "import pickle\n",
    "import gzip\n",
    "\n",
    "with gzip.open((PATH / FILENAME).as_posix(), \"rb\") as f:\n",
    "        ((x_train, y_train), (x_valid, y_valid), _) = pickle.load(f, encoding=\"latin-1\")"
   ]
  },
  {
   "cell_type": "markdown",
   "metadata": {},
   "source": [
    "784是mnist数据集每个样本的像素点个数"
   ]
  },
  {
   "cell_type": "code",
   "execution_count": 9,
   "metadata": {},
   "outputs": [
    {
     "name": "stdout",
     "output_type": "stream",
     "text": [
      "(50000, 784)\n"
     ]
    },
    {
     "data": {
      "image/png": "[encoded data removed]",
      "text/plain": [
       "<Figure size 640x480 with 1 Axes>"
      ]
     },
     "metadata": {},
     "output_type": "display_data"
    }
   ],
   "source": [
    "from matplotlib import pyplot\n",
    "import numpy as np\n",
    "\n",
    "pyplot.imshow(x_train[0].reshape((28, 28)), cmap=\"gray\")\n",
    "print(x_train.shape)"
   ]
  },
  {
   "cell_type": "markdown",
   "metadata": {},
   "source": [
    "<img src=\"./img/4.png\" alt=\"FAO\" width=\"790\">"
   ]
  },
  {
   "cell_type": "markdown",
   "metadata": {},
   "source": [
    "<img src=\"./img/5.png\" alt=\"FAO\" width=\"790\">"
   ]
  },
  {
   "cell_type": "markdown",
   "metadata": {},
   "source": [
    "注意数据需转换成tensor才能参与后续建模训练\n"
   ]
  },
  {
   "cell_type": "code",
   "execution_count": 10,
   "metadata": {},
   "outputs": [
    {
     "name": "stdout",
     "output_type": "stream",
     "text": [
      "tensor([[0., 0., 0.,  ..., 0., 0., 0.],\n",
      "        [0., 0., 0.,  ..., 0., 0., 0.],\n",
      "        [0., 0., 0.,  ..., 0., 0., 0.],\n",
      "        ...,\n",
      "        [0., 0., 0.,  ..., 0., 0., 0.],\n",
      "        [0., 0., 0.,  ..., 0., 0., 0.],\n",
      "        [0., 0., 0.,  ..., 0., 0., 0.]]) tensor([5, 0, 4,  ..., 8, 4, 8])\n",
      "torch.Size([50000, 784])\n",
      "tensor(0) tensor(9)\n"
     ]
    }
   ],
   "source": [
    "import torch\n",
    "\n",
    "# 将数据都转换为tensor形式\n",
    "x_train, y_train, x_valid, y_valid = map(\n",
    "    torch.tensor, (x_train, y_train, x_valid, y_valid)\n",
    ")\n",
    "n, c = x_train.shape\n",
    "x_train, x_train.shape, y_train.min(), y_train.max()\n",
    "print(x_train, y_train)\n",
    "print(x_train.shape)\n",
    "print(y_train.min(), y_train.max())"
   ]
  },
  {
   "cell_type": "markdown",
   "metadata": {},
   "source": [
    "### torch.nn.functional 很多层和函数在这里都会见到\n",
    "\n",
    "torch.nn.functional中有很多功能，后续会常用的。那什么时候使用nn.Module，什么时候使用nn.functional呢？一般情况下，如果模型有可学习的参数，最好用nn.Module，其他情况nn.functional相对更简单一些"
   ]
  },
  {
   "cell_type": "code",
   "execution_count": 11,
   "metadata": {
    "tags": []
   },
   "outputs": [],
   "source": [
    "import torch.nn.functional as F\n",
    "\n",
    "loss_func = F.cross_entropy\n",
    "\n",
    "def model(xb):\n",
    "    return xb.mm(weights) + bias"
   ]
  },
  {
   "cell_type": "code",
   "execution_count": 23,
   "metadata": {},
   "outputs": [
    {
     "name": "stdout",
     "output_type": "stream",
     "text": [
      "tensor(16.1458, grad_fn=<NllLossBackward0>)\n"
     ]
    }
   ],
   "source": [
    "bs = 64 # 每个batch的样本个数\n",
    "xb = x_train[0:bs]  # a mini-batch from x\n",
    "yb = y_train[0:bs]\n",
    "weights = torch.randn([784, 10], dtype = torch.float,  requires_grad = True) \n",
    "# bs = 64\n",
    "bias = torch.zeros(10, requires_grad=True)\n",
    "\n",
    "print(loss_func(model(xb), yb))"
   ]
  },
  {
   "cell_type": "markdown",
   "metadata": {},
   "source": [
    "### 创建一个model来更简化代码"
   ]
  },
  {
   "cell_type": "markdown",
   "metadata": {},
   "source": [
    "- 必须继承nn.Module且在其构造函数中需调用nn.Module的构造函数\n",
    "- 无需写反向传播函数，nn.Module能够利用autograd自动实现反向传播\n",
    "- Module中的可学习参数可以通过named_parameters()或者parameters()返回迭代器"
   ]
  },
  {
   "cell_type": "code",
   "execution_count": 39,
   "metadata": {
    "tags": []
   },
   "outputs": [],
   "source": [
    "from torch import nn\n",
    "\n",
    "class Mnist_NN(nn.Module):\n",
    "    def __init__(self):\n",
    "        super().__init__()\n",
    "        self.hidden1 = nn.Linear(784, 128)\n",
    "        self.hidden2 = nn.Linear(128, 256)\n",
    "        self.out  = nn.Linear(256, 10)\n",
    "        self.dropout = nn.Dropout(0.5)\n",
    "\n",
    "    def forward(self, x):\n",
    "        x = F.relu(self.hidden1(x))\n",
    "        x = self.dropout(x)\n",
    "        x = F.relu(self.hidden2(x))\n",
    "        x = self.dropout(x)\n",
    "        x = self.out(x)\n",
    "        return x      "
   ]
  },
  {
   "cell_type": "code",
   "execution_count": 40,
   "metadata": {},
   "outputs": [
    {
     "name": "stdout",
     "output_type": "stream",
     "text": [
      "Mnist_NN(\n",
      "  (hidden1): Linear(in_features=784, out_features=128, bias=True)\n",
      "  (hidden2): Linear(in_features=128, out_features=256, bias=True)\n",
      "  (out): Linear(in_features=256, out_features=10, bias=True)\n",
      "  (dropout): Dropout(p=0.5, inplace=False)\n",
      ")\n"
     ]
    }
   ],
   "source": [
    "net = Mnist_NN()\n",
    "print(net)"
   ]
  },
  {
   "cell_type": "markdown",
   "metadata": {},
   "source": [
    "可以打印我们定义好名字里的权重和偏置项"
   ]
  },
  {
   "cell_type": "code",
   "execution_count": 41,
   "metadata": {},
   "outputs": [
    {
     "name": "stdout",
     "output_type": "stream",
     "text": [
      "hidden1.weight Parameter containing:\n",
      "tensor([[ 2.9197e-02, -2.0047e-02, -3.3006e-02,  ...,  1.4537e-02,\n",
      "         -3.2849e-02, -9.5268e-03],\n",
      "        [-2.5251e-02, -1.5324e-02,  1.0877e-02,  ..., -1.7610e-03,\n",
      "         -2.5346e-02, -9.0852e-03],\n",
      "        [ 5.6030e-03,  1.4431e-02, -2.6231e-02,  ...,  2.7687e-03,\n",
      "          3.0335e-02, -3.5705e-02],\n",
      "        ...,\n",
      "        [ 2.8270e-02,  2.2885e-02,  6.7088e-04,  ...,  2.9183e-03,\n",
      "          1.7280e-02, -6.2007e-03],\n",
      "        [-3.0118e-02,  2.0998e-02,  8.3384e-04,  ..., -2.7105e-02,\n",
      "          1.3411e-05, -1.7489e-02],\n",
      "        [-3.0761e-02, -2.8235e-02, -3.3469e-02,  ...,  3.1125e-02,\n",
      "          1.7620e-02, -2.1721e-02]], requires_grad=True) torch.Size([128, 784])\n",
      "hidden1.bias Parameter containing:\n",
      "tensor([-1.2239e-02,  1.9330e-02,  3.1405e-02, -1.6772e-02,  2.4372e-02,\n",
      "        -9.2168e-03,  2.6496e-03,  4.3175e-03,  2.4881e-02,  4.6234e-03,\n",
      "        -1.8851e-02,  2.9611e-02, -2.3438e-02, -2.6120e-02,  2.2516e-02,\n",
      "        -8.2630e-03, -3.3510e-02, -6.7327e-03, -1.1027e-02,  2.5001e-02,\n",
      "         2.5033e-02, -4.1822e-03,  3.2512e-02, -8.6935e-03,  2.9864e-02,\n",
      "         3.2913e-03, -2.9974e-02, -1.7548e-02,  8.3075e-03, -1.1519e-02,\n",
      "        -2.0743e-02,  1.2161e-02,  2.2540e-02,  1.0093e-02, -4.9951e-04,\n",
      "         1.7046e-02, -3.3908e-02, -8.0610e-03, -1.6379e-02, -1.2086e-02,\n",
      "        -8.2374e-03, -1.0969e-03, -3.0856e-02,  2.8477e-02, -1.3514e-02,\n",
      "        -3.4469e-03, -2.1107e-02,  1.4992e-02,  1.6176e-02,  3.4190e-02,\n",
      "        -2.3654e-02, -2.6084e-02,  1.8311e-02,  1.3212e-02,  9.2248e-03,\n",
      "        -1.5792e-02,  3.2036e-02,  1.7077e-02, -2.3664e-02,  8.3077e-03,\n",
      "        -1.9531e-02, -1.8639e-02,  2.7540e-02, -2.3287e-02, -2.8059e-02,\n",
      "         2.0671e-03, -1.2849e-02, -1.7145e-02,  1.6482e-02,  2.5692e-02,\n",
      "        -9.2585e-05, -7.6437e-03,  1.6609e-03, -1.1421e-02, -2.1295e-02,\n",
      "        -2.3565e-02, -3.1826e-02,  2.4503e-02,  1.5938e-02,  2.3773e-02,\n",
      "        -2.4376e-02, -2.5380e-02, -2.4370e-02,  3.0988e-02, -1.9653e-02,\n",
      "        -3.3651e-02, -2.7743e-02,  1.9790e-02,  3.3420e-03, -7.8445e-03,\n",
      "         1.4441e-02, -2.7050e-02,  3.8976e-03, -1.4864e-02, -1.5869e-02,\n",
      "        -1.9059e-02,  2.3776e-02,  3.0157e-02,  5.5336e-03, -8.6237e-04,\n",
      "        -1.1786e-02, -3.0163e-02, -1.4487e-02, -7.9821e-03, -6.3420e-03,\n",
      "         2.6755e-03, -1.7778e-02, -2.4305e-02,  8.7915e-03, -1.9601e-04,\n",
      "        -1.2898e-03, -7.5641e-03,  3.4712e-02, -3.3672e-02,  2.7660e-03,\n",
      "         2.6988e-02,  2.4952e-02,  6.3787e-03,  1.2446e-02,  3.2370e-02,\n",
      "        -6.4930e-03, -2.9105e-02,  3.2620e-02,  1.3486e-03,  1.0757e-03,\n",
      "        -2.5675e-02, -2.6060e-02, -1.2114e-02], requires_grad=True) torch.Size([128])\n",
      "hidden2.weight Parameter containing:\n",
      "tensor([[ 0.0182,  0.0529,  0.0456,  ..., -0.0683, -0.0822, -0.0685],\n",
      "        [ 0.0847, -0.0428, -0.0622,  ..., -0.0254, -0.0289,  0.0482],\n",
      "        [-0.0112, -0.0433,  0.0112,  ...,  0.0553,  0.0279,  0.0164],\n",
      "        ...,\n",
      "        [ 0.0521, -0.0716,  0.0585,  ..., -0.0865,  0.0823, -0.0715],\n",
      "        [-0.0136, -0.0333, -0.0225,  ..., -0.0856,  0.0567, -0.0307],\n",
      "        [ 0.0262,  0.0651, -0.0425,  ...,  0.0298,  0.0265, -0.0653]],\n",
      "       requires_grad=True) torch.Size([256, 128])\n",
      "hidden2.bias Parameter containing:\n",
      "tensor([ 0.0254, -0.0530,  0.0270,  0.0063, -0.0024,  0.0037,  0.0800, -0.0683,\n",
      "         0.0167, -0.0415,  0.0346,  0.0815, -0.0254,  0.0553, -0.0647,  0.0795,\n",
      "         0.0159,  0.0035, -0.0168,  0.0666, -0.0286,  0.0699, -0.0261,  0.0262,\n",
      "        -0.0216, -0.0533, -0.0648,  0.0642, -0.0020, -0.0484,  0.0012,  0.0652,\n",
      "        -0.0072,  0.0685,  0.0814, -0.0325, -0.0796, -0.0744, -0.0387, -0.0568,\n",
      "         0.0873, -0.0745, -0.0724, -0.0115,  0.0662, -0.0104,  0.0586,  0.0085,\n",
      "        -0.0805, -0.0695, -0.0392,  0.0532, -0.0743,  0.0745, -0.0760, -0.0383,\n",
      "         0.0643,  0.0144, -0.0397,  0.0312, -0.0026,  0.0794, -0.0418, -0.0321,\n",
      "         0.0646,  0.0664, -0.0877, -0.0559, -0.0566, -0.0467, -0.0128, -0.0454,\n",
      "         0.0245, -0.0812,  0.0706,  0.0253, -0.0165,  0.0009, -0.0001,  0.0663,\n",
      "         0.0137, -0.0404,  0.0259,  0.0166,  0.0762, -0.0804, -0.0315,  0.0552,\n",
      "        -0.0483, -0.0475, -0.0321,  0.0815, -0.0836, -0.0088, -0.0079,  0.0111,\n",
      "         0.0594, -0.0401,  0.0423,  0.0637,  0.0294, -0.0742,  0.0617,  0.0317,\n",
      "         0.0295, -0.0480,  0.0056,  0.0056,  0.0034,  0.0652, -0.0154,  0.0794,\n",
      "        -0.0612,  0.0106, -0.0679, -0.0647, -0.0838, -0.0297,  0.0459,  0.0700,\n",
      "         0.0418, -0.0411, -0.0720,  0.0355, -0.0518,  0.0198, -0.0195, -0.0199,\n",
      "        -0.0463, -0.0228,  0.0817, -0.0151,  0.0111, -0.0854,  0.0627, -0.0190,\n",
      "         0.0741,  0.0822,  0.0207, -0.0879, -0.0831,  0.0410, -0.0626,  0.0454,\n",
      "        -0.0625, -0.0409,  0.0216,  0.0241,  0.0824,  0.0626, -0.0807, -0.0096,\n",
      "        -0.0720,  0.0243, -0.0036, -0.0458, -0.0471,  0.0342, -0.0523,  0.0480,\n",
      "        -0.0478,  0.0612,  0.0858,  0.0172,  0.0552, -0.0251, -0.0305,  0.0690,\n",
      "         0.0548, -0.0564, -0.0244,  0.0318,  0.0385, -0.0377,  0.0016, -0.0055,\n",
      "        -0.0155,  0.0347, -0.0614, -0.0334,  0.0137, -0.0598,  0.0560,  0.0267,\n",
      "         0.0813, -0.0423,  0.0382,  0.0282, -0.0696,  0.0224, -0.0422, -0.0674,\n",
      "        -0.0480,  0.0487,  0.0206,  0.0769, -0.0557,  0.0043,  0.0431, -0.0032,\n",
      "        -0.0646,  0.0882, -0.0839, -0.0649,  0.0211,  0.0746,  0.0708, -0.0622,\n",
      "        -0.0145, -0.0734, -0.0733,  0.0246,  0.0151,  0.0204, -0.0084, -0.0871,\n",
      "        -0.0707, -0.0226, -0.0499, -0.0382,  0.0049,  0.0359, -0.0730,  0.0588,\n",
      "        -0.0358, -0.0155,  0.0397,  0.0072,  0.0416,  0.0772,  0.0881,  0.0872,\n",
      "         0.0476,  0.0717,  0.0072, -0.0467,  0.0857, -0.0318,  0.0171, -0.0825,\n",
      "         0.0716, -0.0723,  0.0190, -0.0098,  0.0572, -0.0365,  0.0867,  0.0015,\n",
      "        -0.0538,  0.0477,  0.0548,  0.0879,  0.0207,  0.0323, -0.0883, -0.0030],\n",
      "       requires_grad=True) torch.Size([256])\n",
      "out.weight Parameter containing:\n",
      "tensor([[ 0.0385, -0.0226,  0.0135,  ..., -0.0150, -0.0088,  0.0402],\n",
      "        [ 0.0597, -0.0235,  0.0262,  ..., -0.0413, -0.0235, -0.0531],\n",
      "        [ 0.0376, -0.0378,  0.0365,  ...,  0.0469,  0.0343, -0.0342],\n",
      "        ...,\n",
      "        [ 0.0088,  0.0344, -0.0005,  ...,  0.0058,  0.0415, -0.0090],\n",
      "        [ 0.0495, -0.0308, -0.0481,  ..., -0.0350, -0.0600,  0.0354],\n",
      "        [-0.0305, -0.0422,  0.0380,  ...,  0.0133, -0.0460,  0.0388]],\n",
      "       requires_grad=True) torch.Size([10, 256])\n",
      "out.bias Parameter containing:\n",
      "tensor([ 0.0071,  0.0195, -0.0375, -0.0290, -0.0092,  0.0020,  0.0020, -0.0518,\n",
      "         0.0604, -0.0343], requires_grad=True) torch.Size([10])\n"
     ]
    }
   ],
   "source": [
    "for name, parameter in net.named_parameters():\n",
    "    print(name, parameter,parameter.size())"
   ]
  },
  {
   "cell_type": "markdown",
   "metadata": {},
   "source": [
    "### 使用TensorDataset和DataLoader来简化"
   ]
  },
  {
   "cell_type": "code",
   "execution_count": 42,
   "metadata": {
    "tags": []
   },
   "outputs": [],
   "source": [
    "from torch.utils.data import TensorDataset\n",
    "from torch.utils.data import DataLoader\n",
    "\n",
    "train_ds = TensorDataset(x_train, y_train)\n",
    "train_dl = DataLoader(train_ds, batch_size=bs, shuffle=True)\n",
    "\n",
    "valid_ds = TensorDataset(x_valid, y_valid)\n",
    "valid_dl = DataLoader(valid_ds, batch_size=bs * 2)"
   ]
  },
  {
   "cell_type": "code",
   "execution_count": 43,
   "metadata": {
    "tags": []
   },
   "outputs": [],
   "source": [
    "def get_data(train_ds, valid_ds, bs):\n",
    "    return (\n",
    "        DataLoader(train_ds, batch_size=bs, shuffle=True),\n",
    "        DataLoader(valid_ds, batch_size=bs * 2),\n",
    "    )"
   ]
  },
  {
   "cell_type": "markdown",
   "metadata": {},
   "source": [
    "- 一般在训练模型时加上model.train()，这样会正常使用Batch Normalization和 Dropout\n",
    "- 测试的时候一般选择model.eval()，这样就不会使用Batch Normalization和 Dropout"
   ]
  },
  {
   "cell_type": "code",
   "execution_count": 44,
   "metadata": {
    "tags": []
   },
   "outputs": [],
   "source": [
    "import numpy as np\n",
    "\n",
    "\"\"\"\n",
    "steps：迭代轮次\n",
    "model：定义的模型\n",
    "loss_func：选用的损失函数\n",
    "opt：优化器\n",
    "train_dl，valid_dl：数据打包器\n",
    "\"\"\"\n",
    "def fit(steps, model, loss_func, opt, train_dl, valid_dl):\n",
    "    for step in range(steps):\n",
    "        model.train()   # 模型训练模式，更新w，b参数\n",
    "        for xb, yb in train_dl:\n",
    "            loss_batch(model, loss_func, xb, yb, opt)\n",
    "\n",
    "        model.eval()   # 模型验证模式，不更新参数\n",
    "        with torch.no_grad():\n",
    "            losses, nums = zip(\n",
    "                *[loss_batch(model, loss_func, xb, yb) for xb, yb in valid_dl]\n",
    "            )\n",
    "        val_loss = np.sum(np.multiply(losses, nums)) / np.sum(nums)\n",
    "        print('当前step:'+str(step), '验证集损失：'+str(val_loss))"
   ]
  },
  {
   "cell_type": "code",
   "execution_count": 59,
   "metadata": {
    "tags": []
   },
   "outputs": [],
   "source": [
    "from torch import optim\n",
    "def get_model():\n",
    "    model = Mnist_NN()\n",
    "    return model, optim.Adam(model.parameters(), lr=0.001)"
   ]
  },
  {
   "cell_type": "code",
   "execution_count": 60,
   "metadata": {
    "tags": []
   },
   "outputs": [],
   "source": [
    "def loss_batch(model, loss_func, xb, yb, opt=None):\n",
    "    loss = loss_func(model(xb), yb)\n",
    "\n",
    "    if opt is not None:\n",
    "        loss.backward()\n",
    "        opt.step()  # 执行参数更新\n",
    "        opt.zero_grad()   # 参数更新会累加，每次更新需要清零\n",
    "\n",
    "    return loss.item(), len(xb)"
   ]
  },
  {
   "cell_type": "markdown",
   "metadata": {},
   "source": [
    "### 三行搞定！"
   ]
  },
  {
   "cell_type": "code",
   "execution_count": 62,
   "metadata": {},
   "outputs": [
    {
     "name": "stdout",
     "output_type": "stream",
     "text": [
      "当前step:0 验证集损失：0.18480994064509867\n",
      "当前step:1 验证集损失：0.135412650847435\n",
      "当前step:2 验证集损失：0.1229504235394299\n",
      "当前step:3 验证集损失：0.11045839943625033\n",
      "当前step:4 验证集损失：0.1022945135096088\n",
      "当前step:5 验证集损失：0.10072641502907499\n",
      "当前step:6 验证集损失：0.09387844404689967\n",
      "当前step:7 验证集损失：0.09450792992897332\n",
      "当前step:8 验证集损失：0.10118313824608922\n",
      "当前step:9 验证集损失：0.08971101570837199\n",
      "当前step:10 验证集损失：0.09323752955175005\n",
      "当前step:11 验证集损失：0.09344028095975518\n",
      "当前step:12 验证集损失：0.08932371943593025\n",
      "当前step:13 验证集损失：0.09403074770974927\n",
      "当前step:14 验证集损失：0.09083311373237521\n",
      "当前step:15 验证集损失：0.08558347255587578\n",
      "当前step:16 验证集损失：0.08581872492502443\n",
      "当前step:17 验证集损失：0.08642581661334262\n",
      "当前step:18 验证集损失：0.08600561380148865\n",
      "当前step:19 验证集损失：0.08686897720980924\n"
     ]
    }
   ],
   "source": [
    "train_dl, valid_dl = get_data(train_ds, valid_ds, bs)\n",
    "model, opt = get_model()\n",
    "fit(20, model, loss_func, opt, train_dl, valid_dl)"
   ]
  },
  {
   "cell_type": "markdown",
   "metadata": {},
   "source": [
    "## 计算当前模型的准确率"
   ]
  },
  {
   "cell_type": "code",
   "execution_count": 63,
   "metadata": {},
   "outputs": [
    {
     "name": "stdout",
     "output_type": "stream",
     "text": [
      "Accuracy of the network on the 10000 test images:97 %\n"
     ]
    }
   ],
   "source": [
    "correct = 0\n",
    "total = 0\n",
    "for xb, yb in valid_dl:\n",
    "    outputs = model(xb)\n",
    "    _, predicted = torch.max(outputs.data, 1)   # 最大的值和索引\n",
    "    total += yb.size(0)\n",
    "    correct += (predicted == yb).sum().item()   # item()将tensor数值转换为非tensor数值\n",
    "    \n",
    "print('Accuracy of the network on the 10000 test images:%d %%' % (100 * correct /total))"
   ]
  },
  {
   "cell_type": "code",
   "execution_count": 54,
   "metadata": {},
   "outputs": [
    {
     "name": "stdout",
     "output_type": "stream",
     "text": [
      "tensor([[-1.6236,  1.7055,  3.3517,  ..., -3.1295,  2.3263, -3.8307],\n",
      "        [-2.4190, -0.4384,  0.6736,  ..., -2.6797,  5.1884, -0.5277],\n",
      "        [ 1.1474, -3.0126,  1.7461,  ..., -3.2554, -1.0335, -0.8202],\n",
      "        ...,\n",
      "        [-0.0230, -3.1434,  1.4550,  ..., -4.5834, -0.7045, -0.6090],\n",
      "        [ 0.6281, -2.3088, -1.9627,  ...,  3.2865, -0.4041,  2.2118],\n",
      "        [11.1206, -9.4713,  1.4619,  ..., -3.4844,  1.9957, -2.9859]],\n",
      "       grad_fn=<AddmmBackward0>)\n",
      "torch.Size([128, 10])\n"
     ]
    }
   ],
   "source": [
    "for xb, yb in valid_dl:\n",
    "    outputs = model(xb)\n",
    "    print(outputs)   # outputs为128个样本，每个类别上的结果\n",
    "    print(outputs.shape)\n",
    "    break"
   ]
  },
  {
   "cell_type": "code",
   "execution_count": 56,
   "metadata": {},
   "outputs": [
    {
     "name": "stdout",
     "output_type": "stream",
     "text": [
      "tensor([ 5.2560,  5.1884,  5.3310,  5.1276,  7.3357,  2.8372,  4.8775,  4.2726,\n",
      "         4.5044,  3.0660,  4.5199,  7.1888,  7.5137,  5.1188,  6.1942,  6.1329,\n",
      "         5.3491,  4.3617,  8.2480,  5.4524,  5.2870,  5.1842,  5.2983,  5.1747,\n",
      "         5.2247,  2.8463,  5.3378,  5.7977,  8.2276,  5.0422,  6.4467,  4.2861,\n",
      "         6.5015,  4.8221,  7.5252,  3.6740, 12.2584,  3.2710,  5.8779,  6.8502,\n",
      "         6.3970,  4.1630,  7.0039,  5.3202,  3.4703,  6.0395,  4.0888,  5.0103,\n",
      "         4.1068,  2.0804,  6.2757,  5.0340,  5.1560,  4.3808,  3.9319,  5.8758,\n",
      "         4.4385,  7.1871,  6.5447,  5.0617,  4.6731, 11.0784,  6.7623,  7.3793,\n",
      "         6.3992,  6.3667,  8.9351,  3.6713,  4.8611,  5.4825,  8.6752,  2.8028,\n",
      "         9.9752,  7.1613,  2.2207,  4.8144,  5.0097,  6.6234,  4.2476,  4.9576,\n",
      "         4.2674,  8.5666,  3.8869,  7.0623,  3.9467,  5.6264,  6.5817,  4.3088,\n",
      "         3.4209,  6.5322,  2.1119,  3.1402,  8.2541,  9.5157,  4.0267,  9.7801,\n",
      "         8.8906,  5.8061,  8.2072,  5.5536,  7.0248,  7.9641,  6.3788,  7.3592,\n",
      "         6.5594,  6.3933,  4.8575,  5.9884,  6.9818,  3.7979,  5.5028,  4.2192,\n",
      "         5.7696,  8.8670,  4.5533,  9.1169,  2.9855,  5.2186,  9.0125,  5.6738,\n",
      "         2.3708,  9.6629,  8.1424, 11.6103,  3.3175,  7.3751,  3.2865, 11.1206])\n",
      "tensor([3, 8, 6, 9, 6, 4, 5, 5, 8, 4, 5, 2, 3, 8, 4, 8, 1, 5, 0, 5, 9, 7, 4, 1,\n",
      "        0, 5, 0, 6, 2, 9, 9, 4, 1, 5, 6, 8, 0, 7, 7, 6, 8, 9, 0, 3, 8, 3, 7, 7,\n",
      "        8, 4, 4, 1, 6, 9, 8, 1, 1, 0, 6, 6, 5, 0, 1, 1, 7, 2, 7, 3, 1, 4, 0, 5,\n",
      "        0, 6, 8, 7, 6, 8, 3, 4, 4, 0, 6, 1, 9, 2, 6, 8, 7, 4, 1, 8, 6, 6, 1, 7,\n",
      "        2, 8, 6, 9, 7, 0, 9, 1, 6, 2, 8, 3, 6, 4, 9, 5, 8, 6, 8, 7, 3, 8, 6, 9,\n",
      "        4, 7, 6, 0, 9, 6, 7, 0])\n"
     ]
    }
   ],
   "source": [
    "for xb, yb in valid_dl:\n",
    "    outputs = model(xb)\n",
    "    _, predicted = torch.max(outputs.data, 1)  # max中1为找到outputs.data上1维度上最大值，torch.max输出的是最大值与最大值的位置\n",
    "    print(_)\n",
    "    print(predicted)\n",
    "    break"
   ]
  },
  {
   "cell_type": "markdown",
   "metadata": {
    "tags": []
   },
   "source": [
    "## zip的用法"
   ]
  },
  {
   "cell_type": "code",
   "execution_count": 19,
   "metadata": {},
   "outputs": [
    {
     "name": "stdout",
     "output_type": "stream",
     "text": [
      "[(1, 4), (2, 5), (3, 6)]\n",
      "(1, 2, 3)\n",
      "(4, 5, 6)\n"
     ]
    }
   ],
   "source": [
    "a = [1, 2, 3]\n",
    "b = [4, 5, 6]\n",
    "zipped = zip(a, b)\n",
    "print(list(zipped))\n",
    "a2, b2 = zip(*zip(a, b))\n",
    "print(a2)\n",
    "print(b2)"
   ]
  },
  {
   "cell_type": "code",
   "execution_count": 21,
   "metadata": {},
   "outputs": [
    {
     "name": "stdout",
     "output_type": "stream",
     "text": [
      "(1, 4) (2, 5) (3, 6)\n"
     ]
    }
   ],
   "source": [
    "print(*zip(a, b))"
   ]
  },
  {
   "cell_type": "code",
   "execution_count": 22,
   "metadata": {},
   "outputs": [
    {
     "name": "stdout",
     "output_type": "stream",
     "text": [
      "<zip object at 0x13782d280>\n"
     ]
    }
   ],
   "source": [
    "print(zip(*zip(a, b)))"
   ]
  },
  {
   "cell_type": "code",
   "execution_count": null,
   "metadata": {},
   "outputs": [],
   "source": []
  }
 ],
 "metadata": {
  "kernelspec": {
   "display_name": "Python 3 (ipykernel)",
   "language": "python",
   "name": "python3"
  },
  "language_info": {
   "codemirror_mode": {
    "name": "ipython",
    "version": 3
   },
   "file_extension": ".py",
   "mimetype": "text/x-python",
   "name": "python",
   "nbconvert_exporter": "python",
   "pygments_lexer": "ipython3",
   "version": "3.9.12"
  }
 },
 "nbformat": 4,
 "nbformat_minor": 4
}
