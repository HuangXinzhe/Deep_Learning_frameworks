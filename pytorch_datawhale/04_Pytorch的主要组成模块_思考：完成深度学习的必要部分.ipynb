{
 "cells": [
  {
   "cell_type": "markdown",
   "id": "a49a6e79",
   "metadata": {},
   "source": [
    "## 3.1 思考：完成深度学习的必要部分"
   ]
  },
  {
   "cell_type": "markdown",
   "id": "d10b3efb",
   "metadata": {},
   "source": [
    "### 机器学习任务的步骤\n",
    "- 数据预处理\n",
    "    - 数据格式统一\n",
    "    - 必要的数据变换\n",
    "    - 划分训练集和测试集\n",
    "- 模型\n",
    "    - 选择模型\n",
    "    - 损失函数\n",
    "    - 优化方法\n",
    "    - 超参数\n",
    "- 训练\n",
    "    - 模型拟合训练集数据\n",
    "    - 在验证集和测试集上计算模型的表现"
   ]
  },
  {
   "cell_type": "markdown",
   "id": "e8e6a7b5",
   "metadata": {},
   "source": [
    "### 深度学习与机器学习的差异\n",
    "- 针对数据\n",
    "    - 所需的样本量很大，一次加载全部数据运行可能会超出内存容量而无法实现\n",
    "    - 批（batch）训练等提高模型表现的策略，需要每次训练读取固定数量的样本送入模型中训练\n",
    "    - 深度学习在数据加载上需要专门的设计\n",
    "- 针对模型\n",
    "    - 深度神经网络层数往往较多\n",
    "    - 有一些用于实现特定功能的层（如卷积层、池化层、批正则化层、LSTM层等）\n",
    "    - 深度神经网络往往需要“逐层”搭建，或者预先定义好可以实现特定功能的模块，再把这些模块组装起来\n",
    "    - 这种“定制化”的模型构建方式能够充分保证模型的灵活性，也对代码实现提出了新的要求\n",
    "- 损失函数和优化器要能够保证反向传播能够在用户自行定义的模型结构上实现\n",
    "- 深度学习中训练和验证过程最大的特点在于读入数据是按批的，每次读入一个批次的数据，放入GPU中训练，然后将损失函数反向传播回网络最前面的层，同时使用优化器调整网络参数。这里会涉及到各个模块配合的问题。训练/验证后还需要根据设定好的指标计算模型表现"
   ]
  },
  {
   "cell_type": "code",
   "execution_count": null,
   "id": "523b361c",
   "metadata": {},
   "outputs": [],
   "source": []
  }
 ],
 "metadata": {
  "kernelspec": {
   "display_name": "Python 3 (ipykernel)",
   "language": "python",
   "name": "python3"
  },
  "language_info": {
   "codemirror_mode": {
    "name": "ipython",
    "version": 3
   },
   "file_extension": ".py",
   "mimetype": "text/x-python",
   "name": "python",
   "nbconvert_exporter": "python",
   "pygments_lexer": "ipython3",
   "version": "3.9.12"
  }
 },
 "nbformat": 4,
 "nbformat_minor": 5
}
