{
 "cells": [
  {
   "cell_type": "markdown",
   "id": "c3f4e3e6-a719-45ec-861b-327a2c77326b",
   "metadata": {},
   "source": [
    "## Pytorch安装相关"
   ]
  },
  {
   "cell_type": "markdown",
   "id": "128cc42a-8a55-4685-8529-fc3cbf8ab0e5",
   "metadata": {},
   "source": [
    "### anaconda"
   ]
  },
  {
   "cell_type": "code",
   "execution_count": null,
   "id": "0aa8290f-56e5-4f5c-ae0d-0773f7e28f81",
   "metadata": {},
   "outputs": [],
   "source": [
    "# 查看现存虚拟环境\n",
    "conda env list\n",
    "\n",
    "# 创建虚拟环境\n",
    "conda create -n env_name python==version\n",
    "\n",
    "# 安装包\n",
    "conda install package_name\n",
    "\n",
    "# 卸载包\n",
    "conda remove package_name\n",
    "\n",
    "# 显示所有安装的包\n",
    "conda list\n",
    "\n",
    "# 删除虚拟环境命令\n",
    "conda remove -n env_name --all\n",
    "\n",
    "# 激活环境命令\n",
    "conda activate env_name\n",
    "\n",
    "# 退出当前环境\n",
    "conda deactivate"
   ]
  },
  {
   "cell_type": "code",
   "execution_count": null,
   "id": "58c06582-d745-4eaa-acdb-83ba0c0cafa1",
   "metadata": {},
   "outputs": [],
   "source": [
    "# 查看是否换源成功\n",
    "conda config --show default_channels\n",
    "\n",
    "# conda clean -i 清除索引缓存，保证用的是镜像站提供的索引"
   ]
  },
  {
   "cell_type": "code",
   "execution_count": null,
   "id": "47996756-0ad8-40fb-9a65-d382f25e7e27",
   "metadata": {},
   "outputs": [],
   "source": [
    "# 查看是否换源成功\n",
    "conda config --show default_channels\n",
    "\n",
    "# conda clean -i 清除索引缓存，保证用的是镜像站提供的索引"
   ]
  },
  {
   "cell_type": "code",
   "execution_count": 2,
   "id": "fd41c74b-51c5-4694-ad9b-55e5505f5875",
   "metadata": {},
   "outputs": [
    {
     "data": {
      "text/plain": [
       "False"
      ]
     },
     "execution_count": 2,
     "metadata": {},
     "output_type": "execute_result"
    }
   ],
   "source": [
    "# 检验pytorch是否安装成功\n",
    "import torch\n",
    "\n",
    "torch.cuda.is_available()\n",
    "\n",
    "# 不报错即为成功，True说明有GPU，False表示没有"
   ]
  },
  {
   "cell_type": "markdown",
   "id": "871b1919-2599-4e2f-bd94-1b3fa1a5184a",
   "metadata": {},
   "source": [
    "## Pytorch相关资料"
   ]
  },
  {
   "cell_type": "markdown",
   "id": "47ef7481-635e-4060-b5a8-7b4f58ec2420",
   "metadata": {},
   "source": [
    "1. [Awesome-pytorch-list](https://github.com/bharathgs/Awesome-pytorch-list)：目前已获12K Star，包含了NLP,CV,常见库，论文实现以及Pytorch的其他项目。\n",
    "2. [PyTorch官方文档](https://pytorch.org/docs/stable/index.html)：官方发布的文档，十分丰富。\n",
    "3. [Pytorch-handbook](https://github.com/zergtant/pytorch-handbook)：GitHub上已经收获14.8K，pytorch手中书。\n",
    "4. [PyTorch官方社区](https://discuss.pytorch.org/)：PyTorch拥有一个活跃的社区，在这里你可以和开发pytorch的人们进行交流。\n",
    "5. [PyTorch官方tutorials](https://pytorch.org/tutorials/)：官方编写的tutorials，可以结合colab边动手边学习\n",
    "6. [动手学深度学习](https://zh.d2l.ai/)：动手学深度学习是由李沐老师主讲的一门深度学习入门课，拥有成熟的书籍资源和课程资源，在B站，Youtube均有回放。\n",
    "7. [Awesome-PyTorch-Chinese](https://github.com/INTERMT/Awesome-PyTorch-Chinese)：常见的中文优质PyTorch资源"
   ]
  },
  {
   "cell_type": "code",
   "execution_count": null,
   "id": "67e9ae7d-ffa3-4a12-b5e6-854da69041bb",
   "metadata": {},
   "outputs": [],
   "source": []
  },
  {
   "cell_type": "code",
   "execution_count": null,
   "id": "2d6968b6-6b29-406f-bd56-b22344472fb8",
   "metadata": {},
   "outputs": [],
   "source": []
  }
 ],
 "metadata": {
  "kernelspec": {
   "display_name": "Python 3 (ipykernel)",
   "language": "python",
   "name": "python3"
  },
  "language_info": {
   "codemirror_mode": {
    "name": "ipython",
    "version": 3
   },
   "file_extension": ".py",
   "mimetype": "text/x-python",
   "name": "python",
   "nbconvert_exporter": "python",
   "pygments_lexer": "ipython3",
   "version": "3.9.12"
  }
 },
 "nbformat": 4,
 "nbformat_minor": 5
}
