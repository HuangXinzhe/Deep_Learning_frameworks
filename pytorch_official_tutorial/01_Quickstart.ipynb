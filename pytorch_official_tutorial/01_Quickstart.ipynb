{
 "cells": [
  {
   "cell_type": "markdown",
   "id": "d96a308f-5894-429e-afd0-62be8e83ab7b",
   "metadata": {},
   "source": [
    "# 1、Working with data"
   ]
  },
  {
   "cell_type": "markdown",
   "id": "36f41a78-d691-4a21-9586-5ce752eb3b27",
   "metadata": {},
   "source": [
    "## torch.utils.data.Dataset\n",
    "存储数据样本与相对应的标签\n",
    "## torch.utils.data.DataLoader\n",
    "给Dataset包装了一个可迭代对象"
   ]
  },
  {
   "cell_type": "code",
   "execution_count": 1,
   "id": "1b619144-a5a2-495a-8c49-5bdfc92aa44c",
   "metadata": {},
   "outputs": [],
   "source": [
    "import torch\n",
    "from torch import nn\n",
    "from torch.utils.data import DataLoader\n",
    "from torchvision import datasets\n",
    "from torchvision.transforms import ToTensor"
   ]
  },
  {
   "cell_type": "markdown",
   "id": "0fe62e65-8474-44ce-9450-b4b99eb13c04",
   "metadata": {},
   "source": [
    "## PyTorch 提供特定领域的库，例如 TorchText、TorchVision 和 TorchAudio，所有这些库都包含数据集。"
   ]
  },
  {
   "cell_type": "code",
   "execution_count": 2,
   "id": "f8d5acfe-878a-4192-b589-751cb8cbb985",
   "metadata": {},
   "outputs": [],
   "source": [
    "# Download training data from open datasets.\n",
    "training_data = datasets.FashionMNIST(\n",
    "    root=\"data\",\n",
    "    train=True,\n",
    "    download=True,\n",
    "    transform=ToTensor(),\n",
    ")\n",
    "\n",
    "# Download test data from open datasets.\n",
    "test_data = datasets.FashionMNIST(\n",
    "    root=\"data\",\n",
    "    train=False,\n",
    "    download=True,\n",
    "    transform=ToTensor(),\n",
    ")"
   ]
  },
  {
   "cell_type": "markdown",
   "id": "dd4c9522-b90f-4bd1-af47-13826050d504",
   "metadata": {},
   "source": [
    "## 在这里，我们定义了 64 的批大小，即 dataloader 迭代中的每个元素将返回一批 64 个特征和标签。"
   ]
  },
  {
   "cell_type": "code",
   "execution_count": 3,
   "id": "0764bda1-769d-4dda-905b-640a76450d79",
   "metadata": {},
   "outputs": [
    {
     "name": "stdout",
     "output_type": "stream",
     "text": [
      "Shape of X [N, C, H, W]: torch.Size([64, 1, 28, 28])\n",
      "Shape of y: torch.Size([64]) torch.int64\n"
     ]
    }
   ],
   "source": [
    "batch_size = 64\n",
    "\n",
    "# Create data loaders.\n",
    "train_dataloader = DataLoader(training_data, batch_size=batch_size)\n",
    "test_dataloader = DataLoader(test_data, batch_size=batch_size)\n",
    "\n",
    "for X, y in test_dataloader:\n",
    "    print(f\"Shape of X [N, C, H, W]: {X.shape}\")\n",
    "    print(f\"Shape of y: {y.shape} {y.dtype}\")\n",
    "    break"
   ]
  },
  {
   "cell_type": "markdown",
   "id": "f7b8e435-ecc5-4daf-a9ce-8e2aba433ab3",
   "metadata": {},
   "source": [
    "# 2、Creating Models"
   ]
  },
  {
   "cell_type": "code",
   "execution_count": 4,
   "id": "288b298e-8d9b-455d-b6a5-74973cddb728",
   "metadata": {},
   "outputs": [
    {
     "name": "stdout",
     "output_type": "stream",
     "text": [
      "Using cpu device\n",
      "NeuralNetwork(\n",
      "  (flatten): Flatten(start_dim=1, end_dim=-1)\n",
      "  (linear_relu_stack): Sequential(\n",
      "    (0): Linear(in_features=784, out_features=512, bias=True)\n",
      "    (1): ReLU()\n",
      "    (2): Linear(in_features=512, out_features=512, bias=True)\n",
      "    (3): ReLU()\n",
      "    (4): Linear(in_features=512, out_features=10, bias=True)\n",
      "  )\n",
      ")\n"
     ]
    }
   ],
   "source": [
    "# Get cpu or gpu device for training.\n",
    "device = \"cuda\" if torch.cuda.is_available() else \"cpu\"\n",
    "print(f\"Using {device} device\")\n",
    "\n",
    "# Define model\n",
    "class NeuralNetwork(nn.Module):\n",
    "    def __init__(self):\n",
    "        super(NeuralNetwork, self).__init__()\n",
    "        self.flatten = nn.Flatten()\n",
    "        self.linear_relu_stack = nn.Sequential(\n",
    "            nn.Linear(28*28, 512),\n",
    "            nn.ReLU(),\n",
    "            nn.Linear(512, 512),\n",
    "            nn.ReLU(),\n",
    "            nn.Linear(512, 10)\n",
    "        )\n",
    "\n",
    "    def forward(self, x):\n",
    "        x = self.flatten(x)\n",
    "        logits = self.linear_relu_stack(x)\n",
    "        return logits\n",
    "\n",
    "model = NeuralNetwork().to(device)\n",
    "print(model)"
   ]
  },
  {
   "cell_type": "markdown",
   "id": "cbe9f644-5d31-41f9-9ee7-573ff91b9c50",
   "metadata": {},
   "source": [
    "# 3、Optimizing the Model Parameters"
   ]
  },
  {
   "cell_type": "markdown",
   "id": "19467ebf-4c56-4adb-a9d1-0339c382e419",
   "metadata": {},
   "source": [
    "## 训练模型需要损失函数和优化器"
   ]
  },
  {
   "cell_type": "code",
   "execution_count": 5,
   "id": "ca860542-f6a9-478c-a13d-b664fa327654",
   "metadata": {},
   "outputs": [],
   "source": [
    "loss_fn = nn.CrossEntropyLoss()\n",
    "optimizer = torch.optim.SGD(model.parameters(), lr=1e-3)"
   ]
  },
  {
   "cell_type": "markdown",
   "id": "74519f7e-2b46-4c44-9403-2dd58da5b147",
   "metadata": {},
   "source": [
    "## 在单个训练循环中，模型对训练数据集进行预测（分批输入），并反向传播预测误差以调整模型的参数。"
   ]
  },
  {
   "cell_type": "code",
   "execution_count": 6,
   "id": "080f1156-c2a1-4f0c-8799-ffa19a6e3957",
   "metadata": {},
   "outputs": [],
   "source": [
    "def train(dataloader, model, loss_fn, optimizer):\n",
    "    size = len(dataloader.dataset)\n",
    "    model.train()\n",
    "    for batch, (X, y) in enumerate(dataloader):\n",
    "        X, y = X.to(device), y.to(device)\n",
    "\n",
    "        # Compute prediction error\n",
    "        pred = model(X)\n",
    "        loss = loss_fn(pred, y)\n",
    "\n",
    "        # Backpropagation\n",
    "        optimizer.zero_grad()\n",
    "        loss.backward()\n",
    "        optimizer.step()\n",
    "\n",
    "        if batch % 100 == 0:\n",
    "            loss, current = loss.item(), batch * len(X)\n",
    "            print(f\"loss: {loss:>7f}  [{current:>5d}/{size:>5d}]\")"
   ]
  },
  {
   "cell_type": "markdown",
   "id": "e9cca75a-09ab-4e74-966b-fd35788d86f3",
   "metadata": {},
   "source": [
    "## 根据测试数据集检查模型的性能，以确保它正在学习"
   ]
  },
  {
   "cell_type": "code",
   "execution_count": 7,
   "id": "9db6aeec-cf98-4a1a-8a58-214dea85cfa1",
   "metadata": {},
   "outputs": [],
   "source": [
    "def test(dataloader, model, loss_fn):\n",
    "    size = len(dataloader.dataset)\n",
    "    num_batches = len(dataloader)\n",
    "    model.eval()\n",
    "    test_loss, correct = 0, 0\n",
    "    with torch.no_grad():\n",
    "        for X, y in dataloader:\n",
    "            X, y = X.to(device), y.to(device)\n",
    "            pred = model(X)\n",
    "            test_loss += loss_fn(pred, y).item()\n",
    "            correct += (pred.argmax(1) == y).type(torch.float).sum().item()\n",
    "    test_loss /= num_batches\n",
    "    correct /= size\n",
    "    print(f\"Test Error: \\n Accuracy: {(100*correct):>0.1f}%, Avg loss: {test_loss:>8f} \\n\")"
   ]
  },
  {
   "cell_type": "markdown",
   "id": "f4984020-0f6f-4437-a046-6f1576861afe",
   "metadata": {},
   "source": [
    "## 训练过程在多次迭代（epochs）中进行。在每个时期，模型都会学习参数以做出更好的预测。我们在每个时期打印模型的准确性和损失；我们希望看到每个 epoch 的准确率增加和损失减少。"
   ]
  },
  {
   "cell_type": "code",
   "execution_count": 8,
   "id": "5e124b77-abd3-4e82-bfba-38c49dc14809",
   "metadata": {},
   "outputs": [
    {
     "name": "stdout",
     "output_type": "stream",
     "text": [
      "Epoch 1\n",
      "-------------------------------\n",
      "loss: 2.298091  [    0/60000]\n",
      "loss: 2.294713  [ 6400/60000]\n",
      "loss: 2.275717  [12800/60000]\n",
      "loss: 2.278152  [19200/60000]\n",
      "loss: 2.262997  [25600/60000]\n",
      "loss: 2.230045  [32000/60000]\n",
      "loss: 2.239455  [38400/60000]\n",
      "loss: 2.200585  [44800/60000]\n",
      "loss: 2.205815  [51200/60000]\n",
      "loss: 2.192594  [57600/60000]\n",
      "Test Error: \n",
      " Accuracy: 42.6%, Avg loss: 2.174325 \n",
      "\n",
      "Epoch 2\n",
      "-------------------------------\n",
      "loss: 2.180664  [    0/60000]\n",
      "loss: 2.171505  [ 6400/60000]\n",
      "loss: 2.119699  [12800/60000]\n",
      "loss: 2.141972  [19200/60000]\n",
      "loss: 2.095224  [25600/60000]\n",
      "loss: 2.033992  [32000/60000]\n",
      "loss: 2.068475  [38400/60000]\n",
      "loss: 1.985889  [44800/60000]\n",
      "loss: 1.999347  [51200/60000]\n",
      "loss: 1.942659  [57600/60000]\n",
      "Test Error: \n",
      " Accuracy: 58.5%, Avg loss: 1.927404 \n",
      "\n",
      "Epoch 3\n",
      "-------------------------------\n",
      "loss: 1.955478  [    0/60000]\n",
      "loss: 1.927062  [ 6400/60000]\n",
      "loss: 1.814618  [12800/60000]\n",
      "loss: 1.864793  [19200/60000]\n",
      "loss: 1.754169  [25600/60000]\n",
      "loss: 1.695737  [32000/60000]\n",
      "loss: 1.736101  [38400/60000]\n",
      "loss: 1.622922  [44800/60000]\n",
      "loss: 1.650802  [51200/60000]\n",
      "loss: 1.556867  [57600/60000]\n",
      "Test Error: \n",
      " Accuracy: 62.0%, Avg loss: 1.561402 \n",
      "\n",
      "Epoch 4\n",
      "-------------------------------\n",
      "loss: 1.622475  [    0/60000]\n",
      "loss: 1.585018  [ 6400/60000]\n",
      "loss: 1.436733  [12800/60000]\n",
      "loss: 1.519503  [19200/60000]\n",
      "loss: 1.394437  [25600/60000]\n",
      "loss: 1.380868  [32000/60000]\n",
      "loss: 1.410965  [38400/60000]\n",
      "loss: 1.321484  [44800/60000]\n",
      "loss: 1.353670  [51200/60000]\n",
      "loss: 1.262990  [57600/60000]\n",
      "Test Error: \n",
      " Accuracy: 63.9%, Avg loss: 1.280852 \n",
      "\n",
      "Epoch 5\n",
      "-------------------------------\n",
      "loss: 1.357496  [    0/60000]\n",
      "loss: 1.333129  [ 6400/60000]\n",
      "loss: 1.170630  [12800/60000]\n",
      "loss: 1.284944  [19200/60000]\n",
      "loss: 1.157509  [25600/60000]\n",
      "loss: 1.175329  [32000/60000]\n",
      "loss: 1.207862  [38400/60000]\n",
      "loss: 1.133927  [44800/60000]\n",
      "loss: 1.167193  [51200/60000]\n",
      "loss: 1.090404  [57600/60000]\n",
      "Test Error: \n",
      " Accuracy: 65.2%, Avg loss: 1.106008 \n",
      "\n",
      "Done!\n"
     ]
    }
   ],
   "source": [
    "epochs = 5\n",
    "for t in range(epochs):\n",
    "    print(f\"Epoch {t+1}\\n-------------------------------\")\n",
    "    train(train_dataloader, model, loss_fn, optimizer)\n",
    "    test(test_dataloader, model, loss_fn)\n",
    "print(\"Done!\")"
   ]
  },
  {
   "cell_type": "markdown",
   "id": "e8590313-40bf-4ffe-a61e-1e2f5881a7bb",
   "metadata": {},
   "source": [
    "# Saving Models"
   ]
  },
  {
   "cell_type": "markdown",
   "id": "8b958c17-38b4-4d32-a876-bc6e31936c65",
   "metadata": {},
   "source": [
    "## 保存模型的常用方法是序列化内部状态字典（包含模型参数）。"
   ]
  },
  {
   "cell_type": "code",
   "execution_count": 9,
   "id": "36668690-354c-4186-a14f-85b1bee942f8",
   "metadata": {},
   "outputs": [
    {
     "name": "stdout",
     "output_type": "stream",
     "text": [
      "Saved PyTorch Model State to model.pth\n"
     ]
    }
   ],
   "source": [
    "torch.save(model.state_dict(), \"model.pth\")\n",
    "print(\"Saved PyTorch Model State to model.pth\")"
   ]
  },
  {
   "cell_type": "markdown",
   "id": "0bc6efd0-0f57-4ea6-b2d6-ae2ad46b407c",
   "metadata": {},
   "source": [
    "# Loading Models"
   ]
  },
  {
   "cell_type": "markdown",
   "id": "7173b2e2-57c6-4e8d-ba15-8e2911a19336",
   "metadata": {},
   "source": [
    "## 加载模型的过程包括重新创建模型结构并将状态字典加载到其中。"
   ]
  },
  {
   "cell_type": "code",
   "execution_count": 10,
   "id": "dce6a14e-a90a-4e89-a04e-e69ba3ee8ff7",
   "metadata": {},
   "outputs": [
    {
     "data": {
      "text/plain": [
       "<All keys matched successfully>"
      ]
     },
     "execution_count": 10,
     "metadata": {},
     "output_type": "execute_result"
    }
   ],
   "source": [
    "model = NeuralNetwork()\n",
    "model.load_state_dict(torch.load(\"model.pth\"))"
   ]
  },
  {
   "cell_type": "code",
   "execution_count": 11,
   "id": "6be2e7b9-e147-42d8-aca2-b334856893e0",
   "metadata": {},
   "outputs": [
    {
     "name": "stdout",
     "output_type": "stream",
     "text": [
      "Predicted: \"Ankle boot\", Actual: \"Ankle boot\"\n"
     ]
    }
   ],
   "source": [
    "classes = [\n",
    "    \"T-shirt/top\",\n",
    "    \"Trouser\",\n",
    "    \"Pullover\",\n",
    "    \"Dress\",\n",
    "    \"Coat\",\n",
    "    \"Sandal\",\n",
    "    \"Shirt\",\n",
    "    \"Sneaker\",\n",
    "    \"Bag\",\n",
    "    \"Ankle boot\",\n",
    "]\n",
    "\n",
    "model.eval()\n",
    "x, y = test_data[0][0], test_data[0][1]\n",
    "with torch.no_grad():\n",
    "    pred = model(x)\n",
    "    predicted, actual = classes[pred[0].argmax(0)], classes[y]\n",
    "    print(f'Predicted: \"{predicted}\", Actual: \"{actual}\"')"
   ]
  },
  {
   "cell_type": "code",
   "execution_count": null,
   "id": "3c7fd02d-f33b-4dfe-86d9-f80f4e1379c4",
   "metadata": {},
   "outputs": [],
   "source": []
  }
 ],
 "metadata": {
  "kernelspec": {
   "display_name": "Python 3 (ipykernel)",
   "language": "python",
   "name": "python3"
  },
  "language_info": {
   "codemirror_mode": {
    "name": "ipython",
    "version": 3
   },
   "file_extension": ".py",
   "mimetype": "text/x-python",
   "name": "python",
   "nbconvert_exporter": "python",
   "pygments_lexer": "ipython3",
   "version": "3.9.12"
  }
 },
 "nbformat": 4,
 "nbformat_minor": 5
}
