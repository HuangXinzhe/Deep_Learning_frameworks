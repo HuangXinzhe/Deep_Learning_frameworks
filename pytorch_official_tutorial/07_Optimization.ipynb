{
 "cells": [
  {
   "cell_type": "markdown",
   "id": "9f23ceca",
   "metadata": {},
   "source": [
    "## OPTIMIZING MODEL PARAMETERS\n",
    "## 优化模型参数"
   ]
  },
  {
   "cell_type": "markdown",
   "id": "dbb811cc",
   "metadata": {},
   "source": [
    "现在我们有了模型和数据，是时候通过优化数据上的参数来训练、验证和测试我们的模型了。训练模型是一个迭代过程；在每次迭代（称为epoch）中，模型对输出进行猜测，计算猜测中的误差（损失），收集误差相对于其参数的导数（如我们在上一节中所见），并优化这些参数使用梯度下降"
   ]
  },
  {
   "cell_type": "markdown",
   "id": "979a1818",
   "metadata": {},
   "source": [
    "### Prerequisite Code\n",
    "### 先决条件代码"
   ]
  },
  {
   "cell_type": "markdown",
   "id": "61c23a18",
   "metadata": {},
   "source": [
    "加载Datasets，DataLoaders和构建的模型"
   ]
  },
  {
   "cell_type": "code",
   "execution_count": 1,
   "id": "147e5f7c",
   "metadata": {},
   "outputs": [],
   "source": [
    "import torch\n",
    "from torch import nn\n",
    "from torch.utils.data import DataLoader\n",
    "from torchvision import datasets\n",
    "from torchvision.transforms import ToTensor, Lambda\n",
    "\n",
    "training_data = datasets.FashionMNIST(\n",
    "    root=\"data\",\n",
    "    train=True,\n",
    "    download=True,\n",
    "    transform=ToTensor()\n",
    ")\n",
    "\n",
    "test_data = datasets.FashionMNIST(\n",
    "    root=\"data\",\n",
    "    train=False,\n",
    "    download=True,\n",
    "    transform=ToTensor()\n",
    ")\n",
    "\n",
    "train_dataloader = DataLoader(training_data, batch_size=64)\n",
    "test_dataloader = DataLoader(test_data, batch_size=64)\n",
    "\n",
    "class NeuralNetwork(nn.Module):\n",
    "    def __init__(self):\n",
    "        super(NeuralNetwork, self).__init__()\n",
    "        self.flatten = nn.Flatten()\n",
    "        self.linear_relu_stack = nn.Sequential(\n",
    "            nn.Linear(28*28, 512),\n",
    "            nn.ReLU(),\n",
    "            nn.Linear(512, 512),\n",
    "            nn.ReLU(),\n",
    "            nn.Linear(512, 10),\n",
    "        )\n",
    "\n",
    "    def forward(self, x):\n",
    "        x = self.flatten(x)\n",
    "        logits = self.linear_relu_stack(x)\n",
    "        return logits\n",
    "\n",
    "model = NeuralNetwork()"
   ]
  },
  {
   "cell_type": "markdown",
   "id": "7b3581a2",
   "metadata": {},
   "source": [
    "### Hyperparameters\n",
    "### 超参数"
   ]
  },
  {
   "cell_type": "markdown",
   "id": "75687256",
   "metadata": {},
   "source": [
    "超参数是可调整的参数，可让您控制模型优化过程。不同的超参数值会影响模型训练和收敛速度（阅读有关超参数调整的更多信息）\n",
    "\n",
    "为训练定义了以下超参数：\n",
    "- Number of Epochs - 迭代数据集的次数\n",
    "- Batch Size - 参数更新前通过网络传播的数据样本数\n",
    "- 学习率- 在每个批次/时期更新模型参数的程度。较小的值会产生较慢的学习速度，而较大的值可能会导致训练期间出现不可预测的行为。"
   ]
  },
  {
   "cell_type": "code",
   "execution_count": 2,
   "id": "df56775e",
   "metadata": {},
   "outputs": [],
   "source": [
    "learning_rate = 1e-3\n",
    "batch_size = 64\n",
    "epochs = 5"
   ]
  },
  {
   "cell_type": "markdown",
   "id": "64143ff0",
   "metadata": {},
   "source": [
    "### Optimization Loop\n",
    "### 优化循环"
   ]
  },
  {
   "cell_type": "markdown",
   "id": "94f85865",
   "metadata": {},
   "source": [
    "一旦设置了超参数，就可以使用优化循环来训练和优化模型。优化循环的每次迭代称为epoch。\n",
    "\n",
    "每个时期包括两个主要部分：\n",
    "- 训练循环- 迭代训练数据集并尝试收敛到最佳参数\n",
    "- 验证/测试循环- 迭代测试数据集以检查模型性能是否正在改善"
   ]
  },
  {
   "cell_type": "markdown",
   "id": "540b82ff",
   "metadata": {},
   "source": [
    "### Loss Function\n",
    "### 损失函数"
   ]
  },
  {
   "cell_type": "markdown",
   "id": "68aabd07",
   "metadata": {},
   "source": [
    "当呈现一些训练数据时，我们未经训练的网络可能不会给出正确的答案。损失函数衡量得到的结果与目标值的相异程度，是我们在训练时要最小化的损失函数。为了计算损失，我们使用给定数据样本的输入进行预测，并将其与真实数据标签值进行比较。\n",
    "\n",
    "常见的损失函数包括用于回归任务的nn.MSELoss（均方误差）和 用于分类的nn.NLLLoss（负对数似然）。 nn.CrossEntropyLoss结合nn.LogSoftmax和nn.NLLLoss。\n",
    "\n",
    "我们将模型的输出 logits 传递给nn.CrossEntropyLoss，这将对 logits 进行归一化并计算预测误差。"
   ]
  },
  {
   "cell_type": "code",
   "execution_count": 3,
   "id": "2e0a971b",
   "metadata": {},
   "outputs": [],
   "source": [
    "# Initialize the loss function\n",
    "loss_fn = nn.CrossEntropyLoss()"
   ]
  },
  {
   "cell_type": "markdown",
   "id": "2e9a21bf",
   "metadata": {},
   "source": [
    "### Optimizer\n",
    "### 优化器"
   ]
  },
  {
   "cell_type": "markdown",
   "id": "90c7b05f",
   "metadata": {},
   "source": [
    "优化是在每个训练步骤中调整模型参数以减少模型误差的过程。优化算法定义了如何执行这个过程（在这个例子中，我们使用随机梯度下降）。所有优化逻辑都封装在optimizer对象中。在这里，我们使用 SGD 优化器；此外，PyTorch 中有许多不同的优化器 可用，例如 ADAM 和 RMSProp，它们可以更好地用于不同类型的模型和数据。\n",
    "\n",
    "我们通过记录模型需要训练的参数并传入学习率超参数来初始化优化器"
   ]
  },
  {
   "cell_type": "code",
   "execution_count": 4,
   "id": "b7b7f802",
   "metadata": {},
   "outputs": [],
   "source": [
    "optimizer = torch.optim.SGD(model.parameters(), lr=learning_rate)"
   ]
  },
  {
   "cell_type": "markdown",
   "id": "bd237c8a",
   "metadata": {},
   "source": [
    "在训练循环中，优化分三个步骤进行：\n",
    "- 调用optimizer.zero_grad()以重置模型参数的梯度。默认情况下渐变加起来；为了防止重复计算，我们在每次迭代时明确地将它们归零。\n",
    "- 通过调用来反向传播预测损失loss.backward()。PyTorch 存储每个参数的损失梯度。\n",
    "- 一旦我们有了我们的梯度，我们调用optimizer.step()通过在反向传递中收集的梯度来调整参数。"
   ]
  },
  {
   "cell_type": "markdown",
   "id": "722ce626",
   "metadata": {},
   "source": [
    "### Full Implementation\n",
    "### 完整执行"
   ]
  },
  {
   "cell_type": "markdown",
   "id": "613884de",
   "metadata": {},
   "source": [
    "定义train_loop循环优化代码，并test_loop根据我们的测试数据评估模型的性能"
   ]
  },
  {
   "cell_type": "code",
   "execution_count": 5,
   "id": "d2537c03",
   "metadata": {},
   "outputs": [],
   "source": [
    "def train_loop(dataloader, model, loss_fn, optimizer):\n",
    "    size = len(dataloader.dataset)\n",
    "    for batch, (X, y) in enumerate(dataloader):\n",
    "        # Compute prediction and loss\n",
    "        pred = model(X)\n",
    "        loss = loss_fn(pred, y)\n",
    "\n",
    "        # Backpropagation\n",
    "        optimizer.zero_grad()\n",
    "        loss.backward()\n",
    "        optimizer.step()\n",
    "\n",
    "        if batch % 100 == 0:\n",
    "            loss, current = loss.item(), batch * len(X)\n",
    "            print(f\"loss: {loss:>7f}  [{current:>5d}/{size:>5d}]\")\n",
    "\n",
    "\n",
    "def test_loop(dataloader, model, loss_fn):\n",
    "    size = len(dataloader.dataset)\n",
    "    num_batches = len(dataloader)\n",
    "    test_loss, correct = 0, 0\n",
    "\n",
    "    with torch.no_grad():\n",
    "        for X, y in dataloader:\n",
    "            pred = model(X)\n",
    "            test_loss += loss_fn(pred, y).item()\n",
    "            correct += (pred.argmax(1) == y).type(torch.float).sum().item()\n",
    "\n",
    "    test_loss /= num_batches\n",
    "    correct /= size\n",
    "    print(f\"Test Error: \\n Accuracy: {(100*correct):>0.1f}%, Avg loss: {test_loss:>8f} \\n\")"
   ]
  },
  {
   "cell_type": "markdown",
   "id": "64a757f8",
   "metadata": {},
   "source": [
    "初始化损失函数和优化器，并将其传递给train_loop和test_loop。随意增加 epoch 的数量来跟踪模型的改进性能。"
   ]
  },
  {
   "cell_type": "code",
   "execution_count": 6,
   "id": "a1b7712c",
   "metadata": {},
   "outputs": [
    {
     "name": "stdout",
     "output_type": "stream",
     "text": [
      "Epoch 1\n",
      "-------------------------------\n",
      "loss: 2.293444  [    0/60000]\n",
      "loss: 2.290363  [ 6400/60000]\n",
      "loss: 2.274277  [12800/60000]\n",
      "loss: 2.278600  [19200/60000]\n",
      "loss: 2.246149  [25600/60000]\n",
      "loss: 2.220686  [32000/60000]\n",
      "loss: 2.229470  [38400/60000]\n",
      "loss: 2.190457  [44800/60000]\n",
      "loss: 2.189467  [51200/60000]\n",
      "loss: 2.168111  [57600/60000]\n",
      "Test Error: \n",
      " Accuracy: 45.6%, Avg loss: 2.154398 \n",
      "\n",
      "Epoch 2\n",
      "-------------------------------\n",
      "loss: 2.156389  [    0/60000]\n",
      "loss: 2.152673  [ 6400/60000]\n",
      "loss: 2.094094  [12800/60000]\n",
      "loss: 2.118271  [19200/60000]\n",
      "loss: 2.055144  [25600/60000]\n",
      "loss: 2.001046  [32000/60000]\n",
      "loss: 2.033792  [38400/60000]\n",
      "loss: 1.947204  [44800/60000]\n",
      "loss: 1.958464  [51200/60000]\n",
      "loss: 1.902651  [57600/60000]\n",
      "Test Error: \n",
      " Accuracy: 54.0%, Avg loss: 1.884687 \n",
      "\n",
      "Epoch 3\n",
      "-------------------------------\n",
      "loss: 1.911248  [    0/60000]\n",
      "loss: 1.890589  [ 6400/60000]\n",
      "loss: 1.768520  [12800/60000]\n",
      "loss: 1.818163  [19200/60000]\n",
      "loss: 1.700204  [25600/60000]\n",
      "loss: 1.659029  [32000/60000]\n",
      "loss: 1.690338  [38400/60000]\n",
      "loss: 1.582451  [44800/60000]\n",
      "loss: 1.619802  [51200/60000]\n",
      "loss: 1.532141  [57600/60000]\n",
      "Test Error: \n",
      " Accuracy: 57.8%, Avg loss: 1.529657 \n",
      "\n",
      "Epoch 4\n",
      "-------------------------------\n",
      "loss: 1.591182  [    0/60000]\n",
      "loss: 1.567403  [ 6400/60000]\n",
      "loss: 1.412872  [12800/60000]\n",
      "loss: 1.486461  [19200/60000]\n",
      "loss: 1.368399  [25600/60000]\n",
      "loss: 1.363339  [32000/60000]\n",
      "loss: 1.378495  [38400/60000]\n",
      "loss: 1.298935  [44800/60000]\n",
      "loss: 1.344653  [51200/60000]\n",
      "loss: 1.250039  [57600/60000]\n",
      "Test Error: \n",
      " Accuracy: 61.6%, Avg loss: 1.267831 \n",
      "\n",
      "Epoch 5\n",
      "-------------------------------\n",
      "loss: 1.340772  [    0/60000]\n",
      "loss: 1.333854  [ 6400/60000]\n",
      "loss: 1.166403  [12800/60000]\n",
      "loss: 1.266260  [19200/60000]\n",
      "loss: 1.149001  [25600/60000]\n",
      "loss: 1.166364  [32000/60000]\n",
      "loss: 1.182761  [38400/60000]\n",
      "loss: 1.119432  [44800/60000]\n",
      "loss: 1.170129  [51200/60000]\n",
      "loss: 1.084440  [57600/60000]\n",
      "Test Error: \n",
      " Accuracy: 63.9%, Avg loss: 1.102756 \n",
      "\n",
      "Epoch 6\n",
      "-------------------------------\n",
      "loss: 1.171124  [    0/60000]\n",
      "loss: 1.183671  [ 6400/60000]\n",
      "loss: 1.000728  [12800/60000]\n",
      "loss: 1.129046  [19200/60000]\n",
      "loss: 1.009892  [25600/60000]\n",
      "loss: 1.032246  [32000/60000]\n",
      "loss: 1.063274  [38400/60000]\n",
      "loss: 1.004915  [44800/60000]\n",
      "loss: 1.056267  [51200/60000]\n",
      "loss: 0.982003  [57600/60000]\n",
      "Test Error: \n",
      " Accuracy: 65.1%, Avg loss: 0.995579 \n",
      "\n",
      "Epoch 7\n",
      "-------------------------------\n",
      "loss: 1.052317  [    0/60000]\n",
      "loss: 1.085608  [ 6400/60000]\n",
      "loss: 0.885892  [12800/60000]\n",
      "loss: 1.037811  [19200/60000]\n",
      "loss: 0.920962  [25600/60000]\n",
      "loss: 0.936999  [32000/60000]\n",
      "loss: 0.985827  [38400/60000]\n",
      "loss: 0.929895  [44800/60000]\n",
      "loss: 0.977228  [51200/60000]\n",
      "loss: 0.913283  [57600/60000]\n",
      "Test Error: \n",
      " Accuracy: 66.6%, Avg loss: 0.922007 \n",
      "\n",
      "Epoch 8\n",
      "-------------------------------\n",
      "loss: 0.964361  [    0/60000]\n",
      "loss: 1.017008  [ 6400/60000]\n",
      "loss: 0.802734  [12800/60000]\n",
      "loss: 0.972685  [19200/60000]\n",
      "loss: 0.861263  [25600/60000]\n",
      "loss: 0.866478  [32000/60000]\n",
      "loss: 0.931698  [38400/60000]\n",
      "loss: 0.879247  [44800/60000]\n",
      "loss: 0.919899  [51200/60000]\n",
      "loss: 0.863348  [57600/60000]\n",
      "Test Error: \n",
      " Accuracy: 67.7%, Avg loss: 0.868533 \n",
      "\n",
      "Epoch 9\n",
      "-------------------------------\n",
      "loss: 0.895985  [    0/60000]\n",
      "loss: 0.964952  [ 6400/60000]\n",
      "loss: 0.739893  [12800/60000]\n",
      "loss: 0.923263  [19200/60000]\n",
      "loss: 0.818652  [25600/60000]\n",
      "loss: 0.812825  [32000/60000]\n",
      "loss: 0.890777  [38400/60000]\n",
      "loss: 0.843603  [44800/60000]\n",
      "loss: 0.876477  [51200/60000]\n",
      "loss: 0.824551  [57600/60000]\n",
      "Test Error: \n",
      " Accuracy: 68.8%, Avg loss: 0.827654 \n",
      "\n",
      "Epoch 10\n",
      "-------------------------------\n",
      "loss: 0.840639  [    0/60000]\n",
      "loss: 0.922679  [ 6400/60000]\n",
      "loss: 0.690772  [12800/60000]\n",
      "loss: 0.883995  [19200/60000]\n",
      "loss: 0.786433  [25600/60000]\n",
      "loss: 0.771224  [32000/60000]\n",
      "loss: 0.857666  [38400/60000]\n",
      "loss: 0.817219  [44800/60000]\n",
      "loss: 0.842332  [51200/60000]\n",
      "loss: 0.793094  [57600/60000]\n",
      "Test Error: \n",
      " Accuracy: 70.1%, Avg loss: 0.795023 \n",
      "\n",
      "Done!\n"
     ]
    }
   ],
   "source": [
    "loss_fn = nn.CrossEntropyLoss()\n",
    "optimizer = torch.optim.SGD(model.parameters(), lr=learning_rate)\n",
    "\n",
    "epochs = 10\n",
    "for t in range(epochs):\n",
    "    print(f\"Epoch {t+1}\\n-------------------------------\")\n",
    "    train_loop(train_dataloader, model, loss_fn, optimizer)\n",
    "    test_loop(test_dataloader, model, loss_fn)\n",
    "print(\"Done!\")"
   ]
  },
  {
   "cell_type": "code",
   "execution_count": null,
   "id": "1240af66",
   "metadata": {},
   "outputs": [],
   "source": []
  }
 ],
 "metadata": {
  "kernelspec": {
   "display_name": "Python 3",
   "language": "python",
   "name": "python3"
  },
  "language_info": {
   "codemirror_mode": {
    "name": "ipython",
    "version": 3
   },
   "file_extension": ".py",
   "mimetype": "text/x-python",
   "name": "python",
   "nbconvert_exporter": "python",
   "pygments_lexer": "ipython3",
   "version": "3.8.13"
  }
 },
 "nbformat": 4,
 "nbformat_minor": 5
}
